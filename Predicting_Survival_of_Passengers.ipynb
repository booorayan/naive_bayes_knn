{
  "nbformat": 4,
  "nbformat_minor": 0,
  "metadata": {
    "colab": {
      "name": "Predicting Survival of Passengers",
      "provenance": [],
      "collapsed_sections": [],
      "include_colab_link": true
    },
    "kernelspec": {
      "name": "python3",
      "display_name": "Python 3"
    },
    "accelerator": "GPU"
  },
  "cells": [
    {
      "cell_type": "markdown",
      "metadata": {
        "id": "view-in-github",
        "colab_type": "text"
      },
      "source": [
        "<a href=\"https://colab.research.google.com/github/booorayan/naive_bayes_knn/blob/master/Predicting_Survival_of_Passengers.ipynb\" target=\"_parent\"><img src=\"https://colab.research.google.com/assets/colab-badge.svg\" alt=\"Open In Colab\"/></a>"
      ]
    },
    {
      "cell_type": "markdown",
      "metadata": {
        "id": "S1JQ7BgFtIx-",
        "colab_type": "text"
      },
      "source": [
        "# Predicting the Survival of Passengers Using Titanic Dataset"
      ]
    },
    {
      "cell_type": "markdown",
      "metadata": {
        "id": "ezkd82I-taEA",
        "colab_type": "text"
      },
      "source": [
        "## Defining the Question"
      ]
    },
    {
      "cell_type": "markdown",
      "metadata": {
        "id": "1oA2uQg3tjCR",
        "colab_type": "text"
      },
      "source": [
        "## Importing the Required Libraries"
      ]
    },
    {
      "cell_type": "code",
      "metadata": {
        "id": "A_CB8j25ucD0",
        "colab_type": "code",
        "colab": {}
      },
      "source": [
        "import pandas as pd\n",
        "import numpy as np\n",
        "import matplotlib.pyplot as plt\n",
        "%matplotlib inline\n",
        "import seaborn as sns; sns.set()\n",
        "\n",
        "from sklearn.neighbors import KNeighborsClassifier\n",
        "from sklearn.preprocessing import StandardScaler\n",
        "from sklearn.model_selection import train_test_split\n",
        "from sklearn import metrics"
      ],
      "execution_count": 0,
      "outputs": []
    },
    {
      "cell_type": "code",
      "metadata": {
        "id": "9KRkE-8A2ok7",
        "colab_type": "code",
        "colab": {}
      },
      "source": [
        "# enabling mulitple display in the same cell\n",
        "\n",
        "from IPython.core.interactiveshell import InteractiveShell\n",
        "InteractiveShell.ast_node_interactivity = 'all'"
      ],
      "execution_count": 0,
      "outputs": []
    },
    {
      "cell_type": "markdown",
      "metadata": {
        "id": "HPGfz3OOtkLD",
        "colab_type": "text"
      },
      "source": [
        "## Loading the Dataset"
      ]
    },
    {
      "cell_type": "code",
      "metadata": {
        "id": "ApWe7Y0FudeB",
        "colab_type": "code",
        "colab": {}
      },
      "source": [
        "# loading the csv file as a dataframe using pd.read_csv function\n",
        "titan = pd.read_csv('train.csv')\n",
        "\n"
      ],
      "execution_count": 0,
      "outputs": []
    },
    {
      "cell_type": "code",
      "metadata": {
        "id": "a9kqbCNNzR9y",
        "colab_type": "code",
        "colab": {
          "base_uri": "https://localhost:8080/",
          "height": 1000
        },
        "outputId": "1f027280-3780-4f22-b99c-457dcae8d21d"
      },
      "source": [
        "# previewing the first and last five observations in the train dataset\n",
        "# previewing the first five observations in the dataset\n",
        "print('\\033[1m  First Five Observations:\\033[0m \\n')\n",
        "titan.head()\n",
        "\n",
        "# previewing the last five observations \n",
        "print('\\n\\n\\n\\033[1m  Last Five Observations:\\033[0m \\n' )\n",
        "titan.tail()"
      ],
      "execution_count": 788,
      "outputs": [
        {
          "output_type": "stream",
          "text": [
            "\u001b[1m  First Five Observations:\u001b[0m \n",
            "\n"
          ],
          "name": "stdout"
        },
        {
          "output_type": "execute_result",
          "data": {
            "text/html": [
              "<div>\n",
              "<style scoped>\n",
              "    .dataframe tbody tr th:only-of-type {\n",
              "        vertical-align: middle;\n",
              "    }\n",
              "\n",
              "    .dataframe tbody tr th {\n",
              "        vertical-align: top;\n",
              "    }\n",
              "\n",
              "    .dataframe thead th {\n",
              "        text-align: right;\n",
              "    }\n",
              "</style>\n",
              "<table border=\"1\" class=\"dataframe\">\n",
              "  <thead>\n",
              "    <tr style=\"text-align: right;\">\n",
              "      <th></th>\n",
              "      <th>PassengerId</th>\n",
              "      <th>Survived</th>\n",
              "      <th>Pclass</th>\n",
              "      <th>Name</th>\n",
              "      <th>Sex</th>\n",
              "      <th>Age</th>\n",
              "      <th>SibSp</th>\n",
              "      <th>Parch</th>\n",
              "      <th>Ticket</th>\n",
              "      <th>Fare</th>\n",
              "      <th>Cabin</th>\n",
              "      <th>Embarked</th>\n",
              "    </tr>\n",
              "  </thead>\n",
              "  <tbody>\n",
              "    <tr>\n",
              "      <th>0</th>\n",
              "      <td>1</td>\n",
              "      <td>0</td>\n",
              "      <td>3</td>\n",
              "      <td>Braund, Mr. Owen Harris</td>\n",
              "      <td>male</td>\n",
              "      <td>22.0</td>\n",
              "      <td>1</td>\n",
              "      <td>0</td>\n",
              "      <td>A/5 21171</td>\n",
              "      <td>7.2500</td>\n",
              "      <td>NaN</td>\n",
              "      <td>S</td>\n",
              "    </tr>\n",
              "    <tr>\n",
              "      <th>1</th>\n",
              "      <td>2</td>\n",
              "      <td>1</td>\n",
              "      <td>1</td>\n",
              "      <td>Cumings, Mrs. John Bradley (Florence Briggs Th...</td>\n",
              "      <td>female</td>\n",
              "      <td>38.0</td>\n",
              "      <td>1</td>\n",
              "      <td>0</td>\n",
              "      <td>PC 17599</td>\n",
              "      <td>71.2833</td>\n",
              "      <td>C85</td>\n",
              "      <td>C</td>\n",
              "    </tr>\n",
              "    <tr>\n",
              "      <th>2</th>\n",
              "      <td>3</td>\n",
              "      <td>1</td>\n",
              "      <td>3</td>\n",
              "      <td>Heikkinen, Miss. Laina</td>\n",
              "      <td>female</td>\n",
              "      <td>26.0</td>\n",
              "      <td>0</td>\n",
              "      <td>0</td>\n",
              "      <td>STON/O2. 3101282</td>\n",
              "      <td>7.9250</td>\n",
              "      <td>NaN</td>\n",
              "      <td>S</td>\n",
              "    </tr>\n",
              "    <tr>\n",
              "      <th>3</th>\n",
              "      <td>4</td>\n",
              "      <td>1</td>\n",
              "      <td>1</td>\n",
              "      <td>Futrelle, Mrs. Jacques Heath (Lily May Peel)</td>\n",
              "      <td>female</td>\n",
              "      <td>35.0</td>\n",
              "      <td>1</td>\n",
              "      <td>0</td>\n",
              "      <td>113803</td>\n",
              "      <td>53.1000</td>\n",
              "      <td>C123</td>\n",
              "      <td>S</td>\n",
              "    </tr>\n",
              "    <tr>\n",
              "      <th>4</th>\n",
              "      <td>5</td>\n",
              "      <td>0</td>\n",
              "      <td>3</td>\n",
              "      <td>Allen, Mr. William Henry</td>\n",
              "      <td>male</td>\n",
              "      <td>35.0</td>\n",
              "      <td>0</td>\n",
              "      <td>0</td>\n",
              "      <td>373450</td>\n",
              "      <td>8.0500</td>\n",
              "      <td>NaN</td>\n",
              "      <td>S</td>\n",
              "    </tr>\n",
              "  </tbody>\n",
              "</table>\n",
              "</div>"
            ],
            "text/plain": [
              "   PassengerId  Survived  Pclass  ...     Fare Cabin  Embarked\n",
              "0            1         0       3  ...   7.2500   NaN         S\n",
              "1            2         1       1  ...  71.2833   C85         C\n",
              "2            3         1       3  ...   7.9250   NaN         S\n",
              "3            4         1       1  ...  53.1000  C123         S\n",
              "4            5         0       3  ...   8.0500   NaN         S\n",
              "\n",
              "[5 rows x 12 columns]"
            ]
          },
          "metadata": {
            "tags": []
          },
          "execution_count": 788
        },
        {
          "output_type": "stream",
          "text": [
            "\n",
            "\n",
            "\n",
            "\u001b[1m  Last Five Observations:\u001b[0m \n",
            "\n"
          ],
          "name": "stdout"
        },
        {
          "output_type": "execute_result",
          "data": {
            "text/html": [
              "<div>\n",
              "<style scoped>\n",
              "    .dataframe tbody tr th:only-of-type {\n",
              "        vertical-align: middle;\n",
              "    }\n",
              "\n",
              "    .dataframe tbody tr th {\n",
              "        vertical-align: top;\n",
              "    }\n",
              "\n",
              "    .dataframe thead th {\n",
              "        text-align: right;\n",
              "    }\n",
              "</style>\n",
              "<table border=\"1\" class=\"dataframe\">\n",
              "  <thead>\n",
              "    <tr style=\"text-align: right;\">\n",
              "      <th></th>\n",
              "      <th>PassengerId</th>\n",
              "      <th>Survived</th>\n",
              "      <th>Pclass</th>\n",
              "      <th>Name</th>\n",
              "      <th>Sex</th>\n",
              "      <th>Age</th>\n",
              "      <th>SibSp</th>\n",
              "      <th>Parch</th>\n",
              "      <th>Ticket</th>\n",
              "      <th>Fare</th>\n",
              "      <th>Cabin</th>\n",
              "      <th>Embarked</th>\n",
              "    </tr>\n",
              "  </thead>\n",
              "  <tbody>\n",
              "    <tr>\n",
              "      <th>886</th>\n",
              "      <td>887</td>\n",
              "      <td>0</td>\n",
              "      <td>2</td>\n",
              "      <td>Montvila, Rev. Juozas</td>\n",
              "      <td>male</td>\n",
              "      <td>27.0</td>\n",
              "      <td>0</td>\n",
              "      <td>0</td>\n",
              "      <td>211536</td>\n",
              "      <td>13.00</td>\n",
              "      <td>NaN</td>\n",
              "      <td>S</td>\n",
              "    </tr>\n",
              "    <tr>\n",
              "      <th>887</th>\n",
              "      <td>888</td>\n",
              "      <td>1</td>\n",
              "      <td>1</td>\n",
              "      <td>Graham, Miss. Margaret Edith</td>\n",
              "      <td>female</td>\n",
              "      <td>19.0</td>\n",
              "      <td>0</td>\n",
              "      <td>0</td>\n",
              "      <td>112053</td>\n",
              "      <td>30.00</td>\n",
              "      <td>B42</td>\n",
              "      <td>S</td>\n",
              "    </tr>\n",
              "    <tr>\n",
              "      <th>888</th>\n",
              "      <td>889</td>\n",
              "      <td>0</td>\n",
              "      <td>3</td>\n",
              "      <td>Johnston, Miss. Catherine Helen \"Carrie\"</td>\n",
              "      <td>female</td>\n",
              "      <td>NaN</td>\n",
              "      <td>1</td>\n",
              "      <td>2</td>\n",
              "      <td>W./C. 6607</td>\n",
              "      <td>23.45</td>\n",
              "      <td>NaN</td>\n",
              "      <td>S</td>\n",
              "    </tr>\n",
              "    <tr>\n",
              "      <th>889</th>\n",
              "      <td>890</td>\n",
              "      <td>1</td>\n",
              "      <td>1</td>\n",
              "      <td>Behr, Mr. Karl Howell</td>\n",
              "      <td>male</td>\n",
              "      <td>26.0</td>\n",
              "      <td>0</td>\n",
              "      <td>0</td>\n",
              "      <td>111369</td>\n",
              "      <td>30.00</td>\n",
              "      <td>C148</td>\n",
              "      <td>C</td>\n",
              "    </tr>\n",
              "    <tr>\n",
              "      <th>890</th>\n",
              "      <td>891</td>\n",
              "      <td>0</td>\n",
              "      <td>3</td>\n",
              "      <td>Dooley, Mr. Patrick</td>\n",
              "      <td>male</td>\n",
              "      <td>32.0</td>\n",
              "      <td>0</td>\n",
              "      <td>0</td>\n",
              "      <td>370376</td>\n",
              "      <td>7.75</td>\n",
              "      <td>NaN</td>\n",
              "      <td>Q</td>\n",
              "    </tr>\n",
              "  </tbody>\n",
              "</table>\n",
              "</div>"
            ],
            "text/plain": [
              "     PassengerId  Survived  Pclass  ...   Fare Cabin  Embarked\n",
              "886          887         0       2  ...  13.00   NaN         S\n",
              "887          888         1       1  ...  30.00   B42         S\n",
              "888          889         0       3  ...  23.45   NaN         S\n",
              "889          890         1       1  ...  30.00  C148         C\n",
              "890          891         0       3  ...   7.75   NaN         Q\n",
              "\n",
              "[5 rows x 12 columns]"
            ]
          },
          "metadata": {
            "tags": []
          },
          "execution_count": 788
        }
      ]
    },
    {
      "cell_type": "markdown",
      "metadata": {
        "id": "MyJIYc89tlRL",
        "colab_type": "text"
      },
      "source": [
        "## Exploring & Tidying the Dataframe"
      ]
    },
    {
      "cell_type": "code",
      "metadata": {
        "id": "VwemRfFPuehH",
        "colab_type": "code",
        "colab": {
          "base_uri": "https://localhost:8080/",
          "height": 92
        },
        "outputId": "685089a8-1734-4a4e-906b-223e0052b3c7"
      },
      "source": [
        "# checking the names of columns in the dataframe\n",
        "titan.columns"
      ],
      "execution_count": 789,
      "outputs": [
        {
          "output_type": "execute_result",
          "data": {
            "text/plain": [
              "Index(['PassengerId', 'Survived', 'Pclass', 'Name', 'Sex', 'Age', 'SibSp',\n",
              "       'Parch', 'Ticket', 'Fare', 'Cabin', 'Embarked'],\n",
              "      dtype='object')"
            ]
          },
          "metadata": {
            "tags": []
          },
          "execution_count": 789
        }
      ]
    },
    {
      "cell_type": "code",
      "metadata": {
        "id": "32x05pHsuxq4",
        "colab_type": "code",
        "colab": {
          "base_uri": "https://localhost:8080/",
          "height": 92
        },
        "outputId": "06037898-83c9-4781-af6c-e8bce3a663d2"
      },
      "source": [
        "# changing the column names to lowercase\n",
        "titan.columns = titan.columns.str.lower()\n",
        "titan.columns"
      ],
      "execution_count": 790,
      "outputs": [
        {
          "output_type": "execute_result",
          "data": {
            "text/plain": [
              "Index(['passengerid', 'survived', 'pclass', 'name', 'sex', 'age', 'sibsp',\n",
              "       'parch', 'ticket', 'fare', 'cabin', 'embarked'],\n",
              "      dtype='object')"
            ]
          },
          "metadata": {
            "tags": []
          },
          "execution_count": 790
        }
      ]
    },
    {
      "cell_type": "code",
      "metadata": {
        "id": "iIQ75eJa3qQ6",
        "colab_type": "code",
        "colab": {
          "base_uri": "https://localhost:8080/",
          "height": 72
        },
        "outputId": "1426895a-ee6c-48e6-895e-2c082c0a823c"
      },
      "source": [
        "# checking the number of rows and columns and total no. of observations in the dataframe\n",
        "print('No. of rows:', titan.shape[0])\n",
        "print('No. of columns:', titan.shape[1])\n",
        "print('Total no. of observations:', titan.size)"
      ],
      "execution_count": 791,
      "outputs": [
        {
          "output_type": "stream",
          "text": [
            "No. of rows: 891\n",
            "No. of columns: 12\n",
            "Total no. of observations: 10692\n"
          ],
          "name": "stdout"
        }
      ]
    },
    {
      "cell_type": "code",
      "metadata": {
        "id": "N9u5OH23uz4N",
        "colab_type": "code",
        "colab": {
          "base_uri": "https://localhost:8080/",
          "height": 257
        },
        "outputId": "0f7f7eaf-3498-401f-8e51-101bbc69e55a"
      },
      "source": [
        "# checking if the columns have the correct datatypes\n",
        "titan.dtypes"
      ],
      "execution_count": 792,
      "outputs": [
        {
          "output_type": "execute_result",
          "data": {
            "text/plain": [
              "passengerid      int64\n",
              "survived         int64\n",
              "pclass           int64\n",
              "name            object\n",
              "sex             object\n",
              "age            float64\n",
              "sibsp            int64\n",
              "parch            int64\n",
              "ticket          object\n",
              "fare           float64\n",
              "cabin           object\n",
              "embarked        object\n",
              "dtype: object"
            ]
          },
          "metadata": {
            "tags": []
          },
          "execution_count": 792
        }
      ]
    },
    {
      "cell_type": "code",
      "metadata": {
        "id": "MpvhefWb5QtI",
        "colab_type": "code",
        "colab": {
          "base_uri": "https://localhost:8080/",
          "height": 331
        },
        "outputId": "4ef8f7e3-878a-47c8-bdd3-ae8379be9da3"
      },
      "source": [
        "# checking the no. of non-null values in the datframe\n",
        "titan.info()"
      ],
      "execution_count": 793,
      "outputs": [
        {
          "output_type": "stream",
          "text": [
            "<class 'pandas.core.frame.DataFrame'>\n",
            "RangeIndex: 891 entries, 0 to 890\n",
            "Data columns (total 12 columns):\n",
            "passengerid    891 non-null int64\n",
            "survived       891 non-null int64\n",
            "pclass         891 non-null int64\n",
            "name           891 non-null object\n",
            "sex            891 non-null object\n",
            "age            714 non-null float64\n",
            "sibsp          891 non-null int64\n",
            "parch          891 non-null int64\n",
            "ticket         891 non-null object\n",
            "fare           891 non-null float64\n",
            "cabin          204 non-null object\n",
            "embarked       889 non-null object\n",
            "dtypes: float64(2), int64(5), object(5)\n",
            "memory usage: 83.6+ KB\n"
          ],
          "name": "stdout"
        }
      ]
    },
    {
      "cell_type": "markdown",
      "metadata": {
        "id": "nkZSn5od5hi4",
        "colab_type": "text"
      },
      "source": [
        "From the output, we can see that some columns have null values (i.e cabin, age and embarked). The cabin column has a very high number of null values\n",
        "\n",
        "The dataframe has 2 columns of float datatype(i.e. fare & age), five integer columns(i.e. passengerid, survived, pclass, sibsp & parch) and 5 object columns (i.e. name, sex, ticket, cabin & embarked)"
      ]
    },
    {
      "cell_type": "code",
      "metadata": {
        "id": "t00UfufJ8MnX",
        "colab_type": "code",
        "colab": {
          "base_uri": "https://localhost:8080/",
          "height": 257
        },
        "outputId": "34aae427-1160-44bf-e61f-c09cb99b4fc2"
      },
      "source": [
        "# checking for number of missing values in each column\n",
        "titan.isnull().sum()"
      ],
      "execution_count": 794,
      "outputs": [
        {
          "output_type": "execute_result",
          "data": {
            "text/plain": [
              "passengerid      0\n",
              "survived         0\n",
              "pclass           0\n",
              "name             0\n",
              "sex              0\n",
              "age            177\n",
              "sibsp            0\n",
              "parch            0\n",
              "ticket           0\n",
              "fare             0\n",
              "cabin          687\n",
              "embarked         2\n",
              "dtype: int64"
            ]
          },
          "metadata": {
            "tags": []
          },
          "execution_count": 794
        }
      ]
    },
    {
      "cell_type": "markdown",
      "metadata": {
        "id": "P_Rv6qm68itM",
        "colab_type": "text"
      },
      "source": [
        "The age column has 177 null values, the cabin column 687 and the embarked column has 2 null values"
      ]
    },
    {
      "cell_type": "code",
      "metadata": {
        "id": "X7ilMEr9613p",
        "colab_type": "code",
        "colab": {
          "base_uri": "https://localhost:8080/",
          "height": 92
        },
        "outputId": "437f3062-93ef-4bb2-d30e-c9079d1b5944"
      },
      "source": [
        "# renaming the column passengerid to passenger_id\n",
        "titan.rename({'passengerid': 'passenger_id'}, axis=1, inplace=True) \n",
        "titan.columns"
      ],
      "execution_count": 795,
      "outputs": [
        {
          "output_type": "execute_result",
          "data": {
            "text/plain": [
              "Index(['passenger_id', 'survived', 'pclass', 'name', 'sex', 'age', 'sibsp',\n",
              "       'parch', 'ticket', 'fare', 'cabin', 'embarked'],\n",
              "      dtype='object')"
            ]
          },
          "metadata": {
            "tags": []
          },
          "execution_count": 795
        }
      ]
    },
    {
      "cell_type": "code",
      "metadata": {
        "id": "FIJuHLgw1tgM",
        "colab_type": "code",
        "colab": {
          "base_uri": "https://localhost:8080/",
          "height": 504
        },
        "outputId": "5b8b4365-6e6c-4eff-954c-1f20c3fa35b5"
      },
      "source": [
        "# dropping the ticket and cabin column based on the assumption that the two don't influence the cahnces of survival\n",
        "taitan = titan.drop(['ticket', 'cabin', 'passenger_id'], axis=1)\n",
        "\n",
        "# previewing the resulting dataframe\n",
        "taitan.head()"
      ],
      "execution_count": 796,
      "outputs": [
        {
          "output_type": "execute_result",
          "data": {
            "text/html": [
              "<div>\n",
              "<style scoped>\n",
              "    .dataframe tbody tr th:only-of-type {\n",
              "        vertical-align: middle;\n",
              "    }\n",
              "\n",
              "    .dataframe tbody tr th {\n",
              "        vertical-align: top;\n",
              "    }\n",
              "\n",
              "    .dataframe thead th {\n",
              "        text-align: right;\n",
              "    }\n",
              "</style>\n",
              "<table border=\"1\" class=\"dataframe\">\n",
              "  <thead>\n",
              "    <tr style=\"text-align: right;\">\n",
              "      <th></th>\n",
              "      <th>survived</th>\n",
              "      <th>pclass</th>\n",
              "      <th>name</th>\n",
              "      <th>sex</th>\n",
              "      <th>age</th>\n",
              "      <th>sibsp</th>\n",
              "      <th>parch</th>\n",
              "      <th>fare</th>\n",
              "      <th>embarked</th>\n",
              "    </tr>\n",
              "  </thead>\n",
              "  <tbody>\n",
              "    <tr>\n",
              "      <th>0</th>\n",
              "      <td>0</td>\n",
              "      <td>3</td>\n",
              "      <td>Braund, Mr. Owen Harris</td>\n",
              "      <td>male</td>\n",
              "      <td>22.0</td>\n",
              "      <td>1</td>\n",
              "      <td>0</td>\n",
              "      <td>7.2500</td>\n",
              "      <td>S</td>\n",
              "    </tr>\n",
              "    <tr>\n",
              "      <th>1</th>\n",
              "      <td>1</td>\n",
              "      <td>1</td>\n",
              "      <td>Cumings, Mrs. John Bradley (Florence Briggs Th...</td>\n",
              "      <td>female</td>\n",
              "      <td>38.0</td>\n",
              "      <td>1</td>\n",
              "      <td>0</td>\n",
              "      <td>71.2833</td>\n",
              "      <td>C</td>\n",
              "    </tr>\n",
              "    <tr>\n",
              "      <th>2</th>\n",
              "      <td>1</td>\n",
              "      <td>3</td>\n",
              "      <td>Heikkinen, Miss. Laina</td>\n",
              "      <td>female</td>\n",
              "      <td>26.0</td>\n",
              "      <td>0</td>\n",
              "      <td>0</td>\n",
              "      <td>7.9250</td>\n",
              "      <td>S</td>\n",
              "    </tr>\n",
              "    <tr>\n",
              "      <th>3</th>\n",
              "      <td>1</td>\n",
              "      <td>1</td>\n",
              "      <td>Futrelle, Mrs. Jacques Heath (Lily May Peel)</td>\n",
              "      <td>female</td>\n",
              "      <td>35.0</td>\n",
              "      <td>1</td>\n",
              "      <td>0</td>\n",
              "      <td>53.1000</td>\n",
              "      <td>S</td>\n",
              "    </tr>\n",
              "    <tr>\n",
              "      <th>4</th>\n",
              "      <td>0</td>\n",
              "      <td>3</td>\n",
              "      <td>Allen, Mr. William Henry</td>\n",
              "      <td>male</td>\n",
              "      <td>35.0</td>\n",
              "      <td>0</td>\n",
              "      <td>0</td>\n",
              "      <td>8.0500</td>\n",
              "      <td>S</td>\n",
              "    </tr>\n",
              "  </tbody>\n",
              "</table>\n",
              "</div>"
            ],
            "text/plain": [
              "   survived  pclass  ...     fare embarked\n",
              "0         0       3  ...   7.2500        S\n",
              "1         1       1  ...  71.2833        C\n",
              "2         1       3  ...   7.9250        S\n",
              "3         1       1  ...  53.1000        S\n",
              "4         0       3  ...   8.0500        S\n",
              "\n",
              "[5 rows x 9 columns]"
            ]
          },
          "metadata": {
            "tags": []
          },
          "execution_count": 796
        }
      ]
    },
    {
      "cell_type": "code",
      "metadata": {
        "id": "DTEYPObB4OcN",
        "colab_type": "code",
        "colab": {
          "base_uri": "https://localhost:8080/",
          "height": 452
        },
        "outputId": "c0207464-cebd-418d-e046-2a92b9a28f6d"
      },
      "source": [
        "# usin regular expressions to extract the title of passengers form the name column.\n",
        "# expand = False returns a dataframe\n",
        "taitan['title'] = taitan.name.str.extract('([A-Za-z]+)\\.', expand=False)\n",
        "taitan.tail()"
      ],
      "execution_count": 797,
      "outputs": [
        {
          "output_type": "execute_result",
          "data": {
            "text/html": [
              "<div>\n",
              "<style scoped>\n",
              "    .dataframe tbody tr th:only-of-type {\n",
              "        vertical-align: middle;\n",
              "    }\n",
              "\n",
              "    .dataframe tbody tr th {\n",
              "        vertical-align: top;\n",
              "    }\n",
              "\n",
              "    .dataframe thead th {\n",
              "        text-align: right;\n",
              "    }\n",
              "</style>\n",
              "<table border=\"1\" class=\"dataframe\">\n",
              "  <thead>\n",
              "    <tr style=\"text-align: right;\">\n",
              "      <th></th>\n",
              "      <th>survived</th>\n",
              "      <th>pclass</th>\n",
              "      <th>name</th>\n",
              "      <th>sex</th>\n",
              "      <th>age</th>\n",
              "      <th>sibsp</th>\n",
              "      <th>parch</th>\n",
              "      <th>fare</th>\n",
              "      <th>embarked</th>\n",
              "      <th>title</th>\n",
              "    </tr>\n",
              "  </thead>\n",
              "  <tbody>\n",
              "    <tr>\n",
              "      <th>886</th>\n",
              "      <td>0</td>\n",
              "      <td>2</td>\n",
              "      <td>Montvila, Rev. Juozas</td>\n",
              "      <td>male</td>\n",
              "      <td>27.0</td>\n",
              "      <td>0</td>\n",
              "      <td>0</td>\n",
              "      <td>13.00</td>\n",
              "      <td>S</td>\n",
              "      <td>Rev</td>\n",
              "    </tr>\n",
              "    <tr>\n",
              "      <th>887</th>\n",
              "      <td>1</td>\n",
              "      <td>1</td>\n",
              "      <td>Graham, Miss. Margaret Edith</td>\n",
              "      <td>female</td>\n",
              "      <td>19.0</td>\n",
              "      <td>0</td>\n",
              "      <td>0</td>\n",
              "      <td>30.00</td>\n",
              "      <td>S</td>\n",
              "      <td>Miss</td>\n",
              "    </tr>\n",
              "    <tr>\n",
              "      <th>888</th>\n",
              "      <td>0</td>\n",
              "      <td>3</td>\n",
              "      <td>Johnston, Miss. Catherine Helen \"Carrie\"</td>\n",
              "      <td>female</td>\n",
              "      <td>NaN</td>\n",
              "      <td>1</td>\n",
              "      <td>2</td>\n",
              "      <td>23.45</td>\n",
              "      <td>S</td>\n",
              "      <td>Miss</td>\n",
              "    </tr>\n",
              "    <tr>\n",
              "      <th>889</th>\n",
              "      <td>1</td>\n",
              "      <td>1</td>\n",
              "      <td>Behr, Mr. Karl Howell</td>\n",
              "      <td>male</td>\n",
              "      <td>26.0</td>\n",
              "      <td>0</td>\n",
              "      <td>0</td>\n",
              "      <td>30.00</td>\n",
              "      <td>C</td>\n",
              "      <td>Mr</td>\n",
              "    </tr>\n",
              "    <tr>\n",
              "      <th>890</th>\n",
              "      <td>0</td>\n",
              "      <td>3</td>\n",
              "      <td>Dooley, Mr. Patrick</td>\n",
              "      <td>male</td>\n",
              "      <td>32.0</td>\n",
              "      <td>0</td>\n",
              "      <td>0</td>\n",
              "      <td>7.75</td>\n",
              "      <td>Q</td>\n",
              "      <td>Mr</td>\n",
              "    </tr>\n",
              "  </tbody>\n",
              "</table>\n",
              "</div>"
            ],
            "text/plain": [
              "     survived  pclass  ... embarked title\n",
              "886         0       2  ...        S   Rev\n",
              "887         1       1  ...        S  Miss\n",
              "888         0       3  ...        S  Miss\n",
              "889         1       1  ...        C    Mr\n",
              "890         0       3  ...        Q    Mr\n",
              "\n",
              "[5 rows x 10 columns]"
            ]
          },
          "metadata": {
            "tags": []
          },
          "execution_count": 797
        }
      ]
    },
    {
      "cell_type": "code",
      "metadata": {
        "id": "5f-hBCNj754r",
        "colab_type": "code",
        "colab": {}
      },
      "source": [
        ""
      ],
      "execution_count": 0,
      "outputs": []
    },
    {
      "cell_type": "code",
      "metadata": {
        "id": "Dw4K5uL48NUS",
        "colab_type": "code",
        "outputId": "d8d582d5-e785-49e2-e064-dd221af35825",
        "colab": {
          "base_uri": "https://localhost:8080/",
          "height": 165
        }
      },
      "source": [
        "# replacing some of the titles with general names\n",
        "\n",
        "taitan['title'] = taitan.title.replace(to_replace=[['Lady', 'Countess', 'Capt', 'Col',\\\n",
        "                                                  'Don', 'Dr', 'Major', 'Rev', 'Sir',\\\n",
        "                                                  'Jonkheer', 'Dona']],\\\n",
        "                                       value='Royalty')\n",
        "taitan['title'].replace(to_replace='Mlle', value='Miss', inplace=True)\n",
        "taitan['title'].replace(to_replace='Ms', value='Miss', inplace=True)\n",
        "taitan['title'].replace(to_replace='Mme', value='Mrs', inplace=True)\n",
        "\n",
        "# confirming changes were effected\n",
        "taitan.title.unique()\n",
        "print('\\n')\n",
        "taitan.title.value_counts()"
      ],
      "execution_count": 798,
      "outputs": [
        {
          "output_type": "execute_result",
          "data": {
            "text/plain": [
              "array(['Mr', 'Mrs', 'Miss', 'Master', 'Royalty'], dtype=object)"
            ]
          },
          "metadata": {
            "tags": []
          },
          "execution_count": 798
        },
        {
          "output_type": "stream",
          "text": [
            "\n",
            "\n"
          ],
          "name": "stdout"
        },
        {
          "output_type": "execute_result",
          "data": {
            "text/plain": [
              "Mr         517\n",
              "Miss       185\n",
              "Mrs        126\n",
              "Master      40\n",
              "Royalty     23\n",
              "Name: title, dtype: int64"
            ]
          },
          "metadata": {
            "tags": []
          },
          "execution_count": 798
        }
      ]
    },
    {
      "cell_type": "code",
      "metadata": {
        "id": "8YD65vDXJwPX",
        "colab_type": "code",
        "outputId": "3006dfda-3361-4036-c206-fa0b53edd4fe",
        "colab": {
          "base_uri": "https://localhost:8080/",
          "height": 238
        }
      },
      "source": [
        "# a frequency table showing number of passengers grouped by title\n",
        "pd.crosstab(taitan['title'], taitan['sex'])"
      ],
      "execution_count": 799,
      "outputs": [
        {
          "output_type": "execute_result",
          "data": {
            "text/html": [
              "<div>\n",
              "<style scoped>\n",
              "    .dataframe tbody tr th:only-of-type {\n",
              "        vertical-align: middle;\n",
              "    }\n",
              "\n",
              "    .dataframe tbody tr th {\n",
              "        vertical-align: top;\n",
              "    }\n",
              "\n",
              "    .dataframe thead th {\n",
              "        text-align: right;\n",
              "    }\n",
              "</style>\n",
              "<table border=\"1\" class=\"dataframe\">\n",
              "  <thead>\n",
              "    <tr style=\"text-align: right;\">\n",
              "      <th>sex</th>\n",
              "      <th>female</th>\n",
              "      <th>male</th>\n",
              "    </tr>\n",
              "    <tr>\n",
              "      <th>title</th>\n",
              "      <th></th>\n",
              "      <th></th>\n",
              "    </tr>\n",
              "  </thead>\n",
              "  <tbody>\n",
              "    <tr>\n",
              "      <th>Master</th>\n",
              "      <td>0</td>\n",
              "      <td>40</td>\n",
              "    </tr>\n",
              "    <tr>\n",
              "      <th>Miss</th>\n",
              "      <td>185</td>\n",
              "      <td>0</td>\n",
              "    </tr>\n",
              "    <tr>\n",
              "      <th>Mr</th>\n",
              "      <td>0</td>\n",
              "      <td>517</td>\n",
              "    </tr>\n",
              "    <tr>\n",
              "      <th>Mrs</th>\n",
              "      <td>126</td>\n",
              "      <td>0</td>\n",
              "    </tr>\n",
              "    <tr>\n",
              "      <th>Royalty</th>\n",
              "      <td>3</td>\n",
              "      <td>20</td>\n",
              "    </tr>\n",
              "  </tbody>\n",
              "</table>\n",
              "</div>"
            ],
            "text/plain": [
              "sex      female  male\n",
              "title                \n",
              "Master        0    40\n",
              "Miss        185     0\n",
              "Mr            0   517\n",
              "Mrs         126     0\n",
              "Royalty       3    20"
            ]
          },
          "metadata": {
            "tags": []
          },
          "execution_count": 799
        }
      ]
    },
    {
      "cell_type": "code",
      "metadata": {
        "id": "KGH8iLz_mSZP",
        "colab_type": "code",
        "colab": {}
      },
      "source": [
        ""
      ],
      "execution_count": 0,
      "outputs": []
    },
    {
      "cell_type": "markdown",
      "metadata": {
        "id": "xi0hYzlN_lTD",
        "colab_type": "text"
      },
      "source": [
        "The title column now has five unique values\n",
        "\n",
        "The titles of most passengers was Mr, Miss and Mrs"
      ]
    },
    {
      "cell_type": "code",
      "metadata": {
        "id": "TQg1lMfAmeiH",
        "colab_type": "code",
        "colab": {
          "base_uri": "https://localhost:8080/",
          "height": 226
        },
        "outputId": "d9a36afd-16ca-4df6-db99-7394609af279"
      },
      "source": [
        "# dropping the name column as it now has little influence on the outcome survival\n",
        "taitan.drop('name', 1, inplace=True)\n",
        "taitan.head()"
      ],
      "execution_count": 800,
      "outputs": [
        {
          "output_type": "execute_result",
          "data": {
            "text/html": [
              "<div>\n",
              "<style scoped>\n",
              "    .dataframe tbody tr th:only-of-type {\n",
              "        vertical-align: middle;\n",
              "    }\n",
              "\n",
              "    .dataframe tbody tr th {\n",
              "        vertical-align: top;\n",
              "    }\n",
              "\n",
              "    .dataframe thead th {\n",
              "        text-align: right;\n",
              "    }\n",
              "</style>\n",
              "<table border=\"1\" class=\"dataframe\">\n",
              "  <thead>\n",
              "    <tr style=\"text-align: right;\">\n",
              "      <th></th>\n",
              "      <th>survived</th>\n",
              "      <th>pclass</th>\n",
              "      <th>sex</th>\n",
              "      <th>age</th>\n",
              "      <th>sibsp</th>\n",
              "      <th>parch</th>\n",
              "      <th>fare</th>\n",
              "      <th>embarked</th>\n",
              "      <th>title</th>\n",
              "    </tr>\n",
              "  </thead>\n",
              "  <tbody>\n",
              "    <tr>\n",
              "      <th>0</th>\n",
              "      <td>0</td>\n",
              "      <td>3</td>\n",
              "      <td>male</td>\n",
              "      <td>22.0</td>\n",
              "      <td>1</td>\n",
              "      <td>0</td>\n",
              "      <td>7.2500</td>\n",
              "      <td>S</td>\n",
              "      <td>Mr</td>\n",
              "    </tr>\n",
              "    <tr>\n",
              "      <th>1</th>\n",
              "      <td>1</td>\n",
              "      <td>1</td>\n",
              "      <td>female</td>\n",
              "      <td>38.0</td>\n",
              "      <td>1</td>\n",
              "      <td>0</td>\n",
              "      <td>71.2833</td>\n",
              "      <td>C</td>\n",
              "      <td>Mrs</td>\n",
              "    </tr>\n",
              "    <tr>\n",
              "      <th>2</th>\n",
              "      <td>1</td>\n",
              "      <td>3</td>\n",
              "      <td>female</td>\n",
              "      <td>26.0</td>\n",
              "      <td>0</td>\n",
              "      <td>0</td>\n",
              "      <td>7.9250</td>\n",
              "      <td>S</td>\n",
              "      <td>Miss</td>\n",
              "    </tr>\n",
              "    <tr>\n",
              "      <th>3</th>\n",
              "      <td>1</td>\n",
              "      <td>1</td>\n",
              "      <td>female</td>\n",
              "      <td>35.0</td>\n",
              "      <td>1</td>\n",
              "      <td>0</td>\n",
              "      <td>53.1000</td>\n",
              "      <td>S</td>\n",
              "      <td>Mrs</td>\n",
              "    </tr>\n",
              "    <tr>\n",
              "      <th>4</th>\n",
              "      <td>0</td>\n",
              "      <td>3</td>\n",
              "      <td>male</td>\n",
              "      <td>35.0</td>\n",
              "      <td>0</td>\n",
              "      <td>0</td>\n",
              "      <td>8.0500</td>\n",
              "      <td>S</td>\n",
              "      <td>Mr</td>\n",
              "    </tr>\n",
              "  </tbody>\n",
              "</table>\n",
              "</div>"
            ],
            "text/plain": [
              "   survived  pclass     sex   age  sibsp  parch     fare embarked title\n",
              "0         0       3    male  22.0      1      0   7.2500        S    Mr\n",
              "1         1       1  female  38.0      1      0  71.2833        C   Mrs\n",
              "2         1       3  female  26.0      0      0   7.9250        S  Miss\n",
              "3         1       1  female  35.0      1      0  53.1000        S   Mrs\n",
              "4         0       3    male  35.0      0      0   8.0500        S    Mr"
            ]
          },
          "metadata": {
            "tags": []
          },
          "execution_count": 800
        }
      ]
    },
    {
      "cell_type": "code",
      "metadata": {
        "id": "qiF8eYPz_5cG",
        "colab_type": "code",
        "outputId": "5edfa0bb-e63b-4f45-bd01-49baf823489f",
        "colab": {
          "base_uri": "https://localhost:8080/",
          "height": 206
        }
      },
      "source": [
        "# selecting passengers that survived the accident\n",
        "taitan_filt = taitan[taitan.survived == 1]\n",
        "\n",
        "# grouping passengers by their title and getting the total no. of survivors\n",
        "taitan_filt[['title', 'survived']].groupby('title').count().reset_index()"
      ],
      "execution_count": 801,
      "outputs": [
        {
          "output_type": "execute_result",
          "data": {
            "text/html": [
              "<div>\n",
              "<style scoped>\n",
              "    .dataframe tbody tr th:only-of-type {\n",
              "        vertical-align: middle;\n",
              "    }\n",
              "\n",
              "    .dataframe tbody tr th {\n",
              "        vertical-align: top;\n",
              "    }\n",
              "\n",
              "    .dataframe thead th {\n",
              "        text-align: right;\n",
              "    }\n",
              "</style>\n",
              "<table border=\"1\" class=\"dataframe\">\n",
              "  <thead>\n",
              "    <tr style=\"text-align: right;\">\n",
              "      <th></th>\n",
              "      <th>title</th>\n",
              "      <th>survived</th>\n",
              "    </tr>\n",
              "  </thead>\n",
              "  <tbody>\n",
              "    <tr>\n",
              "      <th>0</th>\n",
              "      <td>Master</td>\n",
              "      <td>23</td>\n",
              "    </tr>\n",
              "    <tr>\n",
              "      <th>1</th>\n",
              "      <td>Miss</td>\n",
              "      <td>130</td>\n",
              "    </tr>\n",
              "    <tr>\n",
              "      <th>2</th>\n",
              "      <td>Mr</td>\n",
              "      <td>81</td>\n",
              "    </tr>\n",
              "    <tr>\n",
              "      <th>3</th>\n",
              "      <td>Mrs</td>\n",
              "      <td>100</td>\n",
              "    </tr>\n",
              "    <tr>\n",
              "      <th>4</th>\n",
              "      <td>Royalty</td>\n",
              "      <td>8</td>\n",
              "    </tr>\n",
              "  </tbody>\n",
              "</table>\n",
              "</div>"
            ],
            "text/plain": [
              "     title  survived\n",
              "0   Master        23\n",
              "1     Miss       130\n",
              "2       Mr        81\n",
              "3      Mrs       100\n",
              "4  Royalty         8"
            ]
          },
          "metadata": {
            "tags": []
          },
          "execution_count": 801
        }
      ]
    },
    {
      "cell_type": "code",
      "metadata": {
        "id": "lBx5rOJyeMK1",
        "colab_type": "code",
        "outputId": "ac5b3020-f257-40c3-c0b4-afb95c7b8c7e",
        "colab": {
          "base_uri": "https://localhost:8080/",
          "height": 226
        }
      },
      "source": [
        "# mapping numerical values to the categorical values in the title column\n",
        "# 'Mr': 1, 'Miss': 2, 'Mrs': 3, 'Master': 4, 'Royalty': 5\n",
        "title_map = {'Mr': 1, 'Miss': 2, 'Mrs': 3, 'Master': 4, 'Royalty': 5}\n",
        "taitan['title'] = taitan['title'].map(title_map)\n",
        "\n",
        "# confirming change has been effected\n",
        "taitan.head()\n"
      ],
      "execution_count": 802,
      "outputs": [
        {
          "output_type": "execute_result",
          "data": {
            "text/html": [
              "<div>\n",
              "<style scoped>\n",
              "    .dataframe tbody tr th:only-of-type {\n",
              "        vertical-align: middle;\n",
              "    }\n",
              "\n",
              "    .dataframe tbody tr th {\n",
              "        vertical-align: top;\n",
              "    }\n",
              "\n",
              "    .dataframe thead th {\n",
              "        text-align: right;\n",
              "    }\n",
              "</style>\n",
              "<table border=\"1\" class=\"dataframe\">\n",
              "  <thead>\n",
              "    <tr style=\"text-align: right;\">\n",
              "      <th></th>\n",
              "      <th>survived</th>\n",
              "      <th>pclass</th>\n",
              "      <th>sex</th>\n",
              "      <th>age</th>\n",
              "      <th>sibsp</th>\n",
              "      <th>parch</th>\n",
              "      <th>fare</th>\n",
              "      <th>embarked</th>\n",
              "      <th>title</th>\n",
              "    </tr>\n",
              "  </thead>\n",
              "  <tbody>\n",
              "    <tr>\n",
              "      <th>0</th>\n",
              "      <td>0</td>\n",
              "      <td>3</td>\n",
              "      <td>male</td>\n",
              "      <td>22.0</td>\n",
              "      <td>1</td>\n",
              "      <td>0</td>\n",
              "      <td>7.2500</td>\n",
              "      <td>S</td>\n",
              "      <td>1</td>\n",
              "    </tr>\n",
              "    <tr>\n",
              "      <th>1</th>\n",
              "      <td>1</td>\n",
              "      <td>1</td>\n",
              "      <td>female</td>\n",
              "      <td>38.0</td>\n",
              "      <td>1</td>\n",
              "      <td>0</td>\n",
              "      <td>71.2833</td>\n",
              "      <td>C</td>\n",
              "      <td>3</td>\n",
              "    </tr>\n",
              "    <tr>\n",
              "      <th>2</th>\n",
              "      <td>1</td>\n",
              "      <td>3</td>\n",
              "      <td>female</td>\n",
              "      <td>26.0</td>\n",
              "      <td>0</td>\n",
              "      <td>0</td>\n",
              "      <td>7.9250</td>\n",
              "      <td>S</td>\n",
              "      <td>2</td>\n",
              "    </tr>\n",
              "    <tr>\n",
              "      <th>3</th>\n",
              "      <td>1</td>\n",
              "      <td>1</td>\n",
              "      <td>female</td>\n",
              "      <td>35.0</td>\n",
              "      <td>1</td>\n",
              "      <td>0</td>\n",
              "      <td>53.1000</td>\n",
              "      <td>S</td>\n",
              "      <td>3</td>\n",
              "    </tr>\n",
              "    <tr>\n",
              "      <th>4</th>\n",
              "      <td>0</td>\n",
              "      <td>3</td>\n",
              "      <td>male</td>\n",
              "      <td>35.0</td>\n",
              "      <td>0</td>\n",
              "      <td>0</td>\n",
              "      <td>8.0500</td>\n",
              "      <td>S</td>\n",
              "      <td>1</td>\n",
              "    </tr>\n",
              "  </tbody>\n",
              "</table>\n",
              "</div>"
            ],
            "text/plain": [
              "   survived  pclass     sex   age  sibsp  parch     fare embarked  title\n",
              "0         0       3    male  22.0      1      0   7.2500        S      1\n",
              "1         1       1  female  38.0      1      0  71.2833        C      3\n",
              "2         1       3  female  26.0      0      0   7.9250        S      2\n",
              "3         1       1  female  35.0      1      0  53.1000        S      3\n",
              "4         0       3    male  35.0      0      0   8.0500        S      1"
            ]
          },
          "metadata": {
            "tags": []
          },
          "execution_count": 802
        }
      ]
    },
    {
      "cell_type": "markdown",
      "metadata": {
        "id": "7vzeCCkHCpcj",
        "colab_type": "text"
      },
      "source": [
        "A significant proportion of Mrs and Miss survived the accident (These two groups suffered the least casualties)"
      ]
    },
    {
      "cell_type": "code",
      "metadata": {
        "id": "4NkioeU9H-Kx",
        "colab_type": "code",
        "colab": {
          "base_uri": "https://localhost:8080/",
          "height": 35
        },
        "outputId": "8e083af6-dea4-4bd8-b8f8-27b0820ac738"
      },
      "source": [
        "taitan.title.unique()"
      ],
      "execution_count": 803,
      "outputs": [
        {
          "output_type": "execute_result",
          "data": {
            "text/plain": [
              "array([1, 3, 2, 4, 5])"
            ]
          },
          "metadata": {
            "tags": []
          },
          "execution_count": 803
        }
      ]
    },
    {
      "cell_type": "code",
      "metadata": {
        "id": "7cdbI3JyF_MD",
        "colab_type": "code",
        "outputId": "30b50aa4-411f-4a68-de6c-6b80c74b0110",
        "colab": {
          "base_uri": "https://localhost:8080/",
          "height": 206
        }
      },
      "source": [
        "# encoding sex column with numerical values and changing their datatype to integer\n",
        "# male represented by 0 and female mapped to value 1\n",
        "taitan['sex'] = taitan['sex'].map({'female':1, 'male':0}).astype(int)\n",
        "taitan.head()"
      ],
      "execution_count": 804,
      "outputs": [
        {
          "output_type": "execute_result",
          "data": {
            "text/html": [
              "<div>\n",
              "<style scoped>\n",
              "    .dataframe tbody tr th:only-of-type {\n",
              "        vertical-align: middle;\n",
              "    }\n",
              "\n",
              "    .dataframe tbody tr th {\n",
              "        vertical-align: top;\n",
              "    }\n",
              "\n",
              "    .dataframe thead th {\n",
              "        text-align: right;\n",
              "    }\n",
              "</style>\n",
              "<table border=\"1\" class=\"dataframe\">\n",
              "  <thead>\n",
              "    <tr style=\"text-align: right;\">\n",
              "      <th></th>\n",
              "      <th>survived</th>\n",
              "      <th>pclass</th>\n",
              "      <th>sex</th>\n",
              "      <th>age</th>\n",
              "      <th>sibsp</th>\n",
              "      <th>parch</th>\n",
              "      <th>fare</th>\n",
              "      <th>embarked</th>\n",
              "      <th>title</th>\n",
              "    </tr>\n",
              "  </thead>\n",
              "  <tbody>\n",
              "    <tr>\n",
              "      <th>0</th>\n",
              "      <td>0</td>\n",
              "      <td>3</td>\n",
              "      <td>0</td>\n",
              "      <td>22.0</td>\n",
              "      <td>1</td>\n",
              "      <td>0</td>\n",
              "      <td>7.2500</td>\n",
              "      <td>S</td>\n",
              "      <td>1</td>\n",
              "    </tr>\n",
              "    <tr>\n",
              "      <th>1</th>\n",
              "      <td>1</td>\n",
              "      <td>1</td>\n",
              "      <td>1</td>\n",
              "      <td>38.0</td>\n",
              "      <td>1</td>\n",
              "      <td>0</td>\n",
              "      <td>71.2833</td>\n",
              "      <td>C</td>\n",
              "      <td>3</td>\n",
              "    </tr>\n",
              "    <tr>\n",
              "      <th>2</th>\n",
              "      <td>1</td>\n",
              "      <td>3</td>\n",
              "      <td>1</td>\n",
              "      <td>26.0</td>\n",
              "      <td>0</td>\n",
              "      <td>0</td>\n",
              "      <td>7.9250</td>\n",
              "      <td>S</td>\n",
              "      <td>2</td>\n",
              "    </tr>\n",
              "    <tr>\n",
              "      <th>3</th>\n",
              "      <td>1</td>\n",
              "      <td>1</td>\n",
              "      <td>1</td>\n",
              "      <td>35.0</td>\n",
              "      <td>1</td>\n",
              "      <td>0</td>\n",
              "      <td>53.1000</td>\n",
              "      <td>S</td>\n",
              "      <td>3</td>\n",
              "    </tr>\n",
              "    <tr>\n",
              "      <th>4</th>\n",
              "      <td>0</td>\n",
              "      <td>3</td>\n",
              "      <td>0</td>\n",
              "      <td>35.0</td>\n",
              "      <td>0</td>\n",
              "      <td>0</td>\n",
              "      <td>8.0500</td>\n",
              "      <td>S</td>\n",
              "      <td>1</td>\n",
              "    </tr>\n",
              "  </tbody>\n",
              "</table>\n",
              "</div>"
            ],
            "text/plain": [
              "   survived  pclass  sex   age  sibsp  parch     fare embarked  title\n",
              "0         0       3    0  22.0      1      0   7.2500        S      1\n",
              "1         1       1    1  38.0      1      0  71.2833        C      3\n",
              "2         1       3    1  26.0      0      0   7.9250        S      2\n",
              "3         1       1    1  35.0      1      0  53.1000        S      3\n",
              "4         0       3    0  35.0      0      0   8.0500        S      1"
            ]
          },
          "metadata": {
            "tags": []
          },
          "execution_count": 804
        }
      ]
    },
    {
      "cell_type": "code",
      "metadata": {
        "id": "yKGG0-whIN3n",
        "colab_type": "code",
        "colab": {
          "base_uri": "https://localhost:8080/",
          "height": 673
        },
        "outputId": "47ea7a72-e6af-4c38-a5f4-fed11f2be70e"
      },
      "source": [
        "# looking at distribution to get a picture of how to fill missing values\n",
        "miss_grid = sns.FacetGrid(taitan, row='pclass', col='sex', height=3, aspect=2)\n",
        "miss_grid.map(sns.distplot, 'age', bins=20)\n",
        "miss_grid.add_legend()\n",
        "plt.show();"
      ],
      "execution_count": 805,
      "outputs": [
        {
          "output_type": "display_data",
          "data": {
            "image/png": "[encoded data removed]",
            "text/plain": [
              "<Figure size 872.8x648 with 6 Axes>"
            ]
          },
          "metadata": {
            "tags": []
          }
        }
      ]
    },
    {
      "cell_type": "code",
      "metadata": {
        "id": "kGqSyZRsXQln",
        "colab_type": "code",
        "colab": {
          "base_uri": "https://localhost:8080/",
          "height": 300
        },
        "outputId": "dec6a899-87c2-4c7e-ddf2-cc34574da95d"
      },
      "source": [
        "# joining the sibsp and parch columns also makes sense as it'll\\\n",
        "# display the total no. of relatives one has on the ship\n",
        "\n",
        "# creating a new column called relatives. the column is a sum of two columns: sibsp and parch\n",
        "taitan['relatives'] = taitan['sibsp'] + taitan['parch']\n",
        "\n",
        "# creating a new column, alone that tells whether a passenger had relatives or not\n",
        "# 0 shows that passenger was not alone\n",
        "# 1 shows passenger was alone\n",
        "taitan.loc[taitan['relatives'] > 0, 'alone'] = 0\n",
        "taitan.loc[taitan['relatives'] == 0, 'alone'] = 1\n",
        "\n",
        "# changing datatype pf column to integer\n",
        "taitan.alone = taitan['alone'].astype(int)\n",
        "taitan.head()\n",
        "print('===='*20)\n",
        "taitan.alone.value_counts()\n"
      ],
      "execution_count": 806,
      "outputs": [
        {
          "output_type": "execute_result",
          "data": {
            "text/html": [
              "<div>\n",
              "<style scoped>\n",
              "    .dataframe tbody tr th:only-of-type {\n",
              "        vertical-align: middle;\n",
              "    }\n",
              "\n",
              "    .dataframe tbody tr th {\n",
              "        vertical-align: top;\n",
              "    }\n",
              "\n",
              "    .dataframe thead th {\n",
              "        text-align: right;\n",
              "    }\n",
              "</style>\n",
              "<table border=\"1\" class=\"dataframe\">\n",
              "  <thead>\n",
              "    <tr style=\"text-align: right;\">\n",
              "      <th></th>\n",
              "      <th>survived</th>\n",
              "      <th>pclass</th>\n",
              "      <th>sex</th>\n",
              "      <th>age</th>\n",
              "      <th>sibsp</th>\n",
              "      <th>parch</th>\n",
              "      <th>fare</th>\n",
              "      <th>embarked</th>\n",
              "      <th>title</th>\n",
              "      <th>relatives</th>\n",
              "      <th>alone</th>\n",
              "    </tr>\n",
              "  </thead>\n",
              "  <tbody>\n",
              "    <tr>\n",
              "      <th>0</th>\n",
              "      <td>0</td>\n",
              "      <td>3</td>\n",
              "      <td>0</td>\n",
              "      <td>22.0</td>\n",
              "      <td>1</td>\n",
              "      <td>0</td>\n",
              "      <td>7.2500</td>\n",
              "      <td>S</td>\n",
              "      <td>1</td>\n",
              "      <td>1</td>\n",
              "      <td>0</td>\n",
              "    </tr>\n",
              "    <tr>\n",
              "      <th>1</th>\n",
              "      <td>1</td>\n",
              "      <td>1</td>\n",
              "      <td>1</td>\n",
              "      <td>38.0</td>\n",
              "      <td>1</td>\n",
              "      <td>0</td>\n",
              "      <td>71.2833</td>\n",
              "      <td>C</td>\n",
              "      <td>3</td>\n",
              "      <td>1</td>\n",
              "      <td>0</td>\n",
              "    </tr>\n",
              "    <tr>\n",
              "      <th>2</th>\n",
              "      <td>1</td>\n",
              "      <td>3</td>\n",
              "      <td>1</td>\n",
              "      <td>26.0</td>\n",
              "      <td>0</td>\n",
              "      <td>0</td>\n",
              "      <td>7.9250</td>\n",
              "      <td>S</td>\n",
              "      <td>2</td>\n",
              "      <td>0</td>\n",
              "      <td>1</td>\n",
              "    </tr>\n",
              "    <tr>\n",
              "      <th>3</th>\n",
              "      <td>1</td>\n",
              "      <td>1</td>\n",
              "      <td>1</td>\n",
              "      <td>35.0</td>\n",
              "      <td>1</td>\n",
              "      <td>0</td>\n",
              "      <td>53.1000</td>\n",
              "      <td>S</td>\n",
              "      <td>3</td>\n",
              "      <td>1</td>\n",
              "      <td>0</td>\n",
              "    </tr>\n",
              "    <tr>\n",
              "      <th>4</th>\n",
              "      <td>0</td>\n",
              "      <td>3</td>\n",
              "      <td>0</td>\n",
              "      <td>35.0</td>\n",
              "      <td>0</td>\n",
              "      <td>0</td>\n",
              "      <td>8.0500</td>\n",
              "      <td>S</td>\n",
              "      <td>1</td>\n",
              "      <td>0</td>\n",
              "      <td>1</td>\n",
              "    </tr>\n",
              "  </tbody>\n",
              "</table>\n",
              "</div>"
            ],
            "text/plain": [
              "   survived  pclass  sex   age  ...  embarked  title  relatives alone\n",
              "0         0       3    0  22.0  ...         S      1          1     0\n",
              "1         1       1    1  38.0  ...         C      3          1     0\n",
              "2         1       3    1  26.0  ...         S      2          0     1\n",
              "3         1       1    1  35.0  ...         S      3          1     0\n",
              "4         0       3    0  35.0  ...         S      1          0     1\n",
              "\n",
              "[5 rows x 11 columns]"
            ]
          },
          "metadata": {
            "tags": []
          },
          "execution_count": 806
        },
        {
          "output_type": "stream",
          "text": [
            "================================================================================\n"
          ],
          "name": "stdout"
        },
        {
          "output_type": "execute_result",
          "data": {
            "text/plain": [
              "1    537\n",
              "0    354\n",
              "Name: alone, dtype: int64"
            ]
          },
          "metadata": {
            "tags": []
          },
          "execution_count": 806
        }
      ]
    },
    {
      "cell_type": "markdown",
      "metadata": {
        "id": "XGdE0mz5bsUg",
        "colab_type": "text"
      },
      "source": [
        "Output reveals that 537 passengers were alone while 354 passengers were not alone"
      ]
    },
    {
      "cell_type": "code",
      "metadata": {
        "id": "LfrIHryLcJOL",
        "colab_type": "code",
        "colab": {
          "base_uri": "https://localhost:8080/",
          "height": 385
        },
        "outputId": "e01bf46e-6b59-4661-8104-f719a349e156"
      },
      "source": [
        "axes = sns.catplot('relatives', 'survived', data=taitan, aspect=2.5, kind='point')"
      ],
      "execution_count": 807,
      "outputs": [
        {
          "output_type": "display_data",
          "data": {
            "image/png": "[encoded data removed]",
            "text/plain": [
              "<Figure size 900x360 with 1 Axes>"
            ]
          },
          "metadata": {
            "tags": []
          }
        }
      ]
    },
    {
      "cell_type": "markdown",
      "metadata": {
        "id": "MtEP2kMsc2Ov",
        "colab_type": "text"
      },
      "source": [
        "According to the point catplot, passengers with 1 to 3 relatives had higher chances of survival. Those with more than three relatives had lower chances of survival"
      ]
    },
    {
      "cell_type": "code",
      "metadata": {
        "id": "Ogi1pbOOkJrx",
        "colab_type": "code",
        "colab": {
          "base_uri": "https://localhost:8080/",
          "height": 35
        },
        "outputId": "80e665c5-1fa4-414e-bca9-43af63f2161f"
      },
      "source": [
        "taitan.title.unique()"
      ],
      "execution_count": 808,
      "outputs": [
        {
          "output_type": "execute_result",
          "data": {
            "text/plain": [
              "array([1, 3, 2, 4, 5])"
            ]
          },
          "metadata": {
            "tags": []
          },
          "execution_count": 808
        }
      ]
    },
    {
      "cell_type": "code",
      "metadata": {
        "id": "fRpfT10lkfmp",
        "colab_type": "code",
        "colab": {}
      },
      "source": [
        ""
      ],
      "execution_count": 0,
      "outputs": []
    },
    {
      "cell_type": "code",
      "metadata": {
        "id": "puHjVoyJgYiV",
        "colab_type": "code",
        "colab": {
          "base_uri": "https://localhost:8080/",
          "height": 274
        },
        "outputId": "e114c935-30b4-4b75-edc4-31cf044f1c79"
      },
      "source": [
        "# handling missing values in the age column\n",
        "# creating a new copy pf taitan dataset name nu_age\n",
        "nu_age= taitan\n",
        "\n",
        "# selecting the non-null values only to plot\n",
        "nnull_age = nu_age [nu_age.age.notnull()]\n",
        "nnull_list = list(nnull_age.title.unique())\n",
        "\n",
        "NL = []\n",
        "\n",
        "for i in range(len(nnull_list)):\n",
        "  NL.append(list(nnull_age.age[nnull_age.title == nnull_list[i]]))\n",
        "  \n",
        "\n",
        "bpfig = plt.boxplot(NL, manage_xticks=True, patch_artist=True)\n",
        "\n",
        "# 'Mr': 1, 'Miss': 2, 'Mrs': 3, 'Master': 4, 'Royalty': 5\n",
        "plt.xticks(np.arange(1,6,1), nnull_list)\n",
        "plt.ylabel('Age')\n",
        "plt.setp(bpfig['boxes'], facecolor='tomato')\n",
        "plt.setp(bpfig['medians'], color='black')\n",
        "plt.show();"
      ],
      "execution_count": 809,
      "outputs": [
        {
          "output_type": "display_data",
          "data": {
            "image/png": "[encoded data removed]",
            "text/plain": [
              "<Figure size 432x288 with 1 Axes>"
            ]
          },
          "metadata": {
            "tags": []
          }
        }
      ]
    },
    {
      "cell_type": "markdown",
      "metadata": {
        "id": "2h8JHa2Bm_Vz",
        "colab_type": "text"
      },
      "source": [
        "Boxplots reveal that the median age varies depending on title\n",
        "\n",
        "The outliers were considered to be reasonable and were not removed"
      ]
    },
    {
      "cell_type": "code",
      "metadata": {
        "id": "6KWOM8qDnSBC",
        "colab_type": "code",
        "colab": {
          "base_uri": "https://localhost:8080/",
          "height": 35
        },
        "outputId": "197ed26e-f867-4859-d3ff-569d81a97a88"
      },
      "source": [
        "# creating a dictionary with the title as the key and median age as the value\n",
        "# 'Mr': 1, 'Miss': 2, 'Mrs': 3, 'Master': 4, 'Royalty': 5\n",
        "med_age = [round(np.median(NL[i])) for i in range(len(NL))]\n",
        "title_medage = dict(np.transpose([nnull_list, med_age]))\n",
        "title_medage"
      ],
      "execution_count": 810,
      "outputs": [
        {
          "output_type": "execute_result",
          "data": {
            "text/plain": [
              "{1.0: 30.0, 2.0: 21.0, 3.0: 35.0, 4.0: 4.0, 5.0: 48.0}"
            ]
          },
          "metadata": {
            "tags": []
          },
          "execution_count": 810
        }
      ]
    },
    {
      "cell_type": "markdown",
      "metadata": {
        "id": "fzWsSGFTo-_c",
        "colab_type": "text"
      },
      "source": [
        "I used this dictionary to impute the misssing values in the age column"
      ]
    },
    {
      "cell_type": "code",
      "metadata": {
        "id": "99hnSY5ppsYI",
        "colab_type": "code",
        "colab": {
          "base_uri": "https://localhost:8080/",
          "height": 148
        },
        "outputId": "e5aef48b-e361-44ed-98be-46742b2d4099"
      },
      "source": [
        "# filling missing values in the age column with the median\n",
        "for i in title_medage:\n",
        "  nu_age.loc[:,'age'][(nu_age.age.isnull()) & (nu_age.title == i)] = float(title_medage[i])\n",
        "  \n",
        "nu_age.age.isnull().sum()\n",
        "\n",
        "# changing the datatype of age column to int\n",
        "nu_age['age'] = nu_age['age'].astype(int)"
      ],
      "execution_count": 811,
      "outputs": [
        {
          "output_type": "stream",
          "text": [
            "/usr/local/lib/python3.6/dist-packages/ipykernel_launcher.py:2: SettingWithCopyWarning: \n",
            "A value is trying to be set on a copy of a slice from a DataFrame\n",
            "\n",
            "See the caveats in the documentation: http://pandas.pydata.org/pandas-docs/stable/indexing.html#indexing-view-versus-copy\n",
            "  \n"
          ],
          "name": "stderr"
        },
        {
          "output_type": "execute_result",
          "data": {
            "text/plain": [
              "0"
            ]
          },
          "metadata": {
            "tags": []
          },
          "execution_count": 811
        }
      ]
    },
    {
      "cell_type": "code",
      "metadata": {
        "id": "3Exjtrysq-iu",
        "colab_type": "code",
        "colab": {
          "base_uri": "https://localhost:8080/",
          "height": 151
        },
        "outputId": "74964569-c260-4655-8544-95a0ab6c8e5a"
      },
      "source": [
        "# handling missing data in embarked column\n",
        "print('Total no. of missing values:',nu_age.embarked.isnull().sum())\n",
        "nu_age[nu_age.embarked.isnull()]"
      ],
      "execution_count": 812,
      "outputs": [
        {
          "output_type": "stream",
          "text": [
            "Total no. of missing values: 2\n"
          ],
          "name": "stdout"
        },
        {
          "output_type": "execute_result",
          "data": {
            "text/html": [
              "<div>\n",
              "<style scoped>\n",
              "    .dataframe tbody tr th:only-of-type {\n",
              "        vertical-align: middle;\n",
              "    }\n",
              "\n",
              "    .dataframe tbody tr th {\n",
              "        vertical-align: top;\n",
              "    }\n",
              "\n",
              "    .dataframe thead th {\n",
              "        text-align: right;\n",
              "    }\n",
              "</style>\n",
              "<table border=\"1\" class=\"dataframe\">\n",
              "  <thead>\n",
              "    <tr style=\"text-align: right;\">\n",
              "      <th></th>\n",
              "      <th>survived</th>\n",
              "      <th>pclass</th>\n",
              "      <th>sex</th>\n",
              "      <th>age</th>\n",
              "      <th>sibsp</th>\n",
              "      <th>parch</th>\n",
              "      <th>fare</th>\n",
              "      <th>embarked</th>\n",
              "      <th>title</th>\n",
              "      <th>relatives</th>\n",
              "      <th>alone</th>\n",
              "    </tr>\n",
              "  </thead>\n",
              "  <tbody>\n",
              "    <tr>\n",
              "      <th>61</th>\n",
              "      <td>1</td>\n",
              "      <td>1</td>\n",
              "      <td>1</td>\n",
              "      <td>38</td>\n",
              "      <td>0</td>\n",
              "      <td>0</td>\n",
              "      <td>80.0</td>\n",
              "      <td>NaN</td>\n",
              "      <td>2</td>\n",
              "      <td>0</td>\n",
              "      <td>1</td>\n",
              "    </tr>\n",
              "    <tr>\n",
              "      <th>829</th>\n",
              "      <td>1</td>\n",
              "      <td>1</td>\n",
              "      <td>1</td>\n",
              "      <td>62</td>\n",
              "      <td>0</td>\n",
              "      <td>0</td>\n",
              "      <td>80.0</td>\n",
              "      <td>NaN</td>\n",
              "      <td>3</td>\n",
              "      <td>0</td>\n",
              "      <td>1</td>\n",
              "    </tr>\n",
              "  </tbody>\n",
              "</table>\n",
              "</div>"
            ],
            "text/plain": [
              "     survived  pclass  sex  age  sibsp  ...  fare  embarked title  relatives  alone\n",
              "61          1       1    1   38      0  ...  80.0       NaN     2          0      1\n",
              "829         1       1    1   62      0  ...  80.0       NaN     3          0      1\n",
              "\n",
              "[2 rows x 11 columns]"
            ]
          },
          "metadata": {
            "tags": []
          },
          "execution_count": 812
        }
      ]
    },
    {
      "cell_type": "code",
      "metadata": {
        "id": "M6gEgElysSB_",
        "colab_type": "code",
        "colab": {
          "base_uri": "https://localhost:8080/",
          "height": 363
        },
        "outputId": "b2f722f8-735c-494b-a0cc-42a6901320aa"
      },
      "source": [
        "nu_age[['fare', 'embarked']][(nu_age.fare >= 80) & (nu_age.fare < 85)]\n",
        "\n",
        "# class closest to the amount of fare is S"
      ],
      "execution_count": 813,
      "outputs": [
        {
          "output_type": "execute_result",
          "data": {
            "text/html": [
              "<div>\n",
              "<style scoped>\n",
              "    .dataframe tbody tr th:only-of-type {\n",
              "        vertical-align: middle;\n",
              "    }\n",
              "\n",
              "    .dataframe tbody tr th {\n",
              "        vertical-align: top;\n",
              "    }\n",
              "\n",
              "    .dataframe thead th {\n",
              "        text-align: right;\n",
              "    }\n",
              "</style>\n",
              "<table border=\"1\" class=\"dataframe\">\n",
              "  <thead>\n",
              "    <tr style=\"text-align: right;\">\n",
              "      <th></th>\n",
              "      <th>fare</th>\n",
              "      <th>embarked</th>\n",
              "    </tr>\n",
              "  </thead>\n",
              "  <tbody>\n",
              "    <tr>\n",
              "      <th>34</th>\n",
              "      <td>82.1708</td>\n",
              "      <td>C</td>\n",
              "    </tr>\n",
              "    <tr>\n",
              "      <th>61</th>\n",
              "      <td>80.0000</td>\n",
              "      <td>NaN</td>\n",
              "    </tr>\n",
              "    <tr>\n",
              "      <th>62</th>\n",
              "      <td>83.4750</td>\n",
              "      <td>S</td>\n",
              "    </tr>\n",
              "    <tr>\n",
              "      <th>230</th>\n",
              "      <td>83.4750</td>\n",
              "      <td>S</td>\n",
              "    </tr>\n",
              "    <tr>\n",
              "      <th>310</th>\n",
              "      <td>83.1583</td>\n",
              "      <td>C</td>\n",
              "    </tr>\n",
              "    <tr>\n",
              "      <th>375</th>\n",
              "      <td>82.1708</td>\n",
              "      <td>C</td>\n",
              "    </tr>\n",
              "    <tr>\n",
              "      <th>445</th>\n",
              "      <td>81.8583</td>\n",
              "      <td>S</td>\n",
              "    </tr>\n",
              "    <tr>\n",
              "      <th>829</th>\n",
              "      <td>80.0000</td>\n",
              "      <td>NaN</td>\n",
              "    </tr>\n",
              "    <tr>\n",
              "      <th>835</th>\n",
              "      <td>83.1583</td>\n",
              "      <td>C</td>\n",
              "    </tr>\n",
              "    <tr>\n",
              "      <th>879</th>\n",
              "      <td>83.1583</td>\n",
              "      <td>C</td>\n",
              "    </tr>\n",
              "  </tbody>\n",
              "</table>\n",
              "</div>"
            ],
            "text/plain": [
              "        fare embarked\n",
              "34   82.1708        C\n",
              "61   80.0000      NaN\n",
              "62   83.4750        S\n",
              "230  83.4750        S\n",
              "310  83.1583        C\n",
              "375  82.1708        C\n",
              "445  81.8583        S\n",
              "829  80.0000      NaN\n",
              "835  83.1583        C\n",
              "879  83.1583        C"
            ]
          },
          "metadata": {
            "tags": []
          },
          "execution_count": 813
        }
      ]
    },
    {
      "cell_type": "code",
      "metadata": {
        "id": "tTvTMl7kuM_d",
        "colab_type": "code",
        "colab": {
          "base_uri": "https://localhost:8080/",
          "height": 35
        },
        "outputId": "3e8ece34-3039-4a4e-f67d-e392aafd78ac"
      },
      "source": [
        "nu_age['embarked'] = nu_age['embarked'].fillna('S')\n",
        "nu_age.embarked.isnull().sum()"
      ],
      "execution_count": 814,
      "outputs": [
        {
          "output_type": "execute_result",
          "data": {
            "text/plain": [
              "0"
            ]
          },
          "metadata": {
            "tags": []
          },
          "execution_count": 814
        }
      ]
    },
    {
      "cell_type": "code",
      "metadata": {
        "id": "sil0KmXouuyP",
        "colab_type": "code",
        "colab": {
          "base_uri": "https://localhost:8080/",
          "height": 239
        },
        "outputId": "c42a58c1-9aa2-4453-ad12-b8126b5fed87"
      },
      "source": [
        "nu_age.isnull().sum()"
      ],
      "execution_count": 815,
      "outputs": [
        {
          "output_type": "execute_result",
          "data": {
            "text/plain": [
              "survived     0\n",
              "pclass       0\n",
              "sex          0\n",
              "age          0\n",
              "sibsp        0\n",
              "parch        0\n",
              "fare         0\n",
              "embarked     0\n",
              "title        0\n",
              "relatives    0\n",
              "alone        0\n",
              "dtype: int64"
            ]
          },
          "metadata": {
            "tags": []
          },
          "execution_count": 815
        }
      ]
    },
    {
      "cell_type": "markdown",
      "metadata": {
        "id": "k4Z2b1BX4_P6",
        "colab_type": "text"
      },
      "source": [
        "## Exploratory Data Analysis"
      ]
    },
    {
      "cell_type": "code",
      "metadata": {
        "id": "vpahtjhkMShm",
        "colab_type": "code",
        "colab": {}
      },
      "source": [
        ""
      ],
      "execution_count": 0,
      "outputs": []
    },
    {
      "cell_type": "code",
      "metadata": {
        "id": "jA9gfnXTuzvi",
        "colab_type": "code",
        "colab": {
          "base_uri": "https://localhost:8080/",
          "height": 320
        },
        "outputId": "2314ea46-c4a2-4fd6-c815-a5d71ef40b78"
      },
      "source": [
        "# checking a summary of the descriptive statistics of the datframe \n",
        "nu_age.describe()"
      ],
      "execution_count": 816,
      "outputs": [
        {
          "output_type": "execute_result",
          "data": {
            "text/html": [
              "<div>\n",
              "<style scoped>\n",
              "    .dataframe tbody tr th:only-of-type {\n",
              "        vertical-align: middle;\n",
              "    }\n",
              "\n",
              "    .dataframe tbody tr th {\n",
              "        vertical-align: top;\n",
              "    }\n",
              "\n",
              "    .dataframe thead th {\n",
              "        text-align: right;\n",
              "    }\n",
              "</style>\n",
              "<table border=\"1\" class=\"dataframe\">\n",
              "  <thead>\n",
              "    <tr style=\"text-align: right;\">\n",
              "      <th></th>\n",
              "      <th>survived</th>\n",
              "      <th>pclass</th>\n",
              "      <th>sex</th>\n",
              "      <th>age</th>\n",
              "      <th>sibsp</th>\n",
              "      <th>parch</th>\n",
              "      <th>fare</th>\n",
              "      <th>title</th>\n",
              "      <th>relatives</th>\n",
              "      <th>alone</th>\n",
              "    </tr>\n",
              "  </thead>\n",
              "  <tbody>\n",
              "    <tr>\n",
              "      <th>count</th>\n",
              "      <td>891.000000</td>\n",
              "      <td>891.000000</td>\n",
              "      <td>891.000000</td>\n",
              "      <td>891.000000</td>\n",
              "      <td>891.000000</td>\n",
              "      <td>891.000000</td>\n",
              "      <td>891.000000</td>\n",
              "      <td>891.000000</td>\n",
              "      <td>891.000000</td>\n",
              "      <td>891.000000</td>\n",
              "    </tr>\n",
              "    <tr>\n",
              "      <th>mean</th>\n",
              "      <td>0.383838</td>\n",
              "      <td>2.308642</td>\n",
              "      <td>0.352413</td>\n",
              "      <td>29.378227</td>\n",
              "      <td>0.523008</td>\n",
              "      <td>0.381594</td>\n",
              "      <td>32.204208</td>\n",
              "      <td>1.728395</td>\n",
              "      <td>0.904602</td>\n",
              "      <td>0.602694</td>\n",
              "    </tr>\n",
              "    <tr>\n",
              "      <th>std</th>\n",
              "      <td>0.486592</td>\n",
              "      <td>0.836071</td>\n",
              "      <td>0.477990</td>\n",
              "      <td>13.271645</td>\n",
              "      <td>1.102743</td>\n",
              "      <td>0.806057</td>\n",
              "      <td>49.693429</td>\n",
              "      <td>1.030039</td>\n",
              "      <td>1.613459</td>\n",
              "      <td>0.489615</td>\n",
              "    </tr>\n",
              "    <tr>\n",
              "      <th>min</th>\n",
              "      <td>0.000000</td>\n",
              "      <td>1.000000</td>\n",
              "      <td>0.000000</td>\n",
              "      <td>0.000000</td>\n",
              "      <td>0.000000</td>\n",
              "      <td>0.000000</td>\n",
              "      <td>0.000000</td>\n",
              "      <td>1.000000</td>\n",
              "      <td>0.000000</td>\n",
              "      <td>0.000000</td>\n",
              "    </tr>\n",
              "    <tr>\n",
              "      <th>25%</th>\n",
              "      <td>0.000000</td>\n",
              "      <td>2.000000</td>\n",
              "      <td>0.000000</td>\n",
              "      <td>21.000000</td>\n",
              "      <td>0.000000</td>\n",
              "      <td>0.000000</td>\n",
              "      <td>7.910400</td>\n",
              "      <td>1.000000</td>\n",
              "      <td>0.000000</td>\n",
              "      <td>0.000000</td>\n",
              "    </tr>\n",
              "    <tr>\n",
              "      <th>50%</th>\n",
              "      <td>0.000000</td>\n",
              "      <td>3.000000</td>\n",
              "      <td>0.000000</td>\n",
              "      <td>30.000000</td>\n",
              "      <td>0.000000</td>\n",
              "      <td>0.000000</td>\n",
              "      <td>14.454200</td>\n",
              "      <td>1.000000</td>\n",
              "      <td>0.000000</td>\n",
              "      <td>1.000000</td>\n",
              "    </tr>\n",
              "    <tr>\n",
              "      <th>75%</th>\n",
              "      <td>1.000000</td>\n",
              "      <td>3.000000</td>\n",
              "      <td>1.000000</td>\n",
              "      <td>35.000000</td>\n",
              "      <td>1.000000</td>\n",
              "      <td>0.000000</td>\n",
              "      <td>31.000000</td>\n",
              "      <td>2.000000</td>\n",
              "      <td>1.000000</td>\n",
              "      <td>1.000000</td>\n",
              "    </tr>\n",
              "    <tr>\n",
              "      <th>max</th>\n",
              "      <td>1.000000</td>\n",
              "      <td>3.000000</td>\n",
              "      <td>1.000000</td>\n",
              "      <td>80.000000</td>\n",
              "      <td>8.000000</td>\n",
              "      <td>6.000000</td>\n",
              "      <td>512.329200</td>\n",
              "      <td>5.000000</td>\n",
              "      <td>10.000000</td>\n",
              "      <td>1.000000</td>\n",
              "    </tr>\n",
              "  </tbody>\n",
              "</table>\n",
              "</div>"
            ],
            "text/plain": [
              "         survived      pclass         sex  ...       title   relatives       alone\n",
              "count  891.000000  891.000000  891.000000  ...  891.000000  891.000000  891.000000\n",
              "mean     0.383838    2.308642    0.352413  ...    1.728395    0.904602    0.602694\n",
              "std      0.486592    0.836071    0.477990  ...    1.030039    1.613459    0.489615\n",
              "min      0.000000    1.000000    0.000000  ...    1.000000    0.000000    0.000000\n",
              "25%      0.000000    2.000000    0.000000  ...    1.000000    0.000000    0.000000\n",
              "50%      0.000000    3.000000    0.000000  ...    1.000000    0.000000    1.000000\n",
              "75%      1.000000    3.000000    1.000000  ...    2.000000    1.000000    1.000000\n",
              "max      1.000000    3.000000    1.000000  ...    5.000000   10.000000    1.000000\n",
              "\n",
              "[8 rows x 10 columns]"
            ]
          },
          "metadata": {
            "tags": []
          },
          "execution_count": 816
        }
      ]
    },
    {
      "cell_type": "code",
      "metadata": {
        "id": "NQQ8Roh0uzkl",
        "colab_type": "code",
        "colab": {}
      },
      "source": [
        "import warnings \n",
        "warnings.filterwarnings('ignore', category=DeprecationWarning)\n"
      ],
      "execution_count": 0,
      "outputs": []
    },
    {
      "cell_type": "code",
      "metadata": {
        "id": "AeE6PPG0FWPR",
        "colab_type": "code",
        "colab": {
          "base_uri": "https://localhost:8080/",
          "height": 303
        },
        "outputId": "3a40a132-5699-4634-fd8a-b169382cfa30"
      },
      "source": [
        "# plotting a histogram to show the distribution of age of passengers\n",
        "sns.distplot(nu_age['age'].dropna(), bins=15, color='slategrey')\n",
        "plt.title('Distribution of Passengers\\' Age', fontsize=16)\n",
        "plt.show();"
      ],
      "execution_count": 818,
      "outputs": [
        {
          "output_type": "display_data",
          "data": {
            "image/png": "[encoded data removed]",
            "text/plain": [
              "<Figure size 432x288 with 1 Axes>"
            ]
          },
          "metadata": {
            "tags": []
          }
        }
      ]
    },
    {
      "cell_type": "markdown",
      "metadata": {
        "id": "oRnNwsapIVH_",
        "colab_type": "text"
      },
      "source": [
        "From the distribution, we can conclude that the mean age of passengers is approximately 30 years"
      ]
    },
    {
      "cell_type": "code",
      "metadata": {
        "id": "fckFC3wFjK0d",
        "colab_type": "code",
        "colab": {
          "base_uri": "https://localhost:8080/",
          "height": 385
        },
        "outputId": "1820a62f-d81c-41f1-ebdc-75e112ae3e6e"
      },
      "source": [
        "# plotting a multiplot grid showing age distribution of survivors and non-survivors\n",
        "age_dis = sns.FacetGrid(nu_age, col='survived', height=5)\n",
        "age_dis.map(plt.hist, 'age', bins=20)\n",
        "# plt.title('Age Distribution of Survivors and Non-Survivors', pad=40, loc='left')\n",
        "\n",
        "plt.show();"
      ],
      "execution_count": 819,
      "outputs": [
        {
          "output_type": "display_data",
          "data": {
            "image/png": "[encoded data removed]",
            "text/plain": [
              "<Figure size 720x360 with 2 Axes>"
            ]
          },
          "metadata": {
            "tags": []
          }
        }
      ]
    },
    {
      "cell_type": "markdown",
      "metadata": {
        "id": "brvSgfBOlcO7",
        "colab_type": "text"
      },
      "source": [
        "The distributions above reveal that most of the non-survivors were aged between 20 - 30 years\n",
        "\n",
        "Most of the survivors were age between 20 - 38 years"
      ]
    },
    {
      "cell_type": "code",
      "metadata": {
        "id": "zy4VPimzQkmo",
        "colab_type": "code",
        "colab": {
          "base_uri": "https://localhost:8080/",
          "height": 303
        },
        "outputId": "a8cb9de2-91f1-4268-92ca-82b51bb16c7d"
      },
      "source": [
        "# plotting the no. of passengers that survived and those that did not\n",
        "sns.countplot(nu_age.survived)\n",
        "plt.xlabel('Status')\n",
        "plt.xticks(nu_age.survived, ('Didn\\'t Survive', 'Survived'))\n",
        "plt.title('No. of Persons that Survived and Those That Did Not', fontsize=16, color='olive')\n",
        "plt.show();\n"
      ],
      "execution_count": 820,
      "outputs": [
        {
          "output_type": "display_data",
          "data": {
            "image/png": "[encoded data removed]",
            "text/plain": [
              "<Figure size 432x288 with 1 Axes>"
            ]
          },
          "metadata": {
            "tags": []
          }
        }
      ]
    },
    {
      "cell_type": "markdown",
      "metadata": {
        "id": "S5erx1vLW6dZ",
        "colab_type": "text"
      },
      "source": [
        "The countplot reveals that most of the passengers did not survive. Approximately 550 pasengers lost their lives and 340 survived."
      ]
    },
    {
      "cell_type": "code",
      "metadata": {
        "id": "szM3sFXOXQkV",
        "colab_type": "code",
        "colab": {
          "base_uri": "https://localhost:8080/",
          "height": 72
        },
        "outputId": "dc5fc80f-8f12-4b54-8128-eff063de15fc"
      },
      "source": [
        "# checking the exct no. of passengers that survived \n",
        "nu_age.survived.value_counts()"
      ],
      "execution_count": 821,
      "outputs": [
        {
          "output_type": "execute_result",
          "data": {
            "text/plain": [
              "0    549\n",
              "1    342\n",
              "Name: survived, dtype: int64"
            ]
          },
          "metadata": {
            "tags": []
          },
          "execution_count": 821
        }
      ]
    },
    {
      "cell_type": "code",
      "metadata": {
        "id": "Y00YTP9RuzRa",
        "colab_type": "code",
        "colab": {
          "base_uri": "https://localhost:8080/",
          "height": 303
        },
        "outputId": "1afa7953-0701-4d5e-a9a5-7a50935f1fc7"
      },
      "source": [
        "# plotting the value counts of male and female passengers that survived and those that did not \n",
        "sns.countplot(nu_age.survived, data=nu_age, hue='sex')\n",
        "plt.xlabel('Status')\n",
        "plt.xticks(nu_age.survived, ('Didn\\'t Survive', 'Survived'))\n",
        "plt.title('No. of Males and Females That Survived and Died', fontsize=16, color='olive')\n",
        "plt.show();"
      ],
      "execution_count": 822,
      "outputs": [
        {
          "output_type": "display_data",
          "data": {
            "image/png": "[encoded data removed]",
            "text/plain": [
              "<Figure size 432x288 with 1 Axes>"
            ]
          },
          "metadata": {
            "tags": []
          }
        }
      ]
    },
    {
      "cell_type": "markdown",
      "metadata": {
        "id": "H-KuE6ZnY-pe",
        "colab_type": "text"
      },
      "source": [
        "The countplot reveals that most of the passengers that did not survive were male and most of the passenger that survived were female"
      ]
    },
    {
      "cell_type": "code",
      "metadata": {
        "id": "puGt8GPuVdF2",
        "colab_type": "code",
        "colab": {
          "base_uri": "https://localhost:8080/",
          "height": 412
        },
        "outputId": "0fcb92bf-963c-4689-aef4-f2393e326ddc"
      },
      "source": [
        "# plotting the no. of passengers that survived per class\n",
        "plt.figure(figsize=(8,6))\n",
        "sns.countplot(x='pclass', data=nu_age, hue='survived')\n",
        "plt.legend(['Didn\\'t Survive', 'Survived'])\n",
        "plt.title('No. of Persons that Survived Per Class', fontsize=16, color='darkgreen')\n",
        "plt.show();"
      ],
      "execution_count": 823,
      "outputs": [
        {
          "output_type": "display_data",
          "data": {
            "image/png": "[encoded data removed]",
            "text/plain": [
              "<Figure size 576x432 with 1 Axes>"
            ]
          },
          "metadata": {
            "tags": []
          }
        }
      ]
    },
    {
      "cell_type": "markdown",
      "metadata": {
        "id": "qC_G0kK-Zsuv",
        "colab_type": "text"
      },
      "source": [
        "Countplot reveals that most of the passengers that perished were in the 3rd class.\n",
        "\n",
        "Most of the survivors were in the first class "
      ]
    },
    {
      "cell_type": "code",
      "metadata": {
        "id": "pw9EYjOdfAOV",
        "colab_type": "code",
        "colab": {
          "base_uri": "https://localhost:8080/",
          "height": 144
        },
        "outputId": "4e8e4278-3f91-4483-8021-7fea76d91322"
      },
      "source": [
        " \n",
        "# selecting observations where the passengers did not survive\n",
        "titan_fil =nu_age[nu_age.survived == 0]\n",
        "\n",
        "# using groupby function to check the total sum of non-survivors per class\n",
        "titan_fil[['pclass', 'survived']].groupby(['pclass'], as_index= False).count().sort_values('survived', ascending=False)"
      ],
      "execution_count": 824,
      "outputs": [
        {
          "output_type": "execute_result",
          "data": {
            "text/html": [
              "<div>\n",
              "<style scoped>\n",
              "    .dataframe tbody tr th:only-of-type {\n",
              "        vertical-align: middle;\n",
              "    }\n",
              "\n",
              "    .dataframe tbody tr th {\n",
              "        vertical-align: top;\n",
              "    }\n",
              "\n",
              "    .dataframe thead th {\n",
              "        text-align: right;\n",
              "    }\n",
              "</style>\n",
              "<table border=\"1\" class=\"dataframe\">\n",
              "  <thead>\n",
              "    <tr style=\"text-align: right;\">\n",
              "      <th></th>\n",
              "      <th>pclass</th>\n",
              "      <th>survived</th>\n",
              "    </tr>\n",
              "  </thead>\n",
              "  <tbody>\n",
              "    <tr>\n",
              "      <th>2</th>\n",
              "      <td>3</td>\n",
              "      <td>372</td>\n",
              "    </tr>\n",
              "    <tr>\n",
              "      <th>1</th>\n",
              "      <td>2</td>\n",
              "      <td>97</td>\n",
              "    </tr>\n",
              "    <tr>\n",
              "      <th>0</th>\n",
              "      <td>1</td>\n",
              "      <td>80</td>\n",
              "    </tr>\n",
              "  </tbody>\n",
              "</table>\n",
              "</div>"
            ],
            "text/plain": [
              "   pclass  survived\n",
              "2       3       372\n",
              "1       2        97\n",
              "0       1        80"
            ]
          },
          "metadata": {
            "tags": []
          },
          "execution_count": 824
        }
      ]
    },
    {
      "cell_type": "markdown",
      "metadata": {
        "id": "LnI63iCggPy-",
        "colab_type": "text"
      },
      "source": [
        "Specifically, 372 persons in the 3rd class perished, 97 in the second class and 80 in the first class."
      ]
    },
    {
      "cell_type": "code",
      "metadata": {
        "id": "rcaakstqha1r",
        "colab_type": "code",
        "colab": {
          "base_uri": "https://localhost:8080/",
          "height": 238
        },
        "outputId": "7313262d-ccab-4332-a017-e3d3db5d0a03"
      },
      "source": [
        "# using groupby function to check the total sum of non-survivors per class\n",
        "tf_frame = titan_fil[['pclass', 'survived', 'sex']].groupby(['sex','pclass']).count().reset_index().sort_values('survived', ascending=False)\n",
        "tf_frame"
      ],
      "execution_count": 825,
      "outputs": [
        {
          "output_type": "execute_result",
          "data": {
            "text/html": [
              "<div>\n",
              "<style scoped>\n",
              "    .dataframe tbody tr th:only-of-type {\n",
              "        vertical-align: middle;\n",
              "    }\n",
              "\n",
              "    .dataframe tbody tr th {\n",
              "        vertical-align: top;\n",
              "    }\n",
              "\n",
              "    .dataframe thead th {\n",
              "        text-align: right;\n",
              "    }\n",
              "</style>\n",
              "<table border=\"1\" class=\"dataframe\">\n",
              "  <thead>\n",
              "    <tr style=\"text-align: right;\">\n",
              "      <th></th>\n",
              "      <th>sex</th>\n",
              "      <th>pclass</th>\n",
              "      <th>survived</th>\n",
              "    </tr>\n",
              "  </thead>\n",
              "  <tbody>\n",
              "    <tr>\n",
              "      <th>2</th>\n",
              "      <td>0</td>\n",
              "      <td>3</td>\n",
              "      <td>300</td>\n",
              "    </tr>\n",
              "    <tr>\n",
              "      <th>1</th>\n",
              "      <td>0</td>\n",
              "      <td>2</td>\n",
              "      <td>91</td>\n",
              "    </tr>\n",
              "    <tr>\n",
              "      <th>0</th>\n",
              "      <td>0</td>\n",
              "      <td>1</td>\n",
              "      <td>77</td>\n",
              "    </tr>\n",
              "    <tr>\n",
              "      <th>5</th>\n",
              "      <td>1</td>\n",
              "      <td>3</td>\n",
              "      <td>72</td>\n",
              "    </tr>\n",
              "    <tr>\n",
              "      <th>4</th>\n",
              "      <td>1</td>\n",
              "      <td>2</td>\n",
              "      <td>6</td>\n",
              "    </tr>\n",
              "    <tr>\n",
              "      <th>3</th>\n",
              "      <td>1</td>\n",
              "      <td>1</td>\n",
              "      <td>3</td>\n",
              "    </tr>\n",
              "  </tbody>\n",
              "</table>\n",
              "</div>"
            ],
            "text/plain": [
              "   sex  pclass  survived\n",
              "2    0       3       300\n",
              "1    0       2        91\n",
              "0    0       1        77\n",
              "5    1       3        72\n",
              "4    1       2         6\n",
              "3    1       1         3"
            ]
          },
          "metadata": {
            "tags": []
          },
          "execution_count": 825
        }
      ]
    },
    {
      "cell_type": "code",
      "metadata": {
        "id": "Z8-AmUhSWNMo",
        "colab_type": "code",
        "colab": {
          "base_uri": "https://localhost:8080/",
          "height": 301
        },
        "outputId": "d2b2013b-bec0-4dfd-c934-7b645c62985c"
      },
      "source": [
        "# plotting barplot to show the distribution of chances of survival per pclass\n",
        "\n",
        "sns.barplot(x='pclass', y='survived', data=nu_age)\n",
        "\n",
        "plt.title('Baplot of Passenger Class vs Status of Survival')\n",
        "plt.show();"
      ],
      "execution_count": 826,
      "outputs": [
        {
          "output_type": "display_data",
          "data": {
            "image/png": "[encoded data removed]",
            "text/plain": [
              "<Figure size 432x288 with 1 Axes>"
            ]
          },
          "metadata": {
            "tags": []
          }
        }
      ]
    },
    {
      "cell_type": "code",
      "metadata": {
        "id": "6bwHBXH9TqCX",
        "colab_type": "code",
        "colab": {
          "base_uri": "https://localhost:8080/",
          "height": 293
        },
        "outputId": "bf526ba4-47bc-443c-900c-3853722498c2"
      },
      "source": [
        "sns.catplot(x=\"pclass\", hue=\"sex\", col=\"survived\",\\\n",
        "            data=nu_age, kind=\"count\",height=4, aspect=.7);"
      ],
      "execution_count": 827,
      "outputs": [
        {
          "output_type": "display_data",
          "data": {
            "image/png": "[encoded data removed]",
            "text/plain": [
              "<Figure size 449.8x288 with 2 Axes>"
            ]
          },
          "metadata": {
            "tags": []
          }
        }
      ]
    },
    {
      "cell_type": "code",
      "metadata": {
        "id": "N2raInFseGnE",
        "colab_type": "code",
        "colab": {}
      },
      "source": [
        ""
      ],
      "execution_count": 0,
      "outputs": []
    },
    {
      "cell_type": "markdown",
      "metadata": {
        "id": "Z2eQ5rQ0eJRx",
        "colab_type": "text"
      },
      "source": [
        "## Modelling"
      ]
    },
    {
      "cell_type": "markdown",
      "metadata": {
        "id": "zaVt2jd_DlL5",
        "colab_type": "text"
      },
      "source": [
        ""
      ]
    },
    {
      "cell_type": "code",
      "metadata": {
        "id": "WDuIz1BFyJTb",
        "colab_type": "code",
        "colab": {
          "base_uri": "https://localhost:8080/",
          "height": 226
        },
        "outputId": "272deb0f-230c-433e-a00d-fc6dfe71cfcf"
      },
      "source": [
        "nu_age['embarked'] = nu_age.embarked.map({'S': 0, 'C': 1, 'Q': 2}).astype(int)\n",
        "nu_age.head()"
      ],
      "execution_count": 828,
      "outputs": [
        {
          "output_type": "execute_result",
          "data": {
            "text/html": [
              "<div>\n",
              "<style scoped>\n",
              "    .dataframe tbody tr th:only-of-type {\n",
              "        vertical-align: middle;\n",
              "    }\n",
              "\n",
              "    .dataframe tbody tr th {\n",
              "        vertical-align: top;\n",
              "    }\n",
              "\n",
              "    .dataframe thead th {\n",
              "        text-align: right;\n",
              "    }\n",
              "</style>\n",
              "<table border=\"1\" class=\"dataframe\">\n",
              "  <thead>\n",
              "    <tr style=\"text-align: right;\">\n",
              "      <th></th>\n",
              "      <th>survived</th>\n",
              "      <th>pclass</th>\n",
              "      <th>sex</th>\n",
              "      <th>age</th>\n",
              "      <th>sibsp</th>\n",
              "      <th>parch</th>\n",
              "      <th>fare</th>\n",
              "      <th>embarked</th>\n",
              "      <th>title</th>\n",
              "      <th>relatives</th>\n",
              "      <th>alone</th>\n",
              "    </tr>\n",
              "  </thead>\n",
              "  <tbody>\n",
              "    <tr>\n",
              "      <th>0</th>\n",
              "      <td>0</td>\n",
              "      <td>3</td>\n",
              "      <td>0</td>\n",
              "      <td>22</td>\n",
              "      <td>1</td>\n",
              "      <td>0</td>\n",
              "      <td>7.2500</td>\n",
              "      <td>0</td>\n",
              "      <td>1</td>\n",
              "      <td>1</td>\n",
              "      <td>0</td>\n",
              "    </tr>\n",
              "    <tr>\n",
              "      <th>1</th>\n",
              "      <td>1</td>\n",
              "      <td>1</td>\n",
              "      <td>1</td>\n",
              "      <td>38</td>\n",
              "      <td>1</td>\n",
              "      <td>0</td>\n",
              "      <td>71.2833</td>\n",
              "      <td>1</td>\n",
              "      <td>3</td>\n",
              "      <td>1</td>\n",
              "      <td>0</td>\n",
              "    </tr>\n",
              "    <tr>\n",
              "      <th>2</th>\n",
              "      <td>1</td>\n",
              "      <td>3</td>\n",
              "      <td>1</td>\n",
              "      <td>26</td>\n",
              "      <td>0</td>\n",
              "      <td>0</td>\n",
              "      <td>7.9250</td>\n",
              "      <td>0</td>\n",
              "      <td>2</td>\n",
              "      <td>0</td>\n",
              "      <td>1</td>\n",
              "    </tr>\n",
              "    <tr>\n",
              "      <th>3</th>\n",
              "      <td>1</td>\n",
              "      <td>1</td>\n",
              "      <td>1</td>\n",
              "      <td>35</td>\n",
              "      <td>1</td>\n",
              "      <td>0</td>\n",
              "      <td>53.1000</td>\n",
              "      <td>0</td>\n",
              "      <td>3</td>\n",
              "      <td>1</td>\n",
              "      <td>0</td>\n",
              "    </tr>\n",
              "    <tr>\n",
              "      <th>4</th>\n",
              "      <td>0</td>\n",
              "      <td>3</td>\n",
              "      <td>0</td>\n",
              "      <td>35</td>\n",
              "      <td>0</td>\n",
              "      <td>0</td>\n",
              "      <td>8.0500</td>\n",
              "      <td>0</td>\n",
              "      <td>1</td>\n",
              "      <td>0</td>\n",
              "      <td>1</td>\n",
              "    </tr>\n",
              "  </tbody>\n",
              "</table>\n",
              "</div>"
            ],
            "text/plain": [
              "   survived  pclass  sex  age  ...  embarked  title  relatives  alone\n",
              "0         0       3    0   22  ...         0      1          1      0\n",
              "1         1       1    1   38  ...         1      3          1      0\n",
              "2         1       3    1   26  ...         0      2          0      1\n",
              "3         1       1    1   35  ...         0      3          1      0\n",
              "4         0       3    0   35  ...         0      1          0      1\n",
              "\n",
              "[5 rows x 11 columns]"
            ]
          },
          "metadata": {
            "tags": []
          },
          "execution_count": 828
        }
      ]
    },
    {
      "cell_type": "code",
      "metadata": {
        "id": "5_Tfmqo-3ucw",
        "colab_type": "code",
        "colab": {
          "base_uri": "https://localhost:8080/",
          "height": 91
        },
        "outputId": "cce1b138-4013-4825-b67a-5df05ea7dd1a"
      },
      "source": [
        "# defining our independent variables and dependent variable\n",
        "features = nu_age.drop('survived', 1)\n",
        "target = nu_age['survived']\n",
        "\n",
        "# splitting our data into training and test sets at a ratio of 80:20%\n",
        "feat_train, feat_test, targ_train, targ_test = train_test_split(features, target, test_size=.2, random_state=34)\n",
        "\n",
        "print('Feat train shape:', feat_train.shape)\n",
        "print('Target train shape:', targ_train.shape)\n",
        "print('Feat test shape:', feat_test.shape)\n",
        "print('Target test shape:', targ_test.shape)\n"
      ],
      "execution_count": 834,
      "outputs": [
        {
          "output_type": "stream",
          "text": [
            "Feat train shape: (712, 10)\n",
            "Target train shape: (712,)\n",
            "Feat test shape: (179, 10)\n",
            "Target test shape: (179,)\n"
          ],
          "name": "stdout"
        }
      ]
    },
    {
      "cell_type": "code",
      "metadata": {
        "id": "Tx2irnod4HBi",
        "colab_type": "code",
        "colab": {}
      },
      "source": [
        "# instantiating the standardscaler object\n",
        "sscaler = StandardScaler()\n",
        "\n",
        "# fit and transforming the feat_train \n",
        "feat_train = sscaler.fit_transform(feat_train)\n",
        "\n",
        "# transforming the feat_test\n",
        "feat_test = sscaler.transform(feat_test)"
      ],
      "execution_count": 0,
      "outputs": []
    },
    {
      "cell_type": "code",
      "metadata": {
        "id": "906tO7Mu64AT",
        "colab_type": "code",
        "colab": {
          "base_uri": "https://localhost:8080/",
          "height": 92
        },
        "outputId": "29198863-482e-4369-bf7f-678c3069b70d"
      },
      "source": [
        "# instantiating the KNeighbors Classifier with 5 neighbors\n",
        "kclassif = KNeighborsClassifier(n_neighbors=5, metric='euclidean')\n",
        "\n",
        "# fitting the model with training data\n",
        "kclassif.fit(feat_train, targ_train)"
      ],
      "execution_count": 838,
      "outputs": [
        {
          "output_type": "execute_result",
          "data": {
            "text/plain": [
              "KNeighborsClassifier(algorithm='auto', leaf_size=30, metric='euclidean',\n",
              "                     metric_params=None, n_jobs=None, n_neighbors=5, p=2,\n",
              "                     weights='uniform')"
            ]
          },
          "metadata": {
            "tags": []
          },
          "execution_count": 838
        }
      ]
    },
    {
      "cell_type": "code",
      "metadata": {
        "id": "RJUt0Jv08AZ1",
        "colab_type": "code",
        "colab": {}
      },
      "source": [
        "# making predictions\n",
        "kpred = kclassif.predict(feat_test)"
      ],
      "execution_count": 0,
      "outputs": []
    },
    {
      "cell_type": "code",
      "metadata": {
        "id": "63gKqV438J3A",
        "colab_type": "code",
        "colab": {
          "base_uri": "https://localhost:8080/",
          "height": 239
        },
        "outputId": "7b214026-20a1-4b2e-fa7c-012e5b7c9044"
      },
      "source": [
        "# Evaluating the Algorithm\n",
        "# ---\n",
        "# For evaluating an algorithm, confusion matrix, precision, recall and f1 score are the most commonly used metrics. \n",
        "# The confusion_matrix and classification_report methods of the sklearn.metrics can be used to calculate these metrics. \n",
        "# ---\n",
        "# \n",
        "\n",
        "print(metrics.confusion_matrix(targ_test, kpred))\n",
        "print(metrics.classification_report(targ_test, kpred))\n",
        "print('Accuracy: %.2f%%'% (metrics.accuracy_score(targ_test, kpred) * 100))"
      ],
      "execution_count": 841,
      "outputs": [
        {
          "output_type": "stream",
          "text": [
            "[[101  17]\n",
            " [ 13  48]]\n",
            "              precision    recall  f1-score   support\n",
            "\n",
            "           0       0.89      0.86      0.87       118\n",
            "           1       0.74      0.79      0.76        61\n",
            "\n",
            "    accuracy                           0.83       179\n",
            "   macro avg       0.81      0.82      0.82       179\n",
            "weighted avg       0.84      0.83      0.83       179\n",
            "\n",
            "Accuracy: 83.24%\n"
          ],
          "name": "stdout"
        }
      ]
    }
  ]
}