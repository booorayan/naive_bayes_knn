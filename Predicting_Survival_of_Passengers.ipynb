{
  "nbformat": 4,
  "nbformat_minor": 0,
  "metadata": {
    "colab": {
      "name": "Predicting Survival of Passengers",
      "provenance": [],
      "collapsed_sections": [],
      "include_colab_link": true
    },
    "kernelspec": {
      "name": "python3",
      "display_name": "Python 3"
    },
    "accelerator": "GPU"
  },
  "cells": [
    {
      "cell_type": "markdown",
      "metadata": {
        "id": "view-in-github",
        "colab_type": "text"
      },
      "source": [
        "<a href=\"https://colab.research.google.com/github/booorayan/naive_bayes_knn/blob/master/Predicting_Survival_of_Passengers.ipynb\" target=\"_parent\"><img src=\"https://colab.research.google.com/assets/colab-badge.svg\" alt=\"Open In Colab\"/></a>"
      ]
    },
    {
      "cell_type": "markdown",
      "metadata": {
        "id": "S1JQ7BgFtIx-",
        "colab_type": "text"
      },
      "source": [
        "# Predicting the Survival of Passengers Using Titanic Dataset"
      ]
    },
    {
      "cell_type": "markdown",
      "metadata": {
        "id": "ezkd82I-taEA",
        "colab_type": "text"
      },
      "source": [
        "## Defining the Question"
      ]
    },
    {
      "cell_type": "markdown",
      "metadata": {
        "id": "1oA2uQg3tjCR",
        "colab_type": "text"
      },
      "source": [
        "## Importing the Required Libraries"
      ]
    },
    {
      "cell_type": "code",
      "metadata": {
        "id": "A_CB8j25ucD0",
        "colab_type": "code",
        "colab": {}
      },
      "source": [
        "import pandas as pd\n",
        "import numpy as np\n",
        "import matplotlib.pyplot as plt\n",
        "%matplotlib inline\n",
        "import seaborn as sns; sns.set()\n",
        "\n",
        "from sklearn.neighbors import KNeighborsClassifier\n",
        "from sklearn.ensemble import RandomForestClassifier\n",
        "from xgboost import XGBClassifier\n",
        "from sklearn.linear_model import LogisticRegression\n",
        "from sklearn.naive_bayes import GaussianNB\n",
        "from sklearn.preprocessing import StandardScaler\n",
        "from sklearn.discriminant_analysis import LinearDiscriminantAnalysis\n",
        "from sklearn.model_selection import train_test_split, KFold, GridSearchCV, RandomizedSearchCV, cross_val_score\n",
        "from sklearn import metrics"
      ],
      "execution_count": 0,
      "outputs": []
    },
    {
      "cell_type": "code",
      "metadata": {
        "id": "9KRkE-8A2ok7",
        "colab_type": "code",
        "colab": {}
      },
      "source": [
        "# enabling mulitple display in the same cell\n",
        "\n",
        "from IPython.core.interactiveshell import InteractiveShell\n",
        "InteractiveShell.ast_node_interactivity = 'all'"
      ],
      "execution_count": 0,
      "outputs": []
    },
    {
      "cell_type": "markdown",
      "metadata": {
        "id": "HPGfz3OOtkLD",
        "colab_type": "text"
      },
      "source": [
        "## Loading the Dataset"
      ]
    },
    {
      "cell_type": "code",
      "metadata": {
        "id": "ApWe7Y0FudeB",
        "colab_type": "code",
        "colab": {}
      },
      "source": [
        "# loading the csv file as a dataframe using pd.read_csv function\n",
        "titan = pd.read_csv('train.csv')\n",
        "\n"
      ],
      "execution_count": 0,
      "outputs": []
    },
    {
      "cell_type": "code",
      "metadata": {
        "id": "a9kqbCNNzR9y",
        "colab_type": "code",
        "outputId": "b528dc2b-a90d-419d-dcc3-7bf8b2472d17",
        "colab": {
          "base_uri": "https://localhost:8080/",
          "height": 594
        }
      },
      "source": [
        "# previewing the first and last five observations in the train dataset\n",
        "# previewing the first five observations in the dataset\n",
        "print('\\033[1m  First Five Observations:\\033[0m \\n')\n",
        "titan.head()\n",
        "\n",
        "# previewing the last five observations \n",
        "print('\\n\\n\\n\\033[1m  Last Five Observations:\\033[0m \\n' )\n",
        "titan.tail()"
      ],
      "execution_count": 246,
      "outputs": [
        {
          "output_type": "stream",
          "text": [
            "\u001b[1m  First Five Observations:\u001b[0m \n",
            "\n"
          ],
          "name": "stdout"
        },
        {
          "output_type": "execute_result",
          "data": {
            "text/html": [
              "<div>\n",
              "<style scoped>\n",
              "    .dataframe tbody tr th:only-of-type {\n",
              "        vertical-align: middle;\n",
              "    }\n",
              "\n",
              "    .dataframe tbody tr th {\n",
              "        vertical-align: top;\n",
              "    }\n",
              "\n",
              "    .dataframe thead th {\n",
              "        text-align: right;\n",
              "    }\n",
              "</style>\n",
              "<table border=\"1\" class=\"dataframe\">\n",
              "  <thead>\n",
              "    <tr style=\"text-align: right;\">\n",
              "      <th></th>\n",
              "      <th>PassengerId</th>\n",
              "      <th>Survived</th>\n",
              "      <th>Pclass</th>\n",
              "      <th>Name</th>\n",
              "      <th>Sex</th>\n",
              "      <th>Age</th>\n",
              "      <th>SibSp</th>\n",
              "      <th>Parch</th>\n",
              "      <th>Ticket</th>\n",
              "      <th>Fare</th>\n",
              "      <th>Cabin</th>\n",
              "      <th>Embarked</th>\n",
              "    </tr>\n",
              "  </thead>\n",
              "  <tbody>\n",
              "    <tr>\n",
              "      <th>0</th>\n",
              "      <td>1</td>\n",
              "      <td>0</td>\n",
              "      <td>3</td>\n",
              "      <td>Braund, Mr. Owen Harris</td>\n",
              "      <td>male</td>\n",
              "      <td>22.0</td>\n",
              "      <td>1</td>\n",
              "      <td>0</td>\n",
              "      <td>A/5 21171</td>\n",
              "      <td>7.2500</td>\n",
              "      <td>NaN</td>\n",
              "      <td>S</td>\n",
              "    </tr>\n",
              "    <tr>\n",
              "      <th>1</th>\n",
              "      <td>2</td>\n",
              "      <td>1</td>\n",
              "      <td>1</td>\n",
              "      <td>Cumings, Mrs. John Bradley (Florence Briggs Th...</td>\n",
              "      <td>female</td>\n",
              "      <td>38.0</td>\n",
              "      <td>1</td>\n",
              "      <td>0</td>\n",
              "      <td>PC 17599</td>\n",
              "      <td>71.2833</td>\n",
              "      <td>C85</td>\n",
              "      <td>C</td>\n",
              "    </tr>\n",
              "    <tr>\n",
              "      <th>2</th>\n",
              "      <td>3</td>\n",
              "      <td>1</td>\n",
              "      <td>3</td>\n",
              "      <td>Heikkinen, Miss. Laina</td>\n",
              "      <td>female</td>\n",
              "      <td>26.0</td>\n",
              "      <td>0</td>\n",
              "      <td>0</td>\n",
              "      <td>STON/O2. 3101282</td>\n",
              "      <td>7.9250</td>\n",
              "      <td>NaN</td>\n",
              "      <td>S</td>\n",
              "    </tr>\n",
              "    <tr>\n",
              "      <th>3</th>\n",
              "      <td>4</td>\n",
              "      <td>1</td>\n",
              "      <td>1</td>\n",
              "      <td>Futrelle, Mrs. Jacques Heath (Lily May Peel)</td>\n",
              "      <td>female</td>\n",
              "      <td>35.0</td>\n",
              "      <td>1</td>\n",
              "      <td>0</td>\n",
              "      <td>113803</td>\n",
              "      <td>53.1000</td>\n",
              "      <td>C123</td>\n",
              "      <td>S</td>\n",
              "    </tr>\n",
              "    <tr>\n",
              "      <th>4</th>\n",
              "      <td>5</td>\n",
              "      <td>0</td>\n",
              "      <td>3</td>\n",
              "      <td>Allen, Mr. William Henry</td>\n",
              "      <td>male</td>\n",
              "      <td>35.0</td>\n",
              "      <td>0</td>\n",
              "      <td>0</td>\n",
              "      <td>373450</td>\n",
              "      <td>8.0500</td>\n",
              "      <td>NaN</td>\n",
              "      <td>S</td>\n",
              "    </tr>\n",
              "  </tbody>\n",
              "</table>\n",
              "</div>"
            ],
            "text/plain": [
              "   PassengerId  Survived  Pclass  ...     Fare Cabin  Embarked\n",
              "0            1         0       3  ...   7.2500   NaN         S\n",
              "1            2         1       1  ...  71.2833   C85         C\n",
              "2            3         1       3  ...   7.9250   NaN         S\n",
              "3            4         1       1  ...  53.1000  C123         S\n",
              "4            5         0       3  ...   8.0500   NaN         S\n",
              "\n",
              "[5 rows x 12 columns]"
            ]
          },
          "metadata": {
            "tags": []
          },
          "execution_count": 246
        },
        {
          "output_type": "stream",
          "text": [
            "\n",
            "\n",
            "\n",
            "\u001b[1m  Last Five Observations:\u001b[0m \n",
            "\n"
          ],
          "name": "stdout"
        },
        {
          "output_type": "execute_result",
          "data": {
            "text/html": [
              "<div>\n",
              "<style scoped>\n",
              "    .dataframe tbody tr th:only-of-type {\n",
              "        vertical-align: middle;\n",
              "    }\n",
              "\n",
              "    .dataframe tbody tr th {\n",
              "        vertical-align: top;\n",
              "    }\n",
              "\n",
              "    .dataframe thead th {\n",
              "        text-align: right;\n",
              "    }\n",
              "</style>\n",
              "<table border=\"1\" class=\"dataframe\">\n",
              "  <thead>\n",
              "    <tr style=\"text-align: right;\">\n",
              "      <th></th>\n",
              "      <th>PassengerId</th>\n",
              "      <th>Survived</th>\n",
              "      <th>Pclass</th>\n",
              "      <th>Name</th>\n",
              "      <th>Sex</th>\n",
              "      <th>Age</th>\n",
              "      <th>SibSp</th>\n",
              "      <th>Parch</th>\n",
              "      <th>Ticket</th>\n",
              "      <th>Fare</th>\n",
              "      <th>Cabin</th>\n",
              "      <th>Embarked</th>\n",
              "    </tr>\n",
              "  </thead>\n",
              "  <tbody>\n",
              "    <tr>\n",
              "      <th>886</th>\n",
              "      <td>887</td>\n",
              "      <td>0</td>\n",
              "      <td>2</td>\n",
              "      <td>Montvila, Rev. Juozas</td>\n",
              "      <td>male</td>\n",
              "      <td>27.0</td>\n",
              "      <td>0</td>\n",
              "      <td>0</td>\n",
              "      <td>211536</td>\n",
              "      <td>13.00</td>\n",
              "      <td>NaN</td>\n",
              "      <td>S</td>\n",
              "    </tr>\n",
              "    <tr>\n",
              "      <th>887</th>\n",
              "      <td>888</td>\n",
              "      <td>1</td>\n",
              "      <td>1</td>\n",
              "      <td>Graham, Miss. Margaret Edith</td>\n",
              "      <td>female</td>\n",
              "      <td>19.0</td>\n",
              "      <td>0</td>\n",
              "      <td>0</td>\n",
              "      <td>112053</td>\n",
              "      <td>30.00</td>\n",
              "      <td>B42</td>\n",
              "      <td>S</td>\n",
              "    </tr>\n",
              "    <tr>\n",
              "      <th>888</th>\n",
              "      <td>889</td>\n",
              "      <td>0</td>\n",
              "      <td>3</td>\n",
              "      <td>Johnston, Miss. Catherine Helen \"Carrie\"</td>\n",
              "      <td>female</td>\n",
              "      <td>NaN</td>\n",
              "      <td>1</td>\n",
              "      <td>2</td>\n",
              "      <td>W./C. 6607</td>\n",
              "      <td>23.45</td>\n",
              "      <td>NaN</td>\n",
              "      <td>S</td>\n",
              "    </tr>\n",
              "    <tr>\n",
              "      <th>889</th>\n",
              "      <td>890</td>\n",
              "      <td>1</td>\n",
              "      <td>1</td>\n",
              "      <td>Behr, Mr. Karl Howell</td>\n",
              "      <td>male</td>\n",
              "      <td>26.0</td>\n",
              "      <td>0</td>\n",
              "      <td>0</td>\n",
              "      <td>111369</td>\n",
              "      <td>30.00</td>\n",
              "      <td>C148</td>\n",
              "      <td>C</td>\n",
              "    </tr>\n",
              "    <tr>\n",
              "      <th>890</th>\n",
              "      <td>891</td>\n",
              "      <td>0</td>\n",
              "      <td>3</td>\n",
              "      <td>Dooley, Mr. Patrick</td>\n",
              "      <td>male</td>\n",
              "      <td>32.0</td>\n",
              "      <td>0</td>\n",
              "      <td>0</td>\n",
              "      <td>370376</td>\n",
              "      <td>7.75</td>\n",
              "      <td>NaN</td>\n",
              "      <td>Q</td>\n",
              "    </tr>\n",
              "  </tbody>\n",
              "</table>\n",
              "</div>"
            ],
            "text/plain": [
              "     PassengerId  Survived  Pclass  ...   Fare Cabin  Embarked\n",
              "886          887         0       2  ...  13.00   NaN         S\n",
              "887          888         1       1  ...  30.00   B42         S\n",
              "888          889         0       3  ...  23.45   NaN         S\n",
              "889          890         1       1  ...  30.00  C148         C\n",
              "890          891         0       3  ...   7.75   NaN         Q\n",
              "\n",
              "[5 rows x 12 columns]"
            ]
          },
          "metadata": {
            "tags": []
          },
          "execution_count": 246
        }
      ]
    },
    {
      "cell_type": "markdown",
      "metadata": {
        "id": "MyJIYc89tlRL",
        "colab_type": "text"
      },
      "source": [
        "## Exploring & Tidying the Dataframe"
      ]
    },
    {
      "cell_type": "code",
      "metadata": {
        "id": "VwemRfFPuehH",
        "colab_type": "code",
        "outputId": "40de34ff-3950-4e82-f451-87eee254e650",
        "colab": {
          "base_uri": "https://localhost:8080/",
          "height": 72
        }
      },
      "source": [
        "# checking the names of columns in the dataframe\n",
        "titan.columns"
      ],
      "execution_count": 247,
      "outputs": [
        {
          "output_type": "execute_result",
          "data": {
            "text/plain": [
              "Index(['PassengerId', 'Survived', 'Pclass', 'Name', 'Sex', 'Age', 'SibSp',\n",
              "       'Parch', 'Ticket', 'Fare', 'Cabin', 'Embarked'],\n",
              "      dtype='object')"
            ]
          },
          "metadata": {
            "tags": []
          },
          "execution_count": 247
        }
      ]
    },
    {
      "cell_type": "code",
      "metadata": {
        "id": "32x05pHsuxq4",
        "colab_type": "code",
        "outputId": "ffe547fd-b13e-403b-e1fa-f9c65d15959a",
        "colab": {
          "base_uri": "https://localhost:8080/",
          "height": 72
        }
      },
      "source": [
        "# changing the column names to lowercase\n",
        "titan.columns = titan.columns.str.lower()\n",
        "titan.columns"
      ],
      "execution_count": 248,
      "outputs": [
        {
          "output_type": "execute_result",
          "data": {
            "text/plain": [
              "Index(['passengerid', 'survived', 'pclass', 'name', 'sex', 'age', 'sibsp',\n",
              "       'parch', 'ticket', 'fare', 'cabin', 'embarked'],\n",
              "      dtype='object')"
            ]
          },
          "metadata": {
            "tags": []
          },
          "execution_count": 248
        }
      ]
    },
    {
      "cell_type": "code",
      "metadata": {
        "id": "iIQ75eJa3qQ6",
        "colab_type": "code",
        "outputId": "5ab56651-bf7a-4a79-feba-58c8385bdd75",
        "colab": {
          "base_uri": "https://localhost:8080/",
          "height": 72
        }
      },
      "source": [
        "# checking the number of rows and columns and total no. of observations in the dataframe\n",
        "print('No. of rows:', titan.shape[0])\n",
        "print('No. of columns:', titan.shape[1])\n",
        "print('Total no. of observations:', titan.size)"
      ],
      "execution_count": 249,
      "outputs": [
        {
          "output_type": "stream",
          "text": [
            "No. of rows: 891\n",
            "No. of columns: 12\n",
            "Total no. of observations: 10692\n"
          ],
          "name": "stdout"
        }
      ]
    },
    {
      "cell_type": "code",
      "metadata": {
        "id": "N9u5OH23uz4N",
        "colab_type": "code",
        "outputId": "b43cb92a-0635-41a7-fa0c-8624ac7b2711",
        "colab": {
          "base_uri": "https://localhost:8080/",
          "height": 257
        }
      },
      "source": [
        "# checking if the columns have the correct datatypes\n",
        "titan.dtypes"
      ],
      "execution_count": 250,
      "outputs": [
        {
          "output_type": "execute_result",
          "data": {
            "text/plain": [
              "passengerid      int64\n",
              "survived         int64\n",
              "pclass           int64\n",
              "name            object\n",
              "sex             object\n",
              "age            float64\n",
              "sibsp            int64\n",
              "parch            int64\n",
              "ticket          object\n",
              "fare           float64\n",
              "cabin           object\n",
              "embarked        object\n",
              "dtype: object"
            ]
          },
          "metadata": {
            "tags": []
          },
          "execution_count": 250
        }
      ]
    },
    {
      "cell_type": "code",
      "metadata": {
        "id": "MpvhefWb5QtI",
        "colab_type": "code",
        "outputId": "099a86e2-ce1b-4a7b-d1f0-2dd0cd05a3de",
        "colab": {
          "base_uri": "https://localhost:8080/",
          "height": 331
        }
      },
      "source": [
        "# checking the no. of non-null values in the datframe\n",
        "titan.info()"
      ],
      "execution_count": 251,
      "outputs": [
        {
          "output_type": "stream",
          "text": [
            "<class 'pandas.core.frame.DataFrame'>\n",
            "RangeIndex: 891 entries, 0 to 890\n",
            "Data columns (total 12 columns):\n",
            "passengerid    891 non-null int64\n",
            "survived       891 non-null int64\n",
            "pclass         891 non-null int64\n",
            "name           891 non-null object\n",
            "sex            891 non-null object\n",
            "age            714 non-null float64\n",
            "sibsp          891 non-null int64\n",
            "parch          891 non-null int64\n",
            "ticket         891 non-null object\n",
            "fare           891 non-null float64\n",
            "cabin          204 non-null object\n",
            "embarked       889 non-null object\n",
            "dtypes: float64(2), int64(5), object(5)\n",
            "memory usage: 83.6+ KB\n"
          ],
          "name": "stdout"
        }
      ]
    },
    {
      "cell_type": "markdown",
      "metadata": {
        "id": "nkZSn5od5hi4",
        "colab_type": "text"
      },
      "source": [
        "From the output, we can see that some columns have null values (i.e cabin, age and embarked). The cabin column has a very high number of null values\n",
        "\n",
        "The dataframe has 2 columns of float datatype(i.e. fare & age), five integer columns(i.e. passengerid, survived, pclass, sibsp & parch) and 5 object columns (i.e. name, sex, ticket, cabin & embarked)"
      ]
    },
    {
      "cell_type": "code",
      "metadata": {
        "id": "t00UfufJ8MnX",
        "colab_type": "code",
        "outputId": "6edee6b6-c154-410c-cddc-472d87b0e440",
        "colab": {
          "base_uri": "https://localhost:8080/",
          "height": 257
        }
      },
      "source": [
        "# checking for number of missing values in each column\n",
        "titan.isnull().sum()"
      ],
      "execution_count": 252,
      "outputs": [
        {
          "output_type": "execute_result",
          "data": {
            "text/plain": [
              "passengerid      0\n",
              "survived         0\n",
              "pclass           0\n",
              "name             0\n",
              "sex              0\n",
              "age            177\n",
              "sibsp            0\n",
              "parch            0\n",
              "ticket           0\n",
              "fare             0\n",
              "cabin          687\n",
              "embarked         2\n",
              "dtype: int64"
            ]
          },
          "metadata": {
            "tags": []
          },
          "execution_count": 252
        }
      ]
    },
    {
      "cell_type": "markdown",
      "metadata": {
        "id": "P_Rv6qm68itM",
        "colab_type": "text"
      },
      "source": [
        "The age column has 177 null values, the cabin column 687 and the embarked column has 2 null values"
      ]
    },
    {
      "cell_type": "code",
      "metadata": {
        "id": "X7ilMEr9613p",
        "colab_type": "code",
        "outputId": "25f98d51-1597-4cf8-a87e-39fa0e6afc52",
        "colab": {
          "base_uri": "https://localhost:8080/",
          "height": 72
        }
      },
      "source": [
        "# renaming the column passengerid to passenger_id\n",
        "titan.rename({'passengerid': 'passenger_id'}, axis=1, inplace=True) \n",
        "titan.columns"
      ],
      "execution_count": 253,
      "outputs": [
        {
          "output_type": "execute_result",
          "data": {
            "text/plain": [
              "Index(['passenger_id', 'survived', 'pclass', 'name', 'sex', 'age', 'sibsp',\n",
              "       'parch', 'ticket', 'fare', 'cabin', 'embarked'],\n",
              "      dtype='object')"
            ]
          },
          "metadata": {
            "tags": []
          },
          "execution_count": 253
        }
      ]
    },
    {
      "cell_type": "code",
      "metadata": {
        "id": "FIJuHLgw1tgM",
        "colab_type": "code",
        "outputId": "8bbcd4cf-f6db-495b-c826-0c3f471761fd",
        "colab": {
          "base_uri": "https://localhost:8080/",
          "height": 206
        }
      },
      "source": [
        "# dropping the ticket and cabin column based on the assumption that the two don't influence the cahnces of survival\n",
        "taitan = titan.drop(['ticket', 'cabin', 'passenger_id'], axis=1)\n",
        "\n",
        "# previewing the resulting dataframe\n",
        "taitan.head()"
      ],
      "execution_count": 254,
      "outputs": [
        {
          "output_type": "execute_result",
          "data": {
            "text/html": [
              "<div>\n",
              "<style scoped>\n",
              "    .dataframe tbody tr th:only-of-type {\n",
              "        vertical-align: middle;\n",
              "    }\n",
              "\n",
              "    .dataframe tbody tr th {\n",
              "        vertical-align: top;\n",
              "    }\n",
              "\n",
              "    .dataframe thead th {\n",
              "        text-align: right;\n",
              "    }\n",
              "</style>\n",
              "<table border=\"1\" class=\"dataframe\">\n",
              "  <thead>\n",
              "    <tr style=\"text-align: right;\">\n",
              "      <th></th>\n",
              "      <th>survived</th>\n",
              "      <th>pclass</th>\n",
              "      <th>name</th>\n",
              "      <th>sex</th>\n",
              "      <th>age</th>\n",
              "      <th>sibsp</th>\n",
              "      <th>parch</th>\n",
              "      <th>fare</th>\n",
              "      <th>embarked</th>\n",
              "    </tr>\n",
              "  </thead>\n",
              "  <tbody>\n",
              "    <tr>\n",
              "      <th>0</th>\n",
              "      <td>0</td>\n",
              "      <td>3</td>\n",
              "      <td>Braund, Mr. Owen Harris</td>\n",
              "      <td>male</td>\n",
              "      <td>22.0</td>\n",
              "      <td>1</td>\n",
              "      <td>0</td>\n",
              "      <td>7.2500</td>\n",
              "      <td>S</td>\n",
              "    </tr>\n",
              "    <tr>\n",
              "      <th>1</th>\n",
              "      <td>1</td>\n",
              "      <td>1</td>\n",
              "      <td>Cumings, Mrs. John Bradley (Florence Briggs Th...</td>\n",
              "      <td>female</td>\n",
              "      <td>38.0</td>\n",
              "      <td>1</td>\n",
              "      <td>0</td>\n",
              "      <td>71.2833</td>\n",
              "      <td>C</td>\n",
              "    </tr>\n",
              "    <tr>\n",
              "      <th>2</th>\n",
              "      <td>1</td>\n",
              "      <td>3</td>\n",
              "      <td>Heikkinen, Miss. Laina</td>\n",
              "      <td>female</td>\n",
              "      <td>26.0</td>\n",
              "      <td>0</td>\n",
              "      <td>0</td>\n",
              "      <td>7.9250</td>\n",
              "      <td>S</td>\n",
              "    </tr>\n",
              "    <tr>\n",
              "      <th>3</th>\n",
              "      <td>1</td>\n",
              "      <td>1</td>\n",
              "      <td>Futrelle, Mrs. Jacques Heath (Lily May Peel)</td>\n",
              "      <td>female</td>\n",
              "      <td>35.0</td>\n",
              "      <td>1</td>\n",
              "      <td>0</td>\n",
              "      <td>53.1000</td>\n",
              "      <td>S</td>\n",
              "    </tr>\n",
              "    <tr>\n",
              "      <th>4</th>\n",
              "      <td>0</td>\n",
              "      <td>3</td>\n",
              "      <td>Allen, Mr. William Henry</td>\n",
              "      <td>male</td>\n",
              "      <td>35.0</td>\n",
              "      <td>0</td>\n",
              "      <td>0</td>\n",
              "      <td>8.0500</td>\n",
              "      <td>S</td>\n",
              "    </tr>\n",
              "  </tbody>\n",
              "</table>\n",
              "</div>"
            ],
            "text/plain": [
              "   survived  pclass  ...     fare embarked\n",
              "0         0       3  ...   7.2500        S\n",
              "1         1       1  ...  71.2833        C\n",
              "2         1       3  ...   7.9250        S\n",
              "3         1       1  ...  53.1000        S\n",
              "4         0       3  ...   8.0500        S\n",
              "\n",
              "[5 rows x 9 columns]"
            ]
          },
          "metadata": {
            "tags": []
          },
          "execution_count": 254
        }
      ]
    },
    {
      "cell_type": "code",
      "metadata": {
        "id": "DTEYPObB4OcN",
        "colab_type": "code",
        "outputId": "c744655c-0295-4743-d39b-658ca2276d63",
        "colab": {
          "base_uri": "https://localhost:8080/",
          "height": 206
        }
      },
      "source": [
        "# usin regular expressions to extract the title of passengers form the name column.\n",
        "# expand = False returns a dataframe\n",
        "taitan['title'] = taitan.name.str.extract('([A-Za-z]+)\\.', expand=False)\n",
        "taitan.tail()"
      ],
      "execution_count": 255,
      "outputs": [
        {
          "output_type": "execute_result",
          "data": {
            "text/html": [
              "<div>\n",
              "<style scoped>\n",
              "    .dataframe tbody tr th:only-of-type {\n",
              "        vertical-align: middle;\n",
              "    }\n",
              "\n",
              "    .dataframe tbody tr th {\n",
              "        vertical-align: top;\n",
              "    }\n",
              "\n",
              "    .dataframe thead th {\n",
              "        text-align: right;\n",
              "    }\n",
              "</style>\n",
              "<table border=\"1\" class=\"dataframe\">\n",
              "  <thead>\n",
              "    <tr style=\"text-align: right;\">\n",
              "      <th></th>\n",
              "      <th>survived</th>\n",
              "      <th>pclass</th>\n",
              "      <th>name</th>\n",
              "      <th>sex</th>\n",
              "      <th>age</th>\n",
              "      <th>sibsp</th>\n",
              "      <th>parch</th>\n",
              "      <th>fare</th>\n",
              "      <th>embarked</th>\n",
              "      <th>title</th>\n",
              "    </tr>\n",
              "  </thead>\n",
              "  <tbody>\n",
              "    <tr>\n",
              "      <th>886</th>\n",
              "      <td>0</td>\n",
              "      <td>2</td>\n",
              "      <td>Montvila, Rev. Juozas</td>\n",
              "      <td>male</td>\n",
              "      <td>27.0</td>\n",
              "      <td>0</td>\n",
              "      <td>0</td>\n",
              "      <td>13.00</td>\n",
              "      <td>S</td>\n",
              "      <td>Rev</td>\n",
              "    </tr>\n",
              "    <tr>\n",
              "      <th>887</th>\n",
              "      <td>1</td>\n",
              "      <td>1</td>\n",
              "      <td>Graham, Miss. Margaret Edith</td>\n",
              "      <td>female</td>\n",
              "      <td>19.0</td>\n",
              "      <td>0</td>\n",
              "      <td>0</td>\n",
              "      <td>30.00</td>\n",
              "      <td>S</td>\n",
              "      <td>Miss</td>\n",
              "    </tr>\n",
              "    <tr>\n",
              "      <th>888</th>\n",
              "      <td>0</td>\n",
              "      <td>3</td>\n",
              "      <td>Johnston, Miss. Catherine Helen \"Carrie\"</td>\n",
              "      <td>female</td>\n",
              "      <td>NaN</td>\n",
              "      <td>1</td>\n",
              "      <td>2</td>\n",
              "      <td>23.45</td>\n",
              "      <td>S</td>\n",
              "      <td>Miss</td>\n",
              "    </tr>\n",
              "    <tr>\n",
              "      <th>889</th>\n",
              "      <td>1</td>\n",
              "      <td>1</td>\n",
              "      <td>Behr, Mr. Karl Howell</td>\n",
              "      <td>male</td>\n",
              "      <td>26.0</td>\n",
              "      <td>0</td>\n",
              "      <td>0</td>\n",
              "      <td>30.00</td>\n",
              "      <td>C</td>\n",
              "      <td>Mr</td>\n",
              "    </tr>\n",
              "    <tr>\n",
              "      <th>890</th>\n",
              "      <td>0</td>\n",
              "      <td>3</td>\n",
              "      <td>Dooley, Mr. Patrick</td>\n",
              "      <td>male</td>\n",
              "      <td>32.0</td>\n",
              "      <td>0</td>\n",
              "      <td>0</td>\n",
              "      <td>7.75</td>\n",
              "      <td>Q</td>\n",
              "      <td>Mr</td>\n",
              "    </tr>\n",
              "  </tbody>\n",
              "</table>\n",
              "</div>"
            ],
            "text/plain": [
              "     survived  pclass  ... embarked title\n",
              "886         0       2  ...        S   Rev\n",
              "887         1       1  ...        S  Miss\n",
              "888         0       3  ...        S  Miss\n",
              "889         1       1  ...        C    Mr\n",
              "890         0       3  ...        Q    Mr\n",
              "\n",
              "[5 rows x 10 columns]"
            ]
          },
          "metadata": {
            "tags": []
          },
          "execution_count": 255
        }
      ]
    },
    {
      "cell_type": "code",
      "metadata": {
        "id": "5f-hBCNj754r",
        "colab_type": "code",
        "colab": {}
      },
      "source": [
        ""
      ],
      "execution_count": 0,
      "outputs": []
    },
    {
      "cell_type": "code",
      "metadata": {
        "id": "Dw4K5uL48NUS",
        "colab_type": "code",
        "outputId": "884e1b2b-696d-4639-d100-21b7e8d548ad",
        "colab": {
          "base_uri": "https://localhost:8080/",
          "height": 165
        }
      },
      "source": [
        "# replacing some of the titles with general names\n",
        "\n",
        "taitan['title'] = taitan.title.replace(to_replace=[['Lady', 'Countess', 'Capt', 'Col',\\\n",
        "                                                  'Don', 'Dr', 'Major', 'Rev', 'Sir',\\\n",
        "                                                  'Jonkheer', 'Dona']],\\\n",
        "                                       value='Royalty')\n",
        "taitan['title'].replace(to_replace='Mlle', value='Miss', inplace=True)\n",
        "taitan['title'].replace(to_replace='Ms', value='Miss', inplace=True)\n",
        "taitan['title'].replace(to_replace='Mme', value='Mrs', inplace=True)\n",
        "\n",
        "# confirming changes were effected\n",
        "taitan.title.unique()\n",
        "print('\\n')\n",
        "taitan.title.value_counts()"
      ],
      "execution_count": 256,
      "outputs": [
        {
          "output_type": "execute_result",
          "data": {
            "text/plain": [
              "array(['Mr', 'Mrs', 'Miss', 'Master', 'Royalty'], dtype=object)"
            ]
          },
          "metadata": {
            "tags": []
          },
          "execution_count": 256
        },
        {
          "output_type": "stream",
          "text": [
            "\n",
            "\n"
          ],
          "name": "stdout"
        },
        {
          "output_type": "execute_result",
          "data": {
            "text/plain": [
              "Mr         517\n",
              "Miss       185\n",
              "Mrs        126\n",
              "Master      40\n",
              "Royalty     23\n",
              "Name: title, dtype: int64"
            ]
          },
          "metadata": {
            "tags": []
          },
          "execution_count": 256
        }
      ]
    },
    {
      "cell_type": "code",
      "metadata": {
        "id": "8YD65vDXJwPX",
        "colab_type": "code",
        "outputId": "bed52dbb-a410-4b1d-a8a6-fe0ee3fcc1d6",
        "colab": {
          "base_uri": "https://localhost:8080/",
          "height": 238
        }
      },
      "source": [
        "# a frequency table showing number of passengers grouped by title\n",
        "pd.crosstab(taitan['title'], taitan['sex'])"
      ],
      "execution_count": 257,
      "outputs": [
        {
          "output_type": "execute_result",
          "data": {
            "text/html": [
              "<div>\n",
              "<style scoped>\n",
              "    .dataframe tbody tr th:only-of-type {\n",
              "        vertical-align: middle;\n",
              "    }\n",
              "\n",
              "    .dataframe tbody tr th {\n",
              "        vertical-align: top;\n",
              "    }\n",
              "\n",
              "    .dataframe thead th {\n",
              "        text-align: right;\n",
              "    }\n",
              "</style>\n",
              "<table border=\"1\" class=\"dataframe\">\n",
              "  <thead>\n",
              "    <tr style=\"text-align: right;\">\n",
              "      <th>sex</th>\n",
              "      <th>female</th>\n",
              "      <th>male</th>\n",
              "    </tr>\n",
              "    <tr>\n",
              "      <th>title</th>\n",
              "      <th></th>\n",
              "      <th></th>\n",
              "    </tr>\n",
              "  </thead>\n",
              "  <tbody>\n",
              "    <tr>\n",
              "      <th>Master</th>\n",
              "      <td>0</td>\n",
              "      <td>40</td>\n",
              "    </tr>\n",
              "    <tr>\n",
              "      <th>Miss</th>\n",
              "      <td>185</td>\n",
              "      <td>0</td>\n",
              "    </tr>\n",
              "    <tr>\n",
              "      <th>Mr</th>\n",
              "      <td>0</td>\n",
              "      <td>517</td>\n",
              "    </tr>\n",
              "    <tr>\n",
              "      <th>Mrs</th>\n",
              "      <td>126</td>\n",
              "      <td>0</td>\n",
              "    </tr>\n",
              "    <tr>\n",
              "      <th>Royalty</th>\n",
              "      <td>3</td>\n",
              "      <td>20</td>\n",
              "    </tr>\n",
              "  </tbody>\n",
              "</table>\n",
              "</div>"
            ],
            "text/plain": [
              "sex      female  male\n",
              "title                \n",
              "Master        0    40\n",
              "Miss        185     0\n",
              "Mr            0   517\n",
              "Mrs         126     0\n",
              "Royalty       3    20"
            ]
          },
          "metadata": {
            "tags": []
          },
          "execution_count": 257
        }
      ]
    },
    {
      "cell_type": "code",
      "metadata": {
        "id": "KGH8iLz_mSZP",
        "colab_type": "code",
        "colab": {}
      },
      "source": [
        ""
      ],
      "execution_count": 0,
      "outputs": []
    },
    {
      "cell_type": "markdown",
      "metadata": {
        "id": "xi0hYzlN_lTD",
        "colab_type": "text"
      },
      "source": [
        "The title column now has five unique values\n",
        "\n",
        "The titles of most passengers was Mr, Miss and Mrs"
      ]
    },
    {
      "cell_type": "code",
      "metadata": {
        "id": "TQg1lMfAmeiH",
        "colab_type": "code",
        "outputId": "5a4bf506-a07d-43df-b365-b79fde96f6d1",
        "colab": {
          "base_uri": "https://localhost:8080/",
          "height": 206
        }
      },
      "source": [
        "# dropping the name column as it now has little influence on the outcome survival\n",
        "taitan.drop('name', 1, inplace=True)\n",
        "taitan.head()"
      ],
      "execution_count": 258,
      "outputs": [
        {
          "output_type": "execute_result",
          "data": {
            "text/html": [
              "<div>\n",
              "<style scoped>\n",
              "    .dataframe tbody tr th:only-of-type {\n",
              "        vertical-align: middle;\n",
              "    }\n",
              "\n",
              "    .dataframe tbody tr th {\n",
              "        vertical-align: top;\n",
              "    }\n",
              "\n",
              "    .dataframe thead th {\n",
              "        text-align: right;\n",
              "    }\n",
              "</style>\n",
              "<table border=\"1\" class=\"dataframe\">\n",
              "  <thead>\n",
              "    <tr style=\"text-align: right;\">\n",
              "      <th></th>\n",
              "      <th>survived</th>\n",
              "      <th>pclass</th>\n",
              "      <th>sex</th>\n",
              "      <th>age</th>\n",
              "      <th>sibsp</th>\n",
              "      <th>parch</th>\n",
              "      <th>fare</th>\n",
              "      <th>embarked</th>\n",
              "      <th>title</th>\n",
              "    </tr>\n",
              "  </thead>\n",
              "  <tbody>\n",
              "    <tr>\n",
              "      <th>0</th>\n",
              "      <td>0</td>\n",
              "      <td>3</td>\n",
              "      <td>male</td>\n",
              "      <td>22.0</td>\n",
              "      <td>1</td>\n",
              "      <td>0</td>\n",
              "      <td>7.2500</td>\n",
              "      <td>S</td>\n",
              "      <td>Mr</td>\n",
              "    </tr>\n",
              "    <tr>\n",
              "      <th>1</th>\n",
              "      <td>1</td>\n",
              "      <td>1</td>\n",
              "      <td>female</td>\n",
              "      <td>38.0</td>\n",
              "      <td>1</td>\n",
              "      <td>0</td>\n",
              "      <td>71.2833</td>\n",
              "      <td>C</td>\n",
              "      <td>Mrs</td>\n",
              "    </tr>\n",
              "    <tr>\n",
              "      <th>2</th>\n",
              "      <td>1</td>\n",
              "      <td>3</td>\n",
              "      <td>female</td>\n",
              "      <td>26.0</td>\n",
              "      <td>0</td>\n",
              "      <td>0</td>\n",
              "      <td>7.9250</td>\n",
              "      <td>S</td>\n",
              "      <td>Miss</td>\n",
              "    </tr>\n",
              "    <tr>\n",
              "      <th>3</th>\n",
              "      <td>1</td>\n",
              "      <td>1</td>\n",
              "      <td>female</td>\n",
              "      <td>35.0</td>\n",
              "      <td>1</td>\n",
              "      <td>0</td>\n",
              "      <td>53.1000</td>\n",
              "      <td>S</td>\n",
              "      <td>Mrs</td>\n",
              "    </tr>\n",
              "    <tr>\n",
              "      <th>4</th>\n",
              "      <td>0</td>\n",
              "      <td>3</td>\n",
              "      <td>male</td>\n",
              "      <td>35.0</td>\n",
              "      <td>0</td>\n",
              "      <td>0</td>\n",
              "      <td>8.0500</td>\n",
              "      <td>S</td>\n",
              "      <td>Mr</td>\n",
              "    </tr>\n",
              "  </tbody>\n",
              "</table>\n",
              "</div>"
            ],
            "text/plain": [
              "   survived  pclass     sex   age  sibsp  parch     fare embarked title\n",
              "0         0       3    male  22.0      1      0   7.2500        S    Mr\n",
              "1         1       1  female  38.0      1      0  71.2833        C   Mrs\n",
              "2         1       3  female  26.0      0      0   7.9250        S  Miss\n",
              "3         1       1  female  35.0      1      0  53.1000        S   Mrs\n",
              "4         0       3    male  35.0      0      0   8.0500        S    Mr"
            ]
          },
          "metadata": {
            "tags": []
          },
          "execution_count": 258
        }
      ]
    },
    {
      "cell_type": "code",
      "metadata": {
        "id": "qiF8eYPz_5cG",
        "colab_type": "code",
        "outputId": "fa3a21cf-a030-4179-ae0d-f7288cfbe48b",
        "colab": {
          "base_uri": "https://localhost:8080/",
          "height": 206
        }
      },
      "source": [
        "# selecting passengers that survived the accident\n",
        "taitan_filt = taitan[taitan.survived == 1]\n",
        "\n",
        "# grouping passengers by their title and getting the total no. of survivors\n",
        "taitan_filt[['title', 'survived']].groupby('title').count().reset_index()"
      ],
      "execution_count": 259,
      "outputs": [
        {
          "output_type": "execute_result",
          "data": {
            "text/html": [
              "<div>\n",
              "<style scoped>\n",
              "    .dataframe tbody tr th:only-of-type {\n",
              "        vertical-align: middle;\n",
              "    }\n",
              "\n",
              "    .dataframe tbody tr th {\n",
              "        vertical-align: top;\n",
              "    }\n",
              "\n",
              "    .dataframe thead th {\n",
              "        text-align: right;\n",
              "    }\n",
              "</style>\n",
              "<table border=\"1\" class=\"dataframe\">\n",
              "  <thead>\n",
              "    <tr style=\"text-align: right;\">\n",
              "      <th></th>\n",
              "      <th>title</th>\n",
              "      <th>survived</th>\n",
              "    </tr>\n",
              "  </thead>\n",
              "  <tbody>\n",
              "    <tr>\n",
              "      <th>0</th>\n",
              "      <td>Master</td>\n",
              "      <td>23</td>\n",
              "    </tr>\n",
              "    <tr>\n",
              "      <th>1</th>\n",
              "      <td>Miss</td>\n",
              "      <td>130</td>\n",
              "    </tr>\n",
              "    <tr>\n",
              "      <th>2</th>\n",
              "      <td>Mr</td>\n",
              "      <td>81</td>\n",
              "    </tr>\n",
              "    <tr>\n",
              "      <th>3</th>\n",
              "      <td>Mrs</td>\n",
              "      <td>100</td>\n",
              "    </tr>\n",
              "    <tr>\n",
              "      <th>4</th>\n",
              "      <td>Royalty</td>\n",
              "      <td>8</td>\n",
              "    </tr>\n",
              "  </tbody>\n",
              "</table>\n",
              "</div>"
            ],
            "text/plain": [
              "     title  survived\n",
              "0   Master        23\n",
              "1     Miss       130\n",
              "2       Mr        81\n",
              "3      Mrs       100\n",
              "4  Royalty         8"
            ]
          },
          "metadata": {
            "tags": []
          },
          "execution_count": 259
        }
      ]
    },
    {
      "cell_type": "code",
      "metadata": {
        "id": "lBx5rOJyeMK1",
        "colab_type": "code",
        "outputId": "fced81f7-161b-4c8e-bc2d-586e20be36f1",
        "colab": {
          "base_uri": "https://localhost:8080/",
          "height": 206
        }
      },
      "source": [
        "# mapping numerical values to the categorical values in the title column\n",
        "# 'Mr': 1, 'Miss': 2, 'Mrs': 3, 'Master': 4, 'Royalty': 5\n",
        "title_map = {'Mr': 1, 'Miss': 2, 'Mrs': 3, 'Master': 4, 'Royalty': 5}\n",
        "taitan['title'] = taitan['title'].map(title_map)\n",
        "\n",
        "# confirming change has been effected\n",
        "taitan.head()\n"
      ],
      "execution_count": 260,
      "outputs": [
        {
          "output_type": "execute_result",
          "data": {
            "text/html": [
              "<div>\n",
              "<style scoped>\n",
              "    .dataframe tbody tr th:only-of-type {\n",
              "        vertical-align: middle;\n",
              "    }\n",
              "\n",
              "    .dataframe tbody tr th {\n",
              "        vertical-align: top;\n",
              "    }\n",
              "\n",
              "    .dataframe thead th {\n",
              "        text-align: right;\n",
              "    }\n",
              "</style>\n",
              "<table border=\"1\" class=\"dataframe\">\n",
              "  <thead>\n",
              "    <tr style=\"text-align: right;\">\n",
              "      <th></th>\n",
              "      <th>survived</th>\n",
              "      <th>pclass</th>\n",
              "      <th>sex</th>\n",
              "      <th>age</th>\n",
              "      <th>sibsp</th>\n",
              "      <th>parch</th>\n",
              "      <th>fare</th>\n",
              "      <th>embarked</th>\n",
              "      <th>title</th>\n",
              "    </tr>\n",
              "  </thead>\n",
              "  <tbody>\n",
              "    <tr>\n",
              "      <th>0</th>\n",
              "      <td>0</td>\n",
              "      <td>3</td>\n",
              "      <td>male</td>\n",
              "      <td>22.0</td>\n",
              "      <td>1</td>\n",
              "      <td>0</td>\n",
              "      <td>7.2500</td>\n",
              "      <td>S</td>\n",
              "      <td>1</td>\n",
              "    </tr>\n",
              "    <tr>\n",
              "      <th>1</th>\n",
              "      <td>1</td>\n",
              "      <td>1</td>\n",
              "      <td>female</td>\n",
              "      <td>38.0</td>\n",
              "      <td>1</td>\n",
              "      <td>0</td>\n",
              "      <td>71.2833</td>\n",
              "      <td>C</td>\n",
              "      <td>3</td>\n",
              "    </tr>\n",
              "    <tr>\n",
              "      <th>2</th>\n",
              "      <td>1</td>\n",
              "      <td>3</td>\n",
              "      <td>female</td>\n",
              "      <td>26.0</td>\n",
              "      <td>0</td>\n",
              "      <td>0</td>\n",
              "      <td>7.9250</td>\n",
              "      <td>S</td>\n",
              "      <td>2</td>\n",
              "    </tr>\n",
              "    <tr>\n",
              "      <th>3</th>\n",
              "      <td>1</td>\n",
              "      <td>1</td>\n",
              "      <td>female</td>\n",
              "      <td>35.0</td>\n",
              "      <td>1</td>\n",
              "      <td>0</td>\n",
              "      <td>53.1000</td>\n",
              "      <td>S</td>\n",
              "      <td>3</td>\n",
              "    </tr>\n",
              "    <tr>\n",
              "      <th>4</th>\n",
              "      <td>0</td>\n",
              "      <td>3</td>\n",
              "      <td>male</td>\n",
              "      <td>35.0</td>\n",
              "      <td>0</td>\n",
              "      <td>0</td>\n",
              "      <td>8.0500</td>\n",
              "      <td>S</td>\n",
              "      <td>1</td>\n",
              "    </tr>\n",
              "  </tbody>\n",
              "</table>\n",
              "</div>"
            ],
            "text/plain": [
              "   survived  pclass     sex   age  sibsp  parch     fare embarked  title\n",
              "0         0       3    male  22.0      1      0   7.2500        S      1\n",
              "1         1       1  female  38.0      1      0  71.2833        C      3\n",
              "2         1       3  female  26.0      0      0   7.9250        S      2\n",
              "3         1       1  female  35.0      1      0  53.1000        S      3\n",
              "4         0       3    male  35.0      0      0   8.0500        S      1"
            ]
          },
          "metadata": {
            "tags": []
          },
          "execution_count": 260
        }
      ]
    },
    {
      "cell_type": "markdown",
      "metadata": {
        "id": "7vzeCCkHCpcj",
        "colab_type": "text"
      },
      "source": [
        "A significant proportion of Mrs and Miss survived the accident (These two groups suffered the least casualties)"
      ]
    },
    {
      "cell_type": "code",
      "metadata": {
        "id": "4NkioeU9H-Kx",
        "colab_type": "code",
        "outputId": "587cef93-e4e6-4dd7-aeb4-422205b18366",
        "colab": {
          "base_uri": "https://localhost:8080/",
          "height": 35
        }
      },
      "source": [
        "taitan.title.unique()"
      ],
      "execution_count": 261,
      "outputs": [
        {
          "output_type": "execute_result",
          "data": {
            "text/plain": [
              "array([1, 3, 2, 4, 5])"
            ]
          },
          "metadata": {
            "tags": []
          },
          "execution_count": 261
        }
      ]
    },
    {
      "cell_type": "code",
      "metadata": {
        "id": "7cdbI3JyF_MD",
        "colab_type": "code",
        "outputId": "38007139-0da8-4025-e8bf-4105a57677d8",
        "colab": {
          "base_uri": "https://localhost:8080/",
          "height": 206
        }
      },
      "source": [
        "# encoding sex column with numerical values and changing their datatype to integer\n",
        "# male represented by 0 and female mapped to value 1\n",
        "taitan['sex'] = taitan['sex'].map({'female':1, 'male':0}).astype(int)\n",
        "taitan.head()"
      ],
      "execution_count": 262,
      "outputs": [
        {
          "output_type": "execute_result",
          "data": {
            "text/html": [
              "<div>\n",
              "<style scoped>\n",
              "    .dataframe tbody tr th:only-of-type {\n",
              "        vertical-align: middle;\n",
              "    }\n",
              "\n",
              "    .dataframe tbody tr th {\n",
              "        vertical-align: top;\n",
              "    }\n",
              "\n",
              "    .dataframe thead th {\n",
              "        text-align: right;\n",
              "    }\n",
              "</style>\n",
              "<table border=\"1\" class=\"dataframe\">\n",
              "  <thead>\n",
              "    <tr style=\"text-align: right;\">\n",
              "      <th></th>\n",
              "      <th>survived</th>\n",
              "      <th>pclass</th>\n",
              "      <th>sex</th>\n",
              "      <th>age</th>\n",
              "      <th>sibsp</th>\n",
              "      <th>parch</th>\n",
              "      <th>fare</th>\n",
              "      <th>embarked</th>\n",
              "      <th>title</th>\n",
              "    </tr>\n",
              "  </thead>\n",
              "  <tbody>\n",
              "    <tr>\n",
              "      <th>0</th>\n",
              "      <td>0</td>\n",
              "      <td>3</td>\n",
              "      <td>0</td>\n",
              "      <td>22.0</td>\n",
              "      <td>1</td>\n",
              "      <td>0</td>\n",
              "      <td>7.2500</td>\n",
              "      <td>S</td>\n",
              "      <td>1</td>\n",
              "    </tr>\n",
              "    <tr>\n",
              "      <th>1</th>\n",
              "      <td>1</td>\n",
              "      <td>1</td>\n",
              "      <td>1</td>\n",
              "      <td>38.0</td>\n",
              "      <td>1</td>\n",
              "      <td>0</td>\n",
              "      <td>71.2833</td>\n",
              "      <td>C</td>\n",
              "      <td>3</td>\n",
              "    </tr>\n",
              "    <tr>\n",
              "      <th>2</th>\n",
              "      <td>1</td>\n",
              "      <td>3</td>\n",
              "      <td>1</td>\n",
              "      <td>26.0</td>\n",
              "      <td>0</td>\n",
              "      <td>0</td>\n",
              "      <td>7.9250</td>\n",
              "      <td>S</td>\n",
              "      <td>2</td>\n",
              "    </tr>\n",
              "    <tr>\n",
              "      <th>3</th>\n",
              "      <td>1</td>\n",
              "      <td>1</td>\n",
              "      <td>1</td>\n",
              "      <td>35.0</td>\n",
              "      <td>1</td>\n",
              "      <td>0</td>\n",
              "      <td>53.1000</td>\n",
              "      <td>S</td>\n",
              "      <td>3</td>\n",
              "    </tr>\n",
              "    <tr>\n",
              "      <th>4</th>\n",
              "      <td>0</td>\n",
              "      <td>3</td>\n",
              "      <td>0</td>\n",
              "      <td>35.0</td>\n",
              "      <td>0</td>\n",
              "      <td>0</td>\n",
              "      <td>8.0500</td>\n",
              "      <td>S</td>\n",
              "      <td>1</td>\n",
              "    </tr>\n",
              "  </tbody>\n",
              "</table>\n",
              "</div>"
            ],
            "text/plain": [
              "   survived  pclass  sex   age  sibsp  parch     fare embarked  title\n",
              "0         0       3    0  22.0      1      0   7.2500        S      1\n",
              "1         1       1    1  38.0      1      0  71.2833        C      3\n",
              "2         1       3    1  26.0      0      0   7.9250        S      2\n",
              "3         1       1    1  35.0      1      0  53.1000        S      3\n",
              "4         0       3    0  35.0      0      0   8.0500        S      1"
            ]
          },
          "metadata": {
            "tags": []
          },
          "execution_count": 262
        }
      ]
    },
    {
      "cell_type": "code",
      "metadata": {
        "id": "yKGG0-whIN3n",
        "colab_type": "code",
        "outputId": "db5685b7-1840-4e58-8c48-0defcdb38c39",
        "colab": {
          "base_uri": "https://localhost:8080/",
          "height": 653
        }
      },
      "source": [
        "# looking at distribution to get a picture of how to fill missing values\n",
        "miss_grid = sns.FacetGrid(taitan, row='pclass', col='sex', height=3, aspect=2)\n",
        "miss_grid.map(sns.distplot, 'age', bins=20)\n",
        "miss_grid.add_legend()\n",
        "plt.show();"
      ],
      "execution_count": 263,
      "outputs": [
        {
          "output_type": "display_data",
          "data": {
            "image/png": "[encoded data removed]",
            "text/plain": [
              "<Figure size 872.8x648 with 6 Axes>"
            ]
          },
          "metadata": {
            "tags": []
          }
        }
      ]
    },
    {
      "cell_type": "code",
      "metadata": {
        "id": "kGqSyZRsXQln",
        "colab_type": "code",
        "outputId": "bb63e23e-8dcc-47e7-bf3b-9556c8960f49",
        "colab": {
          "base_uri": "https://localhost:8080/",
          "height": 280
        }
      },
      "source": [
        "# joining the sibsp and parch columns also makes sense as it'll\\\n",
        "# display the total no. of relatives one has on the ship\n",
        "\n",
        "# creating a new column called relatives. the column is a sum of two columns: sibsp and parch\n",
        "taitan['relatives'] = taitan['sibsp'] + taitan['parch']\n",
        "\n",
        "# creating a new column, alone that tells whether a passenger had relatives or not\n",
        "# 0 shows that passenger was not alone\n",
        "# 1 shows passenger was alone\n",
        "taitan.loc[taitan['relatives'] > 0, 'alone'] = 0\n",
        "taitan.loc[taitan['relatives'] == 0, 'alone'] = 1\n",
        "\n",
        "# changing datatype pf column to integer\n",
        "taitan.alone = taitan['alone'].astype(int)\n",
        "taitan.head()\n",
        "print('===='*20)\n",
        "taitan.alone.value_counts()\n"
      ],
      "execution_count": 264,
      "outputs": [
        {
          "output_type": "execute_result",
          "data": {
            "text/html": [
              "<div>\n",
              "<style scoped>\n",
              "    .dataframe tbody tr th:only-of-type {\n",
              "        vertical-align: middle;\n",
              "    }\n",
              "\n",
              "    .dataframe tbody tr th {\n",
              "        vertical-align: top;\n",
              "    }\n",
              "\n",
              "    .dataframe thead th {\n",
              "        text-align: right;\n",
              "    }\n",
              "</style>\n",
              "<table border=\"1\" class=\"dataframe\">\n",
              "  <thead>\n",
              "    <tr style=\"text-align: right;\">\n",
              "      <th></th>\n",
              "      <th>survived</th>\n",
              "      <th>pclass</th>\n",
              "      <th>sex</th>\n",
              "      <th>age</th>\n",
              "      <th>sibsp</th>\n",
              "      <th>parch</th>\n",
              "      <th>fare</th>\n",
              "      <th>embarked</th>\n",
              "      <th>title</th>\n",
              "      <th>relatives</th>\n",
              "      <th>alone</th>\n",
              "    </tr>\n",
              "  </thead>\n",
              "  <tbody>\n",
              "    <tr>\n",
              "      <th>0</th>\n",
              "      <td>0</td>\n",
              "      <td>3</td>\n",
              "      <td>0</td>\n",
              "      <td>22.0</td>\n",
              "      <td>1</td>\n",
              "      <td>0</td>\n",
              "      <td>7.2500</td>\n",
              "      <td>S</td>\n",
              "      <td>1</td>\n",
              "      <td>1</td>\n",
              "      <td>0</td>\n",
              "    </tr>\n",
              "    <tr>\n",
              "      <th>1</th>\n",
              "      <td>1</td>\n",
              "      <td>1</td>\n",
              "      <td>1</td>\n",
              "      <td>38.0</td>\n",
              "      <td>1</td>\n",
              "      <td>0</td>\n",
              "      <td>71.2833</td>\n",
              "      <td>C</td>\n",
              "      <td>3</td>\n",
              "      <td>1</td>\n",
              "      <td>0</td>\n",
              "    </tr>\n",
              "    <tr>\n",
              "      <th>2</th>\n",
              "      <td>1</td>\n",
              "      <td>3</td>\n",
              "      <td>1</td>\n",
              "      <td>26.0</td>\n",
              "      <td>0</td>\n",
              "      <td>0</td>\n",
              "      <td>7.9250</td>\n",
              "      <td>S</td>\n",
              "      <td>2</td>\n",
              "      <td>0</td>\n",
              "      <td>1</td>\n",
              "    </tr>\n",
              "    <tr>\n",
              "      <th>3</th>\n",
              "      <td>1</td>\n",
              "      <td>1</td>\n",
              "      <td>1</td>\n",
              "      <td>35.0</td>\n",
              "      <td>1</td>\n",
              "      <td>0</td>\n",
              "      <td>53.1000</td>\n",
              "      <td>S</td>\n",
              "      <td>3</td>\n",
              "      <td>1</td>\n",
              "      <td>0</td>\n",
              "    </tr>\n",
              "    <tr>\n",
              "      <th>4</th>\n",
              "      <td>0</td>\n",
              "      <td>3</td>\n",
              "      <td>0</td>\n",
              "      <td>35.0</td>\n",
              "      <td>0</td>\n",
              "      <td>0</td>\n",
              "      <td>8.0500</td>\n",
              "      <td>S</td>\n",
              "      <td>1</td>\n",
              "      <td>0</td>\n",
              "      <td>1</td>\n",
              "    </tr>\n",
              "  </tbody>\n",
              "</table>\n",
              "</div>"
            ],
            "text/plain": [
              "   survived  pclass  sex   age  ...  embarked  title  relatives alone\n",
              "0         0       3    0  22.0  ...         S      1          1     0\n",
              "1         1       1    1  38.0  ...         C      3          1     0\n",
              "2         1       3    1  26.0  ...         S      2          0     1\n",
              "3         1       1    1  35.0  ...         S      3          1     0\n",
              "4         0       3    0  35.0  ...         S      1          0     1\n",
              "\n",
              "[5 rows x 11 columns]"
            ]
          },
          "metadata": {
            "tags": []
          },
          "execution_count": 264
        },
        {
          "output_type": "stream",
          "text": [
            "================================================================================\n"
          ],
          "name": "stdout"
        },
        {
          "output_type": "execute_result",
          "data": {
            "text/plain": [
              "1    537\n",
              "0    354\n",
              "Name: alone, dtype: int64"
            ]
          },
          "metadata": {
            "tags": []
          },
          "execution_count": 264
        }
      ]
    },
    {
      "cell_type": "markdown",
      "metadata": {
        "id": "XGdE0mz5bsUg",
        "colab_type": "text"
      },
      "source": [
        "Output reveals that 537 passengers were alone while 354 passengers were not alone"
      ]
    },
    {
      "cell_type": "code",
      "metadata": {
        "id": "LfrIHryLcJOL",
        "colab_type": "code",
        "outputId": "2e3e9fdc-1c6c-4c73-91b8-f622cc1a5a6d",
        "colab": {
          "base_uri": "https://localhost:8080/",
          "height": 365
        }
      },
      "source": [
        "axes = sns.catplot('relatives', 'survived', data=taitan, aspect=2.5, kind='point')"
      ],
      "execution_count": 265,
      "outputs": [
        {
          "output_type": "display_data",
          "data": {
            "image/png": "[encoded data removed]",
            "text/plain": [
              "<Figure size 900x360 with 1 Axes>"
            ]
          },
          "metadata": {
            "tags": []
          }
        }
      ]
    },
    {
      "cell_type": "markdown",
      "metadata": {
        "id": "MtEP2kMsc2Ov",
        "colab_type": "text"
      },
      "source": [
        "According to the point catplot, passengers with 1 to 3 relatives had higher chances of survival. Those with more than three relatives had lower chances of survival"
      ]
    },
    {
      "cell_type": "code",
      "metadata": {
        "id": "Ogi1pbOOkJrx",
        "colab_type": "code",
        "outputId": "833fd5c7-e809-4dba-defe-0321002eabfc",
        "colab": {
          "base_uri": "https://localhost:8080/",
          "height": 35
        }
      },
      "source": [
        "taitan.title.unique()"
      ],
      "execution_count": 266,
      "outputs": [
        {
          "output_type": "execute_result",
          "data": {
            "text/plain": [
              "array([1, 3, 2, 4, 5])"
            ]
          },
          "metadata": {
            "tags": []
          },
          "execution_count": 266
        }
      ]
    },
    {
      "cell_type": "code",
      "metadata": {
        "id": "fRpfT10lkfmp",
        "colab_type": "code",
        "colab": {}
      },
      "source": [
        ""
      ],
      "execution_count": 0,
      "outputs": []
    },
    {
      "cell_type": "code",
      "metadata": {
        "id": "puHjVoyJgYiV",
        "colab_type": "code",
        "outputId": "dd93a479-64bb-4b3e-bdc4-416fbe9a89d2",
        "colab": {
          "base_uri": "https://localhost:8080/",
          "height": 274
        }
      },
      "source": [
        "# handling missing values in the age column\n",
        "# creating a new copy pf taitan dataset name nu_age\n",
        "nu_age= taitan\n",
        "\n",
        "# selecting the non-null values only to plot\n",
        "nnull_age = nu_age [nu_age.age.notnull()]\n",
        "nnull_list = list(nnull_age.title.unique())\n",
        "\n",
        "NL = []\n",
        "\n",
        "for i in range(len(nnull_list)):\n",
        "  NL.append(list(nnull_age.age[nnull_age.title == nnull_list[i]]))\n",
        "  \n",
        "\n",
        "bpfig = plt.boxplot(NL, manage_xticks=True, patch_artist=True)\n",
        "\n",
        "# 'Mr': 1, 'Miss': 2, 'Mrs': 3, 'Master': 4, 'Royalty': 5\n",
        "plt.xticks(np.arange(1,6,1), nnull_list)\n",
        "plt.ylabel('Age')\n",
        "plt.setp(bpfig['boxes'], facecolor='tomato')\n",
        "plt.setp(bpfig['medians'], color='black')\n",
        "plt.show();"
      ],
      "execution_count": 267,
      "outputs": [
        {
          "output_type": "display_data",
          "data": {
            "image/png": "[encoded data removed]",
            "text/plain": [
              "<Figure size 432x288 with 1 Axes>"
            ]
          },
          "metadata": {
            "tags": []
          }
        }
      ]
    },
    {
      "cell_type": "markdown",
      "metadata": {
        "id": "2h8JHa2Bm_Vz",
        "colab_type": "text"
      },
      "source": [
        "Boxplots reveal that the median age varies depending on title\n",
        "\n",
        "The outliers were considered to be reasonable and were not removed"
      ]
    },
    {
      "cell_type": "code",
      "metadata": {
        "id": "6KWOM8qDnSBC",
        "colab_type": "code",
        "outputId": "b1a099e5-38f6-421e-e219-20ff6f353df4",
        "colab": {
          "base_uri": "https://localhost:8080/",
          "height": 35
        }
      },
      "source": [
        "# creating a dictionary with the title as the key and median age as the value\n",
        "# 'Mr': 1, 'Miss': 2, 'Mrs': 3, 'Master': 4, 'Royalty': 5\n",
        "med_age = [round(np.median(NL[i])) for i in range(len(NL))]\n",
        "title_medage = dict(np.transpose([nnull_list, med_age]))\n",
        "title_medage"
      ],
      "execution_count": 268,
      "outputs": [
        {
          "output_type": "execute_result",
          "data": {
            "text/plain": [
              "{1.0: 30.0, 2.0: 21.0, 3.0: 35.0, 4.0: 4.0, 5.0: 48.0}"
            ]
          },
          "metadata": {
            "tags": []
          },
          "execution_count": 268
        }
      ]
    },
    {
      "cell_type": "markdown",
      "metadata": {
        "id": "fzWsSGFTo-_c",
        "colab_type": "text"
      },
      "source": [
        "I used this dictionary to impute the misssing values in the age column"
      ]
    },
    {
      "cell_type": "code",
      "metadata": {
        "id": "99hnSY5ppsYI",
        "colab_type": "code",
        "outputId": "ab11291e-7419-4911-8985-917af14a4c77",
        "colab": {
          "base_uri": "https://localhost:8080/",
          "height": 148
        }
      },
      "source": [
        "# filling missing values in the age column with the median\n",
        "for i in title_medage:\n",
        "  nu_age.loc[:,'age'][(nu_age.age.isnull()) & (nu_age.title == i)] = float(title_medage[i])\n",
        "  \n",
        "nu_age.age.isnull().sum()\n",
        "\n",
        "# changing the datatype of age column to int\n",
        "nu_age['age'] = nu_age['age'].astype(int)"
      ],
      "execution_count": 269,
      "outputs": [
        {
          "output_type": "stream",
          "text": [
            "/usr/local/lib/python3.6/dist-packages/ipykernel_launcher.py:2: SettingWithCopyWarning: \n",
            "A value is trying to be set on a copy of a slice from a DataFrame\n",
            "\n",
            "See the caveats in the documentation: http://pandas.pydata.org/pandas-docs/stable/indexing.html#indexing-view-versus-copy\n",
            "  \n"
          ],
          "name": "stderr"
        },
        {
          "output_type": "execute_result",
          "data": {
            "text/plain": [
              "0"
            ]
          },
          "metadata": {
            "tags": []
          },
          "execution_count": 269
        }
      ]
    },
    {
      "cell_type": "code",
      "metadata": {
        "id": "3Exjtrysq-iu",
        "colab_type": "code",
        "outputId": "ec4438b7-6830-4b3f-e911-b0af14029d10",
        "colab": {
          "base_uri": "https://localhost:8080/",
          "height": 131
        }
      },
      "source": [
        "# handling missing data in embarked column\n",
        "print('Total no. of missing values:',nu_age.embarked.isnull().sum())\n",
        "nu_age[nu_age.embarked.isnull()]"
      ],
      "execution_count": 270,
      "outputs": [
        {
          "output_type": "stream",
          "text": [
            "Total no. of missing values: 2\n"
          ],
          "name": "stdout"
        },
        {
          "output_type": "execute_result",
          "data": {
            "text/html": [
              "<div>\n",
              "<style scoped>\n",
              "    .dataframe tbody tr th:only-of-type {\n",
              "        vertical-align: middle;\n",
              "    }\n",
              "\n",
              "    .dataframe tbody tr th {\n",
              "        vertical-align: top;\n",
              "    }\n",
              "\n",
              "    .dataframe thead th {\n",
              "        text-align: right;\n",
              "    }\n",
              "</style>\n",
              "<table border=\"1\" class=\"dataframe\">\n",
              "  <thead>\n",
              "    <tr style=\"text-align: right;\">\n",
              "      <th></th>\n",
              "      <th>survived</th>\n",
              "      <th>pclass</th>\n",
              "      <th>sex</th>\n",
              "      <th>age</th>\n",
              "      <th>sibsp</th>\n",
              "      <th>parch</th>\n",
              "      <th>fare</th>\n",
              "      <th>embarked</th>\n",
              "      <th>title</th>\n",
              "      <th>relatives</th>\n",
              "      <th>alone</th>\n",
              "    </tr>\n",
              "  </thead>\n",
              "  <tbody>\n",
              "    <tr>\n",
              "      <th>61</th>\n",
              "      <td>1</td>\n",
              "      <td>1</td>\n",
              "      <td>1</td>\n",
              "      <td>38</td>\n",
              "      <td>0</td>\n",
              "      <td>0</td>\n",
              "      <td>80.0</td>\n",
              "      <td>NaN</td>\n",
              "      <td>2</td>\n",
              "      <td>0</td>\n",
              "      <td>1</td>\n",
              "    </tr>\n",
              "    <tr>\n",
              "      <th>829</th>\n",
              "      <td>1</td>\n",
              "      <td>1</td>\n",
              "      <td>1</td>\n",
              "      <td>62</td>\n",
              "      <td>0</td>\n",
              "      <td>0</td>\n",
              "      <td>80.0</td>\n",
              "      <td>NaN</td>\n",
              "      <td>3</td>\n",
              "      <td>0</td>\n",
              "      <td>1</td>\n",
              "    </tr>\n",
              "  </tbody>\n",
              "</table>\n",
              "</div>"
            ],
            "text/plain": [
              "     survived  pclass  sex  age  sibsp  ...  fare  embarked title  relatives  alone\n",
              "61          1       1    1   38      0  ...  80.0       NaN     2          0      1\n",
              "829         1       1    1   62      0  ...  80.0       NaN     3          0      1\n",
              "\n",
              "[2 rows x 11 columns]"
            ]
          },
          "metadata": {
            "tags": []
          },
          "execution_count": 270
        }
      ]
    },
    {
      "cell_type": "code",
      "metadata": {
        "id": "M6gEgElysSB_",
        "colab_type": "code",
        "outputId": "816f2fe2-489e-4537-a24d-2787e7989236",
        "colab": {
          "base_uri": "https://localhost:8080/",
          "height": 363
        }
      },
      "source": [
        "nu_age[['fare', 'embarked']][(nu_age.fare >= 80) & (nu_age.fare < 85)]\n",
        "\n",
        "# class closest to the amount of fare is S"
      ],
      "execution_count": 271,
      "outputs": [
        {
          "output_type": "execute_result",
          "data": {
            "text/html": [
              "<div>\n",
              "<style scoped>\n",
              "    .dataframe tbody tr th:only-of-type {\n",
              "        vertical-align: middle;\n",
              "    }\n",
              "\n",
              "    .dataframe tbody tr th {\n",
              "        vertical-align: top;\n",
              "    }\n",
              "\n",
              "    .dataframe thead th {\n",
              "        text-align: right;\n",
              "    }\n",
              "</style>\n",
              "<table border=\"1\" class=\"dataframe\">\n",
              "  <thead>\n",
              "    <tr style=\"text-align: right;\">\n",
              "      <th></th>\n",
              "      <th>fare</th>\n",
              "      <th>embarked</th>\n",
              "    </tr>\n",
              "  </thead>\n",
              "  <tbody>\n",
              "    <tr>\n",
              "      <th>34</th>\n",
              "      <td>82.1708</td>\n",
              "      <td>C</td>\n",
              "    </tr>\n",
              "    <tr>\n",
              "      <th>61</th>\n",
              "      <td>80.0000</td>\n",
              "      <td>NaN</td>\n",
              "    </tr>\n",
              "    <tr>\n",
              "      <th>62</th>\n",
              "      <td>83.4750</td>\n",
              "      <td>S</td>\n",
              "    </tr>\n",
              "    <tr>\n",
              "      <th>230</th>\n",
              "      <td>83.4750</td>\n",
              "      <td>S</td>\n",
              "    </tr>\n",
              "    <tr>\n",
              "      <th>310</th>\n",
              "      <td>83.1583</td>\n",
              "      <td>C</td>\n",
              "    </tr>\n",
              "    <tr>\n",
              "      <th>375</th>\n",
              "      <td>82.1708</td>\n",
              "      <td>C</td>\n",
              "    </tr>\n",
              "    <tr>\n",
              "      <th>445</th>\n",
              "      <td>81.8583</td>\n",
              "      <td>S</td>\n",
              "    </tr>\n",
              "    <tr>\n",
              "      <th>829</th>\n",
              "      <td>80.0000</td>\n",
              "      <td>NaN</td>\n",
              "    </tr>\n",
              "    <tr>\n",
              "      <th>835</th>\n",
              "      <td>83.1583</td>\n",
              "      <td>C</td>\n",
              "    </tr>\n",
              "    <tr>\n",
              "      <th>879</th>\n",
              "      <td>83.1583</td>\n",
              "      <td>C</td>\n",
              "    </tr>\n",
              "  </tbody>\n",
              "</table>\n",
              "</div>"
            ],
            "text/plain": [
              "        fare embarked\n",
              "34   82.1708        C\n",
              "61   80.0000      NaN\n",
              "62   83.4750        S\n",
              "230  83.4750        S\n",
              "310  83.1583        C\n",
              "375  82.1708        C\n",
              "445  81.8583        S\n",
              "829  80.0000      NaN\n",
              "835  83.1583        C\n",
              "879  83.1583        C"
            ]
          },
          "metadata": {
            "tags": []
          },
          "execution_count": 271
        }
      ]
    },
    {
      "cell_type": "code",
      "metadata": {
        "id": "tTvTMl7kuM_d",
        "colab_type": "code",
        "outputId": "4362023e-250c-4f03-a7bc-8c2074939456",
        "colab": {
          "base_uri": "https://localhost:8080/",
          "height": 35
        }
      },
      "source": [
        "# filling null values in embarked column with S because the fare closest to 80 i.e 81.8583, was for a passenger that embarked at S\n",
        "nu_age['embarked'] = nu_age['embarked'].fillna('S')\n",
        "nu_age.embarked.isnull().sum()"
      ],
      "execution_count": 272,
      "outputs": [
        {
          "output_type": "execute_result",
          "data": {
            "text/plain": [
              "0"
            ]
          },
          "metadata": {
            "tags": []
          },
          "execution_count": 272
        }
      ]
    },
    {
      "cell_type": "code",
      "metadata": {
        "id": "sil0KmXouuyP",
        "colab_type": "code",
        "outputId": "46afb361-69f5-4540-f25a-661f73c0bf3d",
        "colab": {
          "base_uri": "https://localhost:8080/",
          "height": 239
        }
      },
      "source": [
        "nu_age.isnull().sum()"
      ],
      "execution_count": 273,
      "outputs": [
        {
          "output_type": "execute_result",
          "data": {
            "text/plain": [
              "survived     0\n",
              "pclass       0\n",
              "sex          0\n",
              "age          0\n",
              "sibsp        0\n",
              "parch        0\n",
              "fare         0\n",
              "embarked     0\n",
              "title        0\n",
              "relatives    0\n",
              "alone        0\n",
              "dtype: int64"
            ]
          },
          "metadata": {
            "tags": []
          },
          "execution_count": 273
        }
      ]
    },
    {
      "cell_type": "markdown",
      "metadata": {
        "id": "k4Z2b1BX4_P6",
        "colab_type": "text"
      },
      "source": [
        "## Exploratory Data Analysis"
      ]
    },
    {
      "cell_type": "code",
      "metadata": {
        "id": "vpahtjhkMShm",
        "colab_type": "code",
        "colab": {}
      },
      "source": [
        ""
      ],
      "execution_count": 0,
      "outputs": []
    },
    {
      "cell_type": "code",
      "metadata": {
        "id": "jA9gfnXTuzvi",
        "colab_type": "code",
        "outputId": "25caa279-c76d-4b6b-c970-002e057a619c",
        "colab": {
          "base_uri": "https://localhost:8080/",
          "height": 300
        }
      },
      "source": [
        "# checking a summary of the descriptive statistics of the datframe \n",
        "nu_age.describe()"
      ],
      "execution_count": 274,
      "outputs": [
        {
          "output_type": "execute_result",
          "data": {
            "text/html": [
              "<div>\n",
              "<style scoped>\n",
              "    .dataframe tbody tr th:only-of-type {\n",
              "        vertical-align: middle;\n",
              "    }\n",
              "\n",
              "    .dataframe tbody tr th {\n",
              "        vertical-align: top;\n",
              "    }\n",
              "\n",
              "    .dataframe thead th {\n",
              "        text-align: right;\n",
              "    }\n",
              "</style>\n",
              "<table border=\"1\" class=\"dataframe\">\n",
              "  <thead>\n",
              "    <tr style=\"text-align: right;\">\n",
              "      <th></th>\n",
              "      <th>survived</th>\n",
              "      <th>pclass</th>\n",
              "      <th>sex</th>\n",
              "      <th>age</th>\n",
              "      <th>sibsp</th>\n",
              "      <th>parch</th>\n",
              "      <th>fare</th>\n",
              "      <th>title</th>\n",
              "      <th>relatives</th>\n",
              "      <th>alone</th>\n",
              "    </tr>\n",
              "  </thead>\n",
              "  <tbody>\n",
              "    <tr>\n",
              "      <th>count</th>\n",
              "      <td>891.000000</td>\n",
              "      <td>891.000000</td>\n",
              "      <td>891.000000</td>\n",
              "      <td>891.000000</td>\n",
              "      <td>891.000000</td>\n",
              "      <td>891.000000</td>\n",
              "      <td>891.000000</td>\n",
              "      <td>891.000000</td>\n",
              "      <td>891.000000</td>\n",
              "      <td>891.000000</td>\n",
              "    </tr>\n",
              "    <tr>\n",
              "      <th>mean</th>\n",
              "      <td>0.383838</td>\n",
              "      <td>2.308642</td>\n",
              "      <td>0.352413</td>\n",
              "      <td>29.378227</td>\n",
              "      <td>0.523008</td>\n",
              "      <td>0.381594</td>\n",
              "      <td>32.204208</td>\n",
              "      <td>1.728395</td>\n",
              "      <td>0.904602</td>\n",
              "      <td>0.602694</td>\n",
              "    </tr>\n",
              "    <tr>\n",
              "      <th>std</th>\n",
              "      <td>0.486592</td>\n",
              "      <td>0.836071</td>\n",
              "      <td>0.477990</td>\n",
              "      <td>13.271645</td>\n",
              "      <td>1.102743</td>\n",
              "      <td>0.806057</td>\n",
              "      <td>49.693429</td>\n",
              "      <td>1.030039</td>\n",
              "      <td>1.613459</td>\n",
              "      <td>0.489615</td>\n",
              "    </tr>\n",
              "    <tr>\n",
              "      <th>min</th>\n",
              "      <td>0.000000</td>\n",
              "      <td>1.000000</td>\n",
              "      <td>0.000000</td>\n",
              "      <td>0.000000</td>\n",
              "      <td>0.000000</td>\n",
              "      <td>0.000000</td>\n",
              "      <td>0.000000</td>\n",
              "      <td>1.000000</td>\n",
              "      <td>0.000000</td>\n",
              "      <td>0.000000</td>\n",
              "    </tr>\n",
              "    <tr>\n",
              "      <th>25%</th>\n",
              "      <td>0.000000</td>\n",
              "      <td>2.000000</td>\n",
              "      <td>0.000000</td>\n",
              "      <td>21.000000</td>\n",
              "      <td>0.000000</td>\n",
              "      <td>0.000000</td>\n",
              "      <td>7.910400</td>\n",
              "      <td>1.000000</td>\n",
              "      <td>0.000000</td>\n",
              "      <td>0.000000</td>\n",
              "    </tr>\n",
              "    <tr>\n",
              "      <th>50%</th>\n",
              "      <td>0.000000</td>\n",
              "      <td>3.000000</td>\n",
              "      <td>0.000000</td>\n",
              "      <td>30.000000</td>\n",
              "      <td>0.000000</td>\n",
              "      <td>0.000000</td>\n",
              "      <td>14.454200</td>\n",
              "      <td>1.000000</td>\n",
              "      <td>0.000000</td>\n",
              "      <td>1.000000</td>\n",
              "    </tr>\n",
              "    <tr>\n",
              "      <th>75%</th>\n",
              "      <td>1.000000</td>\n",
              "      <td>3.000000</td>\n",
              "      <td>1.000000</td>\n",
              "      <td>35.000000</td>\n",
              "      <td>1.000000</td>\n",
              "      <td>0.000000</td>\n",
              "      <td>31.000000</td>\n",
              "      <td>2.000000</td>\n",
              "      <td>1.000000</td>\n",
              "      <td>1.000000</td>\n",
              "    </tr>\n",
              "    <tr>\n",
              "      <th>max</th>\n",
              "      <td>1.000000</td>\n",
              "      <td>3.000000</td>\n",
              "      <td>1.000000</td>\n",
              "      <td>80.000000</td>\n",
              "      <td>8.000000</td>\n",
              "      <td>6.000000</td>\n",
              "      <td>512.329200</td>\n",
              "      <td>5.000000</td>\n",
              "      <td>10.000000</td>\n",
              "      <td>1.000000</td>\n",
              "    </tr>\n",
              "  </tbody>\n",
              "</table>\n",
              "</div>"
            ],
            "text/plain": [
              "         survived      pclass         sex  ...       title   relatives       alone\n",
              "count  891.000000  891.000000  891.000000  ...  891.000000  891.000000  891.000000\n",
              "mean     0.383838    2.308642    0.352413  ...    1.728395    0.904602    0.602694\n",
              "std      0.486592    0.836071    0.477990  ...    1.030039    1.613459    0.489615\n",
              "min      0.000000    1.000000    0.000000  ...    1.000000    0.000000    0.000000\n",
              "25%      0.000000    2.000000    0.000000  ...    1.000000    0.000000    0.000000\n",
              "50%      0.000000    3.000000    0.000000  ...    1.000000    0.000000    1.000000\n",
              "75%      1.000000    3.000000    1.000000  ...    2.000000    1.000000    1.000000\n",
              "max      1.000000    3.000000    1.000000  ...    5.000000   10.000000    1.000000\n",
              "\n",
              "[8 rows x 10 columns]"
            ]
          },
          "metadata": {
            "tags": []
          },
          "execution_count": 274
        }
      ]
    },
    {
      "cell_type": "code",
      "metadata": {
        "id": "NQQ8Roh0uzkl",
        "colab_type": "code",
        "colab": {}
      },
      "source": [
        "import warnings \n",
        "warnings.filterwarnings('ignore', category=DeprecationWarning)\n"
      ],
      "execution_count": 0,
      "outputs": []
    },
    {
      "cell_type": "code",
      "metadata": {
        "id": "AeE6PPG0FWPR",
        "colab_type": "code",
        "outputId": "224472b7-5e00-4abf-cc69-b853a9645d12",
        "colab": {
          "base_uri": "https://localhost:8080/",
          "height": 303
        }
      },
      "source": [
        "# plotting a histogram to show the distribution of age of passengers\n",
        "sns.distplot(nu_age['age'].dropna(), bins=15, color='slategrey')\n",
        "plt.title('Distribution of Passengers\\' Age', fontsize=16)\n",
        "plt.show();"
      ],
      "execution_count": 276,
      "outputs": [
        {
          "output_type": "display_data",
          "data": {
            "image/png": "[encoded data removed]",
            "text/plain": [
              "<Figure size 432x288 with 1 Axes>"
            ]
          },
          "metadata": {
            "tags": []
          }
        }
      ]
    },
    {
      "cell_type": "markdown",
      "metadata": {
        "id": "oRnNwsapIVH_",
        "colab_type": "text"
      },
      "source": [
        "From the distribution, we can conclude that the mean age of passengers is approximately 30 years"
      ]
    },
    {
      "cell_type": "code",
      "metadata": {
        "id": "fckFC3wFjK0d",
        "colab_type": "code",
        "outputId": "db98f9f1-2c4e-4e1c-a528-33d4619ac023",
        "colab": {
          "base_uri": "https://localhost:8080/",
          "height": 365
        }
      },
      "source": [
        "# plotting a multiplot grid showing age distribution of survivors and non-survivors\n",
        "age_dis = sns.FacetGrid(nu_age, col='survived', height=5)\n",
        "age_dis.map(plt.hist, 'age', bins=20)\n",
        "# plt.title('Age Distribution of Survivors and Non-Survivors', pad=40, loc='left')\n",
        "\n",
        "plt.show();"
      ],
      "execution_count": 277,
      "outputs": [
        {
          "output_type": "display_data",
          "data": {
            "image/png": "[encoded data removed]",
            "text/plain": [
              "<Figure size 720x360 with 2 Axes>"
            ]
          },
          "metadata": {
            "tags": []
          }
        }
      ]
    },
    {
      "cell_type": "markdown",
      "metadata": {
        "id": "brvSgfBOlcO7",
        "colab_type": "text"
      },
      "source": [
        "The distributions above reveal that most of the non-survivors were aged between 20 - 30 years\n",
        "\n",
        "Most of the survivors were age between 20 - 38 years"
      ]
    },
    {
      "cell_type": "code",
      "metadata": {
        "id": "zy4VPimzQkmo",
        "colab_type": "code",
        "outputId": "958fce07-4540-40b0-8cf5-d795b794e4c6",
        "colab": {
          "base_uri": "https://localhost:8080/",
          "height": 303
        }
      },
      "source": [
        "# plotting the no. of passengers that survived and those that did not\n",
        "sns.countplot(nu_age.survived)\n",
        "plt.xlabel('Status')\n",
        "plt.xticks(nu_age.survived, ('Didn\\'t Survive', 'Survived'))\n",
        "plt.title('No. of Persons that Survived and Those That Did Not', fontsize=16, color='olive')\n",
        "plt.show();\n"
      ],
      "execution_count": 278,
      "outputs": [
        {
          "output_type": "display_data",
          "data": {
            "image/png": "[encoded data removed]",
            "text/plain": [
              "<Figure size 432x288 with 1 Axes>"
            ]
          },
          "metadata": {
            "tags": []
          }
        }
      ]
    },
    {
      "cell_type": "markdown",
      "metadata": {
        "id": "S5erx1vLW6dZ",
        "colab_type": "text"
      },
      "source": [
        "The countplot reveals that most of the passengers did not survive. Approximately 550 pasengers lost their lives and 340 survived."
      ]
    },
    {
      "cell_type": "code",
      "metadata": {
        "id": "szM3sFXOXQkV",
        "colab_type": "code",
        "outputId": "016e44c0-8252-43a5-f254-d10daac0a1f7",
        "colab": {
          "base_uri": "https://localhost:8080/",
          "height": 72
        }
      },
      "source": [
        "# checking the exct no. of passengers that survived \n",
        "nu_age.survived.value_counts()"
      ],
      "execution_count": 279,
      "outputs": [
        {
          "output_type": "execute_result",
          "data": {
            "text/plain": [
              "0    549\n",
              "1    342\n",
              "Name: survived, dtype: int64"
            ]
          },
          "metadata": {
            "tags": []
          },
          "execution_count": 279
        }
      ]
    },
    {
      "cell_type": "code",
      "metadata": {
        "id": "Y00YTP9RuzRa",
        "colab_type": "code",
        "outputId": "49278d46-bf50-4387-c8c3-44b78903adaa",
        "colab": {
          "base_uri": "https://localhost:8080/",
          "height": 303
        }
      },
      "source": [
        "# plotting the value counts of male and female passengers that survived and those that did not \n",
        "sns.countplot(nu_age.survived, data=nu_age, hue='sex')\n",
        "plt.xlabel('Status')\n",
        "plt.xticks(nu_age.survived, ('Didn\\'t Survive', 'Survived'))\n",
        "plt.title('No. of Males and Females That Survived and Died', fontsize=16, color='olive')\n",
        "plt.show();"
      ],
      "execution_count": 280,
      "outputs": [
        {
          "output_type": "display_data",
          "data": {
            "image/png": "[encoded data removed]",
            "text/plain": [
              "<Figure size 432x288 with 1 Axes>"
            ]
          },
          "metadata": {
            "tags": []
          }
        }
      ]
    },
    {
      "cell_type": "markdown",
      "metadata": {
        "id": "H-KuE6ZnY-pe",
        "colab_type": "text"
      },
      "source": [
        "The countplot reveals that most of the passengers that did not survive were male and most of the passenger that survived were female"
      ]
    },
    {
      "cell_type": "code",
      "metadata": {
        "id": "puGt8GPuVdF2",
        "colab_type": "code",
        "outputId": "5978658f-45c7-4e89-8dbe-1382027c83cd",
        "colab": {
          "base_uri": "https://localhost:8080/",
          "height": 412
        }
      },
      "source": [
        "# plotting the no. of passengers that survived per class\n",
        "plt.figure(figsize=(8,6))\n",
        "sns.countplot(x='pclass', data=nu_age, hue='survived')\n",
        "plt.legend(['Didn\\'t Survive', 'Survived'])\n",
        "plt.title('No. of Persons that Survived Per Class', fontsize=16, color='darkgreen')\n",
        "plt.show();"
      ],
      "execution_count": 281,
      "outputs": [
        {
          "output_type": "display_data",
          "data": {
            "image/png": "[encoded data removed]",
            "text/plain": [
              "<Figure size 576x432 with 1 Axes>"
            ]
          },
          "metadata": {
            "tags": []
          }
        }
      ]
    },
    {
      "cell_type": "markdown",
      "metadata": {
        "id": "qC_G0kK-Zsuv",
        "colab_type": "text"
      },
      "source": [
        "Countplot reveals that most of the passengers that perished were in the 3rd class.\n",
        "\n",
        "Most of the survivors were in the first class "
      ]
    },
    {
      "cell_type": "code",
      "metadata": {
        "id": "pw9EYjOdfAOV",
        "colab_type": "code",
        "outputId": "19f819ae-7d05-42e2-f4b1-541273d601e4",
        "colab": {
          "base_uri": "https://localhost:8080/",
          "height": 144
        }
      },
      "source": [
        " \n",
        "# selecting observations where the passengers did not survive\n",
        "titan_fil =nu_age[nu_age.survived == 0]\n",
        "\n",
        "# using groupby function to check the total sum of non-survivors per class\n",
        "titan_fil[['pclass', 'survived']].groupby(['pclass'], as_index= False).count().sort_values('survived', ascending=False)"
      ],
      "execution_count": 282,
      "outputs": [
        {
          "output_type": "execute_result",
          "data": {
            "text/html": [
              "<div>\n",
              "<style scoped>\n",
              "    .dataframe tbody tr th:only-of-type {\n",
              "        vertical-align: middle;\n",
              "    }\n",
              "\n",
              "    .dataframe tbody tr th {\n",
              "        vertical-align: top;\n",
              "    }\n",
              "\n",
              "    .dataframe thead th {\n",
              "        text-align: right;\n",
              "    }\n",
              "</style>\n",
              "<table border=\"1\" class=\"dataframe\">\n",
              "  <thead>\n",
              "    <tr style=\"text-align: right;\">\n",
              "      <th></th>\n",
              "      <th>pclass</th>\n",
              "      <th>survived</th>\n",
              "    </tr>\n",
              "  </thead>\n",
              "  <tbody>\n",
              "    <tr>\n",
              "      <th>2</th>\n",
              "      <td>3</td>\n",
              "      <td>372</td>\n",
              "    </tr>\n",
              "    <tr>\n",
              "      <th>1</th>\n",
              "      <td>2</td>\n",
              "      <td>97</td>\n",
              "    </tr>\n",
              "    <tr>\n",
              "      <th>0</th>\n",
              "      <td>1</td>\n",
              "      <td>80</td>\n",
              "    </tr>\n",
              "  </tbody>\n",
              "</table>\n",
              "</div>"
            ],
            "text/plain": [
              "   pclass  survived\n",
              "2       3       372\n",
              "1       2        97\n",
              "0       1        80"
            ]
          },
          "metadata": {
            "tags": []
          },
          "execution_count": 282
        }
      ]
    },
    {
      "cell_type": "markdown",
      "metadata": {
        "id": "LnI63iCggPy-",
        "colab_type": "text"
      },
      "source": [
        "Specifically, 372 persons in the 3rd class perished, 97 in the second class and 80 in the first class."
      ]
    },
    {
      "cell_type": "code",
      "metadata": {
        "id": "rcaakstqha1r",
        "colab_type": "code",
        "outputId": "d3980b19-9727-440e-d277-9955ff3eee1d",
        "colab": {
          "base_uri": "https://localhost:8080/",
          "height": 238
        }
      },
      "source": [
        "# using groupby function to check the total sum of non-survivors per class\n",
        "tf_frame = titan_fil[['pclass', 'survived', 'sex']].groupby(['sex','pclass']).count().reset_index().sort_values('survived', ascending=False)\n",
        "tf_frame"
      ],
      "execution_count": 283,
      "outputs": [
        {
          "output_type": "execute_result",
          "data": {
            "text/html": [
              "<div>\n",
              "<style scoped>\n",
              "    .dataframe tbody tr th:only-of-type {\n",
              "        vertical-align: middle;\n",
              "    }\n",
              "\n",
              "    .dataframe tbody tr th {\n",
              "        vertical-align: top;\n",
              "    }\n",
              "\n",
              "    .dataframe thead th {\n",
              "        text-align: right;\n",
              "    }\n",
              "</style>\n",
              "<table border=\"1\" class=\"dataframe\">\n",
              "  <thead>\n",
              "    <tr style=\"text-align: right;\">\n",
              "      <th></th>\n",
              "      <th>sex</th>\n",
              "      <th>pclass</th>\n",
              "      <th>survived</th>\n",
              "    </tr>\n",
              "  </thead>\n",
              "  <tbody>\n",
              "    <tr>\n",
              "      <th>2</th>\n",
              "      <td>0</td>\n",
              "      <td>3</td>\n",
              "      <td>300</td>\n",
              "    </tr>\n",
              "    <tr>\n",
              "      <th>1</th>\n",
              "      <td>0</td>\n",
              "      <td>2</td>\n",
              "      <td>91</td>\n",
              "    </tr>\n",
              "    <tr>\n",
              "      <th>0</th>\n",
              "      <td>0</td>\n",
              "      <td>1</td>\n",
              "      <td>77</td>\n",
              "    </tr>\n",
              "    <tr>\n",
              "      <th>5</th>\n",
              "      <td>1</td>\n",
              "      <td>3</td>\n",
              "      <td>72</td>\n",
              "    </tr>\n",
              "    <tr>\n",
              "      <th>4</th>\n",
              "      <td>1</td>\n",
              "      <td>2</td>\n",
              "      <td>6</td>\n",
              "    </tr>\n",
              "    <tr>\n",
              "      <th>3</th>\n",
              "      <td>1</td>\n",
              "      <td>1</td>\n",
              "      <td>3</td>\n",
              "    </tr>\n",
              "  </tbody>\n",
              "</table>\n",
              "</div>"
            ],
            "text/plain": [
              "   sex  pclass  survived\n",
              "2    0       3       300\n",
              "1    0       2        91\n",
              "0    0       1        77\n",
              "5    1       3        72\n",
              "4    1       2         6\n",
              "3    1       1         3"
            ]
          },
          "metadata": {
            "tags": []
          },
          "execution_count": 283
        }
      ]
    },
    {
      "cell_type": "code",
      "metadata": {
        "id": "Z8-AmUhSWNMo",
        "colab_type": "code",
        "outputId": "1ee3a127-1eb0-42d3-8579-c08dbfc987e9",
        "colab": {
          "base_uri": "https://localhost:8080/",
          "height": 301
        }
      },
      "source": [
        "# plotting barplot to show the distribution of chances of survival per pclass\n",
        "\n",
        "sns.barplot(x='pclass', y='survived', data=nu_age)\n",
        "\n",
        "plt.title('Baplot of Passenger Class vs Status of Survival')\n",
        "plt.show();"
      ],
      "execution_count": 284,
      "outputs": [
        {
          "output_type": "display_data",
          "data": {
            "image/png": "[encoded data removed]",
            "text/plain": [
              "<Figure size 432x288 with 1 Axes>"
            ]
          },
          "metadata": {
            "tags": []
          }
        }
      ]
    },
    {
      "cell_type": "code",
      "metadata": {
        "id": "6bwHBXH9TqCX",
        "colab_type": "code",
        "outputId": "85551960-e5da-40dc-febd-2610be53285e",
        "colab": {
          "base_uri": "https://localhost:8080/",
          "height": 293
        }
      },
      "source": [
        "# plotting a catplot to display no. of male and females survived or not in different plots\n",
        "sns.catplot(x=\"pclass\", hue=\"sex\", col=\"survived\",\\\n",
        "            data=nu_age, kind=\"count\",height=4, aspect=.7);"
      ],
      "execution_count": 285,
      "outputs": [
        {
          "output_type": "display_data",
          "data": {
            "image/png": "[encoded data removed]",
            "text/plain": [
              "<Figure size 449.8x288 with 2 Axes>"
            ]
          },
          "metadata": {
            "tags": []
          }
        }
      ]
    },
    {
      "cell_type": "markdown",
      "metadata": {
        "id": "6Cs4r9M1Marp",
        "colab_type": "text"
      },
      "source": [
        "Catplot reveals that most of the non-survivors (survived=0) were males in the 3rd pclass\n",
        "\n",
        "Overally, most of the casualties were in the 3rd pclass\n",
        "\n",
        "Most of the survivors (survived=1) were females in the 1st pclass"
      ]
    },
    {
      "cell_type": "code",
      "metadata": {
        "id": "N2raInFseGnE",
        "colab_type": "code",
        "colab": {
          "base_uri": "https://localhost:8080/",
          "height": 303
        },
        "outputId": "cf0af12c-6ada-4f0a-c7fd-79c2a46203b8"
      },
      "source": [
        "# checking for correlation between age and fare\n",
        "plt.scatter(nu_age.age, nu_age.fare, color='slategrey')\n",
        "plt.ylabel('Fare')\n",
        "plt.xlabel('Age')\n",
        "plt.title('Scatter Plot Showing Correlation Between Age and Ticket Fare', color='tomato', fontsize=16)\n",
        "plt.show();"
      ],
      "execution_count": 286,
      "outputs": [
        {
          "output_type": "display_data",
          "data": {
            "image/png": "[encoded data removed]",
            "text/plain": [
              "<Figure size 432x288 with 1 Axes>"
            ]
          },
          "metadata": {
            "tags": []
          }
        }
      ]
    },
    {
      "cell_type": "markdown",
      "metadata": {
        "id": "kMooiwbVFX28",
        "colab_type": "text"
      },
      "source": [
        "Scatter plot reveals there is no correlation between the two variables."
      ]
    },
    {
      "cell_type": "code",
      "metadata": {
        "id": "SIvefmryFvrz",
        "colab_type": "code",
        "colab": {
          "base_uri": "https://localhost:8080/",
          "height": 303
        },
        "outputId": "dfb58b3d-7ea1-4810-b4bd-eefd708b0090"
      },
      "source": [
        "# checking for correlation between age and pclass\n",
        "\n",
        "plt.scatter(nu_age.age, nu_age.pclass, color='slategrey')\n",
        "plt.ylabel('PClass')\n",
        "plt.xlabel('Age')\n",
        "plt.title('Scatter Plot Showing Correlation Between Age and PClass', color='tomato', fontsize=16)\n",
        "plt.show();"
      ],
      "execution_count": 287,
      "outputs": [
        {
          "output_type": "display_data",
          "data": {
            "image/png": "[encoded data removed]",
            "text/plain": [
              "<Figure size 432x288 with 1 Axes>"
            ]
          },
          "metadata": {
            "tags": []
          }
        }
      ]
    },
    {
      "cell_type": "markdown",
      "metadata": {
        "id": "hqPoz-GUGAMl",
        "colab_type": "text"
      },
      "source": [
        "Scatter does not show any correlation between the two variables"
      ]
    },
    {
      "cell_type": "code",
      "metadata": {
        "id": "YglKhwtMNBZc",
        "colab_type": "code",
        "colab": {
          "base_uri": "https://localhost:8080/",
          "height": 512
        },
        "outputId": "d644a7f3-19e2-400e-c9dd-815540fbef81"
      },
      "source": [
        "# plotting a heatmap to show the correlation of variables \n",
        "plt.figure(figsize=(10,8))\n",
        "sns.heatmap(nu_age.corr(), annot=True)\n",
        "plt.title('Heatmap Showing Correlation of Numerical Variables', fontsize=16, color='olive', pad=15)\n",
        "plt.show();"
      ],
      "execution_count": 288,
      "outputs": [
        {
          "output_type": "display_data",
          "data": {
            "image/png": "[encoded data removed]",
            "text/plain": [
              "<Figure size 720x576 with 2 Axes>"
            ]
          },
          "metadata": {
            "tags": []
          }
        }
      ]
    },
    {
      "cell_type": "markdown",
      "metadata": {
        "id": "33TfWxkuNq2_",
        "colab_type": "text"
      },
      "source": [
        "Heatmap reveals parch and sibsp are highly correlated to relatives column\n",
        "\n",
        "Dropping the two columns to reduce multicollinearity"
      ]
    },
    {
      "cell_type": "code",
      "metadata": {
        "id": "nI3KakD9NpcL",
        "colab_type": "code",
        "colab": {
          "base_uri": "https://localhost:8080/",
          "height": 72
        },
        "outputId": "6b2c1c1e-3e85-4e5f-c709-b8d77557f7c3"
      },
      "source": [
        "# dropping the parch and sibsp columns\n",
        "nu_age.drop(['parch', 'sibsp'], axis=1, inplace=True)\n",
        "nu_age.columns"
      ],
      "execution_count": 289,
      "outputs": [
        {
          "output_type": "execute_result",
          "data": {
            "text/plain": [
              "Index(['survived', 'pclass', 'sex', 'age', 'fare', 'embarked', 'title',\n",
              "       'relatives', 'alone'],\n",
              "      dtype='object')"
            ]
          },
          "metadata": {
            "tags": []
          },
          "execution_count": 289
        }
      ]
    },
    {
      "cell_type": "markdown",
      "metadata": {
        "id": "Z2eQ5rQ0eJRx",
        "colab_type": "text"
      },
      "source": [
        "## Modelling"
      ]
    },
    {
      "cell_type": "markdown",
      "metadata": {
        "id": "zaVt2jd_DlL5",
        "colab_type": "text"
      },
      "source": [
        ""
      ]
    },
    {
      "cell_type": "code",
      "metadata": {
        "id": "WDuIz1BFyJTb",
        "colab_type": "code",
        "outputId": "343ee889-b283-43ad-a97a-45b32e5940a0",
        "colab": {
          "base_uri": "https://localhost:8080/",
          "height": 206
        }
      },
      "source": [
        "# encoding numerical values to values in the embarked column\n",
        "nu_age['embarked'] = nu_age.embarked.map({'S': 0, 'C': 1, 'Q': 2}).astype(int)\n",
        "nu_age.head()"
      ],
      "execution_count": 290,
      "outputs": [
        {
          "output_type": "execute_result",
          "data": {
            "text/html": [
              "<div>\n",
              "<style scoped>\n",
              "    .dataframe tbody tr th:only-of-type {\n",
              "        vertical-align: middle;\n",
              "    }\n",
              "\n",
              "    .dataframe tbody tr th {\n",
              "        vertical-align: top;\n",
              "    }\n",
              "\n",
              "    .dataframe thead th {\n",
              "        text-align: right;\n",
              "    }\n",
              "</style>\n",
              "<table border=\"1\" class=\"dataframe\">\n",
              "  <thead>\n",
              "    <tr style=\"text-align: right;\">\n",
              "      <th></th>\n",
              "      <th>survived</th>\n",
              "      <th>pclass</th>\n",
              "      <th>sex</th>\n",
              "      <th>age</th>\n",
              "      <th>fare</th>\n",
              "      <th>embarked</th>\n",
              "      <th>title</th>\n",
              "      <th>relatives</th>\n",
              "      <th>alone</th>\n",
              "    </tr>\n",
              "  </thead>\n",
              "  <tbody>\n",
              "    <tr>\n",
              "      <th>0</th>\n",
              "      <td>0</td>\n",
              "      <td>3</td>\n",
              "      <td>0</td>\n",
              "      <td>22</td>\n",
              "      <td>7.2500</td>\n",
              "      <td>0</td>\n",
              "      <td>1</td>\n",
              "      <td>1</td>\n",
              "      <td>0</td>\n",
              "    </tr>\n",
              "    <tr>\n",
              "      <th>1</th>\n",
              "      <td>1</td>\n",
              "      <td>1</td>\n",
              "      <td>1</td>\n",
              "      <td>38</td>\n",
              "      <td>71.2833</td>\n",
              "      <td>1</td>\n",
              "      <td>3</td>\n",
              "      <td>1</td>\n",
              "      <td>0</td>\n",
              "    </tr>\n",
              "    <tr>\n",
              "      <th>2</th>\n",
              "      <td>1</td>\n",
              "      <td>3</td>\n",
              "      <td>1</td>\n",
              "      <td>26</td>\n",
              "      <td>7.9250</td>\n",
              "      <td>0</td>\n",
              "      <td>2</td>\n",
              "      <td>0</td>\n",
              "      <td>1</td>\n",
              "    </tr>\n",
              "    <tr>\n",
              "      <th>3</th>\n",
              "      <td>1</td>\n",
              "      <td>1</td>\n",
              "      <td>1</td>\n",
              "      <td>35</td>\n",
              "      <td>53.1000</td>\n",
              "      <td>0</td>\n",
              "      <td>3</td>\n",
              "      <td>1</td>\n",
              "      <td>0</td>\n",
              "    </tr>\n",
              "    <tr>\n",
              "      <th>4</th>\n",
              "      <td>0</td>\n",
              "      <td>3</td>\n",
              "      <td>0</td>\n",
              "      <td>35</td>\n",
              "      <td>8.0500</td>\n",
              "      <td>0</td>\n",
              "      <td>1</td>\n",
              "      <td>0</td>\n",
              "      <td>1</td>\n",
              "    </tr>\n",
              "  </tbody>\n",
              "</table>\n",
              "</div>"
            ],
            "text/plain": [
              "   survived  pclass  sex  age     fare  embarked  title  relatives  alone\n",
              "0         0       3    0   22   7.2500         0      1          1      0\n",
              "1         1       1    1   38  71.2833         1      3          1      0\n",
              "2         1       3    1   26   7.9250         0      2          0      1\n",
              "3         1       1    1   35  53.1000         0      3          1      0\n",
              "4         0       3    0   35   8.0500         0      1          0      1"
            ]
          },
          "metadata": {
            "tags": []
          },
          "execution_count": 290
        }
      ]
    },
    {
      "cell_type": "code",
      "metadata": {
        "id": "5_Tfmqo-3ucw",
        "colab_type": "code",
        "outputId": "b4fca021-30e4-4043-a635-22ac7e708b22",
        "colab": {
          "base_uri": "https://localhost:8080/",
          "height": 91
        }
      },
      "source": [
        "# defining our independent variables and dependent variable\n",
        "features = nu_age.drop('survived', 1).values\n",
        "target = nu_age['survived'].values\n",
        "\n",
        "# splitting our data into training and test sets at a ratio of 80:20%\n",
        "feat_train, feat_test, targ_train, targ_test = train_test_split(features, target, test_size=.2, random_state=34)\n",
        "\n",
        "print('Feat train shape:', feat_train.shape)\n",
        "print('Target train shape:', targ_train.shape)\n",
        "print('Feat test shape:', feat_test.shape)\n",
        "print('Target test shape:', targ_test.shape)\n"
      ],
      "execution_count": 291,
      "outputs": [
        {
          "output_type": "stream",
          "text": [
            "Feat train shape: (712, 8)\n",
            "Target train shape: (712,)\n",
            "Feat test shape: (179, 8)\n",
            "Target test shape: (179,)\n"
          ],
          "name": "stdout"
        }
      ]
    },
    {
      "cell_type": "code",
      "metadata": {
        "id": "Tx2irnod4HBi",
        "colab_type": "code",
        "colab": {}
      },
      "source": [
        "# instantiating the standardscaler object\n",
        "sscaler = StandardScaler()\n",
        "\n",
        "# fit and transforming the feat_train \n",
        "feat_train = sscaler.fit_transform(feat_train)\n",
        "\n",
        "# transforming the feat_test\n",
        "feat_test = sscaler.transform(feat_test)"
      ],
      "execution_count": 0,
      "outputs": []
    },
    {
      "cell_type": "code",
      "metadata": {
        "id": "906tO7Mu64AT",
        "colab_type": "code",
        "outputId": "fa7c62d4-f78a-4cc9-d13b-9481330444f3",
        "colab": {
          "base_uri": "https://localhost:8080/",
          "height": 72
        }
      },
      "source": [
        "# instantiating the KNeighbors Classifier with 5 neighbors\n",
        "kclassif = KNeighborsClassifier(n_neighbors=5, metric='euclidean', n_jobs=-1)\n",
        "\n",
        "# fitting the model with training data\n",
        "kclassif.fit(feat_train, targ_train)"
      ],
      "execution_count": 293,
      "outputs": [
        {
          "output_type": "execute_result",
          "data": {
            "text/plain": [
              "KNeighborsClassifier(algorithm='auto', leaf_size=30, metric='euclidean',\n",
              "                     metric_params=None, n_jobs=-1, n_neighbors=5, p=2,\n",
              "                     weights='uniform')"
            ]
          },
          "metadata": {
            "tags": []
          },
          "execution_count": 293
        }
      ]
    },
    {
      "cell_type": "code",
      "metadata": {
        "id": "RJUt0Jv08AZ1",
        "colab_type": "code",
        "colab": {}
      },
      "source": [
        "# making predictions\n",
        "kpred = kclassif.predict(feat_test)"
      ],
      "execution_count": 0,
      "outputs": []
    },
    {
      "cell_type": "code",
      "metadata": {
        "id": "63gKqV438J3A",
        "colab_type": "code",
        "outputId": "7003949e-b4c9-4b3c-c3f8-cb6c680a0af9",
        "colab": {
          "base_uri": "https://localhost:8080/",
          "height": 331
        }
      },
      "source": [
        "# Evaluating the Algorithm\n",
        "# ---\n",
        "# For evaluating an algorithm, confusion matrix, precision, recall and f1 score are the most commonly used metrics. \n",
        "# The confusion_matrix and classification_report methods of the sklearn.metrics can be used to calculate these metrics. \n",
        "# ---\n",
        "# \n",
        "\n",
        "print('Confusion Matrix:\\n', metrics.confusion_matrix(targ_test, kpred))\n",
        "print('===='*20)\n",
        "print('Classification Report:\\n', metrics.classification_report(targ_test, kpred))\n",
        "print('===='*20)\n",
        "print('Accuracy: %.2f%%'% (metrics.accuracy_score(targ_test, kpred) * 100))\n",
        "print('===='*20)"
      ],
      "execution_count": 295,
      "outputs": [
        {
          "output_type": "stream",
          "text": [
            "Confusion Matrix:\n",
            " [[103  15]\n",
            " [ 11  50]]\n",
            "================================================================================\n",
            "Classification Report:\n",
            "               precision    recall  f1-score   support\n",
            "\n",
            "           0       0.90      0.87      0.89       118\n",
            "           1       0.77      0.82      0.79        61\n",
            "\n",
            "    accuracy                           0.85       179\n",
            "   macro avg       0.84      0.85      0.84       179\n",
            "weighted avg       0.86      0.85      0.86       179\n",
            "\n",
            "================================================================================\n",
            "Accuracy: 85.47%\n",
            "================================================================================\n"
          ],
          "name": "stdout"
        }
      ]
    },
    {
      "cell_type": "code",
      "metadata": {
        "id": "YlYWDcagmBaf",
        "colab_type": "code",
        "colab": {
          "base_uri": "https://localhost:8080/",
          "height": 91
        },
        "outputId": "366a9a43-45a2-4a95-f729-05158762761b"
      },
      "source": [
        "# Hyperparameter Tuning\n",
        "# instantiating kfold object with 10 folds\n",
        "kfold = KFold(n_splits=10, random_state=5)\n",
        "\n",
        "# creating a dictionary of parameters to be searched for optimal performance of model\n",
        "params = {'n_neighbors': range(1,5),\\\n",
        "         'metric': ['euclidean', 'manhattan', 'minkowski'],\n",
        "         'weights': ['uniform', 'distance']}\n",
        "\n",
        "# instantiating the gridsearchcv object \n",
        "grids = GridSearchCV(estimator=KNeighborsClassifier(), \n",
        "                     param_grid=params, \n",
        "                     cv=kfold, n_jobs=-1)\n",
        "\n",
        "# fitting the gridsearch with training data\n",
        "gridmodel = grids.fit(feat_train, targ_train)\n",
        "\n",
        "# getting the best parameters from the model\n",
        "gridmodel.best_params_\n",
        "print('\\n' + '===='*20)\n",
        "# getting the best score from the model\n",
        "gridmodel.best_score_ * 100\n",
        "print('\\n' + '===='*20)"
      ],
      "execution_count": 296,
      "outputs": [
        {
          "output_type": "execute_result",
          "data": {
            "text/plain": [
              "{'metric': 'manhattan', 'n_neighbors': 3, 'weights': 'uniform'}"
            ]
          },
          "metadata": {
            "tags": []
          },
          "execution_count": 296
        },
        {
          "output_type": "stream",
          "text": [
            "\n",
            "================================================================================\n"
          ],
          "name": "stdout"
        },
        {
          "output_type": "execute_result",
          "data": {
            "text/plain": [
              "80.33707865168539"
            ]
          },
          "metadata": {
            "tags": []
          },
          "execution_count": 296
        },
        {
          "output_type": "stream",
          "text": [
            "\n",
            "================================================================================\n"
          ],
          "name": "stdout"
        }
      ]
    },
    {
      "cell_type": "code",
      "metadata": {
        "id": "FLgaMwzGppVv",
        "colab_type": "code",
        "colab": {
          "base_uri": "https://localhost:8080/",
          "height": 405
        },
        "outputId": "2c3ae852-2f00-4348-c927-4b9aa4b597b9"
      },
      "source": [
        "# instantiating knn classifier with parameters from the grid search\n",
        "knclassifop = KNeighborsClassifier(metric='manhattan', n_neighbors=3, weights='uniform')\n",
        "\n",
        "# fitting the model with training data\n",
        "knclassifop.fit(feat_train, targ_train)\n",
        "\n",
        "# making predictions \n",
        "knop_pred = knclassifop.predict(feat_test)\n",
        "\n",
        "# print the confusion matrix \n",
        "print('\\nConfusion Matrix:\\n', metrics.confusion_matrix(targ_test, knop_pred))\n",
        "print('===='*20)\n",
        "# checking the accuracy score of the optimized model\n",
        "print('\\nAccuracy Score: %.2f%%' % (metrics.accuracy_score(targ_test, knop_pred) * 100))\n",
        "print('===='*20)\n",
        "# print classification report\n",
        "print('Classification report:\\n', metrics.classification_report(targ_test, knop_pred))\n",
        "print('===='*20)\n"
      ],
      "execution_count": 297,
      "outputs": [
        {
          "output_type": "execute_result",
          "data": {
            "text/plain": [
              "KNeighborsClassifier(algorithm='auto', leaf_size=30, metric='manhattan',\n",
              "                     metric_params=None, n_jobs=None, n_neighbors=3, p=2,\n",
              "                     weights='uniform')"
            ]
          },
          "metadata": {
            "tags": []
          },
          "execution_count": 297
        },
        {
          "output_type": "stream",
          "text": [
            "\n",
            "Confusion Matrix:\n",
            " [[102  16]\n",
            " [ 12  49]]\n",
            "================================================================================\n",
            "\n",
            "Accuracy Score: 84.36%\n",
            "================================================================================\n",
            "Classification report:\n",
            "               precision    recall  f1-score   support\n",
            "\n",
            "           0       0.89      0.86      0.88       118\n",
            "           1       0.75      0.80      0.78        61\n",
            "\n",
            "    accuracy                           0.84       179\n",
            "   macro avg       0.82      0.83      0.83       179\n",
            "weighted avg       0.85      0.84      0.84       179\n",
            "\n",
            "================================================================================\n"
          ],
          "name": "stdout"
        }
      ]
    },
    {
      "cell_type": "markdown",
      "metadata": {
        "id": "FhAiiy_-sSw7",
        "colab_type": "text"
      },
      "source": [
        "Using the parameters obtained from hyperparameter tuning, the accuracy of the optimized knn classifier model decreases to 84.36%\n",
        "\n"
      ]
    },
    {
      "cell_type": "code",
      "metadata": {
        "id": "fqTjjBLAurzI",
        "colab_type": "code",
        "colab": {}
      },
      "source": [
        ""
      ],
      "execution_count": 0,
      "outputs": []
    },
    {
      "cell_type": "code",
      "metadata": {
        "id": "FUNfhUzLurI7",
        "colab_type": "code",
        "colab": {
          "base_uri": "https://localhost:8080/",
          "height": 91
        },
        "outputId": "7b670685-67d3-4800-e5ec-8c0bcd6da36a"
      },
      "source": [
        "# splitting our data into training and test sets at a ratio of 70:30%\n",
        "featt_train, featt_test, ttarg_train, ttarg_test = train_test_split(features, target, test_size=.3, random_state=34)\n",
        "\n",
        "print('Feat train shape:', featt_train.shape)\n",
        "print('Target train shape:', ttarg_train.shape)\n",
        "print('Feat test shape:', featt_test.shape)\n",
        "print('Target test shape:', ttarg_test.shape)\n"
      ],
      "execution_count": 298,
      "outputs": [
        {
          "output_type": "stream",
          "text": [
            "Feat train shape: (623, 8)\n",
            "Target train shape: (623,)\n",
            "Feat test shape: (268, 8)\n",
            "Target test shape: (268,)\n"
          ],
          "name": "stdout"
        }
      ]
    },
    {
      "cell_type": "code",
      "metadata": {
        "id": "FzAzQCDtvCNZ",
        "colab_type": "code",
        "colab": {}
      },
      "source": [
        "# instantiating the standardscaler object\n",
        "sscalerd = StandardScaler()\n",
        "\n",
        "# fit and transforming the feat_train \n",
        "featt_train = sscalerd.fit_transform(featt_train)\n",
        "\n",
        "# transforming the feat_test\n",
        "featt_test = sscalerd.transform(featt_test)"
      ],
      "execution_count": 0,
      "outputs": []
    },
    {
      "cell_type": "code",
      "metadata": {
        "id": "-GOrpi0dvkNn",
        "colab_type": "code",
        "colab": {
          "base_uri": "https://localhost:8080/",
          "height": 72
        },
        "outputId": "964198a9-5326-4e55-a607-d06b1582fde7"
      },
      "source": [
        "# instantiating the KNeighbors Classifier with 5 neighbors\n",
        "kclassiff = KNeighborsClassifier(n_neighbors=5, metric='euclidean', n_jobs=-1)\n",
        "\n",
        "# fitting the model with training data\n",
        "kclassiff.fit(featt_train, ttarg_train)"
      ],
      "execution_count": 300,
      "outputs": [
        {
          "output_type": "execute_result",
          "data": {
            "text/plain": [
              "KNeighborsClassifier(algorithm='auto', leaf_size=30, metric='euclidean',\n",
              "                     metric_params=None, n_jobs=-1, n_neighbors=5, p=2,\n",
              "                     weights='uniform')"
            ]
          },
          "metadata": {
            "tags": []
          },
          "execution_count": 300
        }
      ]
    },
    {
      "cell_type": "code",
      "metadata": {
        "id": "-2aCoxQOv5x9",
        "colab_type": "code",
        "colab": {}
      },
      "source": [
        "# making predictions\n",
        "kpredd = kclassiff.predict(featt_test)"
      ],
      "execution_count": 0,
      "outputs": []
    },
    {
      "cell_type": "code",
      "metadata": {
        "id": "IsYvSS3jwBZj",
        "colab_type": "code",
        "colab": {
          "base_uri": "https://localhost:8080/",
          "height": 331
        },
        "outputId": "29246914-0d88-4e89-e204-a743cba52ada"
      },
      "source": [
        "# Evaluating the Algorithm\n",
        "# ---\n",
        "# For evaluating an algorithm, confusion matrix, precision, recall and f1 score are the most commonly used metrics. \n",
        "# The confusion_matrix and classification_report methods of the sklearn.metrics can be used to calculate these metrics. \n",
        "# ---\n",
        "# \n",
        "\n",
        "print('Confusion Matrix:\\n', metrics.confusion_matrix(ttarg_test, kpredd))\n",
        "print('===='*20)\n",
        "print('Classification Report:\\n', metrics.classification_report(ttarg_test, kpredd))\n",
        "print('===='*20)\n",
        "print('Accuracy: %.2f%%'% (metrics.accuracy_score(ttarg_test, kpredd) * 100))\n",
        "print('===='*20)"
      ],
      "execution_count": 302,
      "outputs": [
        {
          "output_type": "stream",
          "text": [
            "Confusion Matrix:\n",
            " [[153  15]\n",
            " [ 23  77]]\n",
            "================================================================================\n",
            "Classification Report:\n",
            "               precision    recall  f1-score   support\n",
            "\n",
            "           0       0.87      0.91      0.89       168\n",
            "           1       0.84      0.77      0.80       100\n",
            "\n",
            "    accuracy                           0.86       268\n",
            "   macro avg       0.85      0.84      0.85       268\n",
            "weighted avg       0.86      0.86      0.86       268\n",
            "\n",
            "================================================================================\n",
            "Accuracy: 85.82%\n",
            "================================================================================\n"
          ],
          "name": "stdout"
        }
      ]
    },
    {
      "cell_type": "code",
      "metadata": {
        "id": "D6Cuc7fuwO5w",
        "colab_type": "code",
        "colab": {
          "base_uri": "https://localhost:8080/",
          "height": 91
        },
        "outputId": "0d97207f-7d10-4321-b45f-59a3dc5b2884"
      },
      "source": [
        "# Hyperparameter Tuning\n",
        "# instantiating kfold object with 10 folds\n",
        "kkfold = KFold(n_splits=10, random_state=5)\n",
        "\n",
        "# creating a dictionary of parameters to be searched for optimal performance of model\n",
        "paramts = {'n_neighbors': range(1,5),\\\n",
        "         'metric': ['euclidean', 'manhattan', 'minkowski'],\n",
        "         'weights': ['uniform', 'distance']}\n",
        "\n",
        "# instantiating the gridsearchcv object \n",
        "gridss = RandomizedSearchCV(estimator=KNeighborsClassifier(), \n",
        "                     param_distributions=paramts, scoring='accuracy',\n",
        "                     cv=kfold, n_jobs=-1)\n",
        "\n",
        "# fitting the gridsearch with training data\n",
        "gridmdel = gridss.fit(featt_train, ttarg_train)\n",
        "\n",
        "# getting the best parameters from the model\n",
        "gridmdel.best_params_\n",
        "print('\\n' + '===='*20)\n",
        "# getting the best score from the model\n",
        "gridmdel.best_score_ * 100\n",
        "print('\\n' + '===='*20)"
      ],
      "execution_count": 303,
      "outputs": [
        {
          "output_type": "execute_result",
          "data": {
            "text/plain": [
              "{'metric': 'manhattan', 'n_neighbors': 2, 'weights': 'uniform'}"
            ]
          },
          "metadata": {
            "tags": []
          },
          "execution_count": 303
        },
        {
          "output_type": "stream",
          "text": [
            "\n",
            "================================================================================\n"
          ],
          "name": "stdout"
        },
        {
          "output_type": "execute_result",
          "data": {
            "text/plain": [
              "78.97271268057786"
            ]
          },
          "metadata": {
            "tags": []
          },
          "execution_count": 303
        },
        {
          "output_type": "stream",
          "text": [
            "\n",
            "================================================================================\n"
          ],
          "name": "stdout"
        }
      ]
    },
    {
      "cell_type": "code",
      "metadata": {
        "id": "_Sv_JNn8vF0m",
        "colab_type": "code",
        "colab": {
          "base_uri": "https://localhost:8080/",
          "height": 405
        },
        "outputId": "3fbaa0a7-65c5-4f2c-93e4-274d099005ce"
      },
      "source": [
        "# instantiating knn classifier with parameters from the grid search\n",
        "knclassifopt = KNeighborsClassifier(metric='manhattan', n_neighbors=2, weights='uniform')\n",
        "\n",
        "# fitting the model with training data\n",
        "knclassifopt.fit(featt_train, ttarg_train)\n",
        "\n",
        "# making predictions \n",
        "knopt_pred = knclassifopt.predict(featt_test)\n",
        "\n",
        "# print the confusion matrix \n",
        "print('\\nConfusion Matrix:\\n', metrics.confusion_matrix(ttarg_test, knopt_pred))\n",
        "print('===='*20)\n",
        "# checking the accuracy score of the optimized model\n",
        "print('\\nAccuracy Score: %.2f%%' % (metrics.accuracy_score(ttarg_test, knopt_pred) * 100))\n",
        "print('===='*20)\n",
        "# print classification report\n",
        "print('Classification report:\\n', metrics.classification_report(ttarg_test, knopt_pred))\n",
        "print('===='*20)\n"
      ],
      "execution_count": 304,
      "outputs": [
        {
          "output_type": "execute_result",
          "data": {
            "text/plain": [
              "KNeighborsClassifier(algorithm='auto', leaf_size=30, metric='manhattan',\n",
              "                     metric_params=None, n_jobs=None, n_neighbors=2, p=2,\n",
              "                     weights='uniform')"
            ]
          },
          "metadata": {
            "tags": []
          },
          "execution_count": 304
        },
        {
          "output_type": "stream",
          "text": [
            "\n",
            "Confusion Matrix:\n",
            " [[156  12]\n",
            " [ 38  62]]\n",
            "================================================================================\n",
            "\n",
            "Accuracy Score: 81.34%\n",
            "================================================================================\n",
            "Classification report:\n",
            "               precision    recall  f1-score   support\n",
            "\n",
            "           0       0.80      0.93      0.86       168\n",
            "           1       0.84      0.62      0.71       100\n",
            "\n",
            "    accuracy                           0.81       268\n",
            "   macro avg       0.82      0.77      0.79       268\n",
            "weighted avg       0.82      0.81      0.81       268\n",
            "\n",
            "================================================================================\n"
          ],
          "name": "stdout"
        }
      ]
    },
    {
      "cell_type": "code",
      "metadata": {
        "id": "yzQd80vJxYC7",
        "colab_type": "code",
        "colab": {}
      },
      "source": [
        ""
      ],
      "execution_count": 0,
      "outputs": []
    },
    {
      "cell_type": "code",
      "metadata": {
        "id": "taBCAVGCxX0B",
        "colab_type": "code",
        "colab": {
          "base_uri": "https://localhost:8080/",
          "height": 91
        },
        "outputId": "c8d2d871-6b8f-4d52-dcdc-9ed33a123b3d"
      },
      "source": [
        "# splitting our data into training and test sets at a ratio of 60:40%\n",
        "ffeat_train, ffeat_test, targg_train, targg_test = train_test_split(features, target, test_size=.4, random_state=34)\n",
        "\n",
        "print('Feat train shape:', ffeat_train.shape)\n",
        "print('Target train shape:', targg_train.shape)\n",
        "print('Feat test shape:', ffeat_test.shape)\n",
        "print('Target test shape:', targg_test.shape)\n"
      ],
      "execution_count": 305,
      "outputs": [
        {
          "output_type": "stream",
          "text": [
            "Feat train shape: (534, 8)\n",
            "Target train shape: (534,)\n",
            "Feat test shape: (357, 8)\n",
            "Target test shape: (357,)\n"
          ],
          "name": "stdout"
        }
      ]
    },
    {
      "cell_type": "code",
      "metadata": {
        "id": "B6bygQnDxpAi",
        "colab_type": "code",
        "colab": {}
      },
      "source": [
        "# instantiating the standardscaler object\n",
        "stscaler= StandardScaler()\n",
        "\n",
        "# fit and transforming the feat_train \n",
        "ffeat_train = stscaler.fit_transform(ffeat_train)\n",
        "\n",
        "# transforming the feat_test\n",
        "ffeat_test = stscaler.transform(ffeat_test)"
      ],
      "execution_count": 0,
      "outputs": []
    },
    {
      "cell_type": "code",
      "metadata": {
        "id": "RlBphOzJx1yx",
        "colab_type": "code",
        "colab": {
          "base_uri": "https://localhost:8080/",
          "height": 72
        },
        "outputId": "bf097565-d7aa-4209-83af-d2da656c8241"
      },
      "source": [
        "# instantiating the KNeighbors Classifier with 5 neighbors\n",
        "knclassiff = KNeighborsClassifier(n_neighbors=5, metric='euclidean', n_jobs=-1)\n",
        "\n",
        "# fitting the model with training data\n",
        "knclassiff.fit(ffeat_train, targg_train)"
      ],
      "execution_count": 307,
      "outputs": [
        {
          "output_type": "execute_result",
          "data": {
            "text/plain": [
              "KNeighborsClassifier(algorithm='auto', leaf_size=30, metric='euclidean',\n",
              "                     metric_params=None, n_jobs=-1, n_neighbors=5, p=2,\n",
              "                     weights='uniform')"
            ]
          },
          "metadata": {
            "tags": []
          },
          "execution_count": 307
        }
      ]
    },
    {
      "cell_type": "code",
      "metadata": {
        "id": "uoWBao1ayDMm",
        "colab_type": "code",
        "colab": {}
      },
      "source": [
        "# making predictions\n",
        "knpredd = knclassiff.predict(ffeat_test)"
      ],
      "execution_count": 0,
      "outputs": []
    },
    {
      "cell_type": "code",
      "metadata": {
        "id": "gIpe3VMDyJY4",
        "colab_type": "code",
        "colab": {
          "base_uri": "https://localhost:8080/",
          "height": 331
        },
        "outputId": "bfddcf5d-7afb-4e30-b00b-f608b5910fae"
      },
      "source": [
        "print('Confusion Matrix:\\n',metrics.confusion_matrix(targg_test, knpredd))\n",
        "print('===='*20)\n",
        "print('Classification Report:\\n', metrics.classification_report(targg_test, knpredd))\n",
        "print('===='*20)\n",
        "print('Accuracy: %.2f%%'% (metrics.accuracy_score(targg_test, knpredd) * 100))\n",
        "print('===='*20)"
      ],
      "execution_count": 309,
      "outputs": [
        {
          "output_type": "stream",
          "text": [
            "Confusion Matrix:\n",
            " [[194  33]\n",
            " [ 26 104]]\n",
            "================================================================================\n",
            "Classification Report:\n",
            "               precision    recall  f1-score   support\n",
            "\n",
            "           0       0.88      0.85      0.87       227\n",
            "           1       0.76      0.80      0.78       130\n",
            "\n",
            "    accuracy                           0.83       357\n",
            "   macro avg       0.82      0.83      0.82       357\n",
            "weighted avg       0.84      0.83      0.84       357\n",
            "\n",
            "================================================================================\n",
            "Accuracy: 83.47%\n",
            "================================================================================\n"
          ],
          "name": "stdout"
        }
      ]
    },
    {
      "cell_type": "code",
      "metadata": {
        "id": "QFLSiTMbyVkj",
        "colab_type": "code",
        "colab": {
          "base_uri": "https://localhost:8080/",
          "height": 91
        },
        "outputId": "d48fee95-e50c-4446-adf3-6f61e8460197"
      },
      "source": [
        "# Hyperparameter Tuning\n",
        "# instantiating kfold object with 10 folds\n",
        "kkfold = KFold(n_splits=10, random_state=5)\n",
        "\n",
        "# creating a dictionary of parameters to be searched for optimal performance of model\n",
        "paramets = {'n_neighbors': range(1,5),\\\n",
        "         'metric': ['euclidean', 'manhattan', 'minkowski'],\n",
        "         'weights': ['uniform', 'distance']}\n",
        "\n",
        "# instantiating the gridsearchcv object \n",
        "gridsse = GridSearchCV(estimator=KNeighborsClassifier(), \n",
        "                     param_grid=paramets, \n",
        "                     cv=kfold, n_jobs=-1)\n",
        "\n",
        "# fitting the gridsearch with training data\n",
        "gridsmdel = gridsse.fit(ffeat_train, targg_train)\n",
        "\n",
        "# getting the best parameters from the model\n",
        "gridsmdel.best_params_\n",
        "print('\\n' + '===='*20)\n",
        "# getting the best score from the model\n",
        "gridsmdel.best_score_ * 100\n",
        "print('\\n' + '===='*20)"
      ],
      "execution_count": 310,
      "outputs": [
        {
          "output_type": "execute_result",
          "data": {
            "text/plain": [
              "{'metric': 'manhattan', 'n_neighbors': 3, 'weights': 'uniform'}"
            ]
          },
          "metadata": {
            "tags": []
          },
          "execution_count": 310
        },
        {
          "output_type": "stream",
          "text": [
            "\n",
            "================================================================================\n"
          ],
          "name": "stdout"
        },
        {
          "output_type": "execute_result",
          "data": {
            "text/plain": [
              "82.20973782771536"
            ]
          },
          "metadata": {
            "tags": []
          },
          "execution_count": 310
        },
        {
          "output_type": "stream",
          "text": [
            "\n",
            "================================================================================\n"
          ],
          "name": "stdout"
        }
      ]
    },
    {
      "cell_type": "code",
      "metadata": {
        "id": "R11-Y-tiykus",
        "colab_type": "code",
        "colab": {
          "base_uri": "https://localhost:8080/",
          "height": 405
        },
        "outputId": "a9b6ae8b-6c60-46ee-f367-c6a6a0e5c46b"
      },
      "source": [
        "# instantiating knn classifier with parameters from the grid search\n",
        "knnclassifopt = KNeighborsClassifier(metric='manhattan', n_neighbors=3, weights='uniform')\n",
        "\n",
        "# fitting the model with training data\n",
        "knnclassifopt.fit(ffeat_train, targg_train)\n",
        "\n",
        "# making predictions \n",
        "knnopt_pred = knnclassifopt.predict(ffeat_test)\n",
        "\n",
        "# print the confusion matrix \n",
        "print('\\nConfusion Matrix:\\n', metrics.confusion_matrix(targg_test, knnopt_pred))\n",
        "print('===='*20)\n",
        "# checking the accuracy score of the optimized model\n",
        "print('\\nAccuracy Score: %.2f%%' % (metrics.accuracy_score(targg_test, knnopt_pred) * 100))\n",
        "print('===='*20)\n",
        "# print classification report\n",
        "print('Classification report:\\n', metrics.classification_report(targg_test, knnopt_pred))\n",
        "print('===='*20)\n"
      ],
      "execution_count": 311,
      "outputs": [
        {
          "output_type": "execute_result",
          "data": {
            "text/plain": [
              "KNeighborsClassifier(algorithm='auto', leaf_size=30, metric='manhattan',\n",
              "                     metric_params=None, n_jobs=None, n_neighbors=3, p=2,\n",
              "                     weights='uniform')"
            ]
          },
          "metadata": {
            "tags": []
          },
          "execution_count": 311
        },
        {
          "output_type": "stream",
          "text": [
            "\n",
            "Confusion Matrix:\n",
            " [[184  43]\n",
            " [ 26 104]]\n",
            "================================================================================\n",
            "\n",
            "Accuracy Score: 80.67%\n",
            "================================================================================\n",
            "Classification report:\n",
            "               precision    recall  f1-score   support\n",
            "\n",
            "           0       0.88      0.81      0.84       227\n",
            "           1       0.71      0.80      0.75       130\n",
            "\n",
            "    accuracy                           0.81       357\n",
            "   macro avg       0.79      0.81      0.80       357\n",
            "weighted avg       0.81      0.81      0.81       357\n",
            "\n",
            "================================================================================\n"
          ],
          "name": "stdout"
        }
      ]
    },
    {
      "cell_type": "markdown",
      "metadata": {
        "id": "9anYfLw3SyLk",
        "colab_type": "text"
      },
      "source": [
        "Test size that recorded the highest accuracy was 0.3"
      ]
    },
    {
      "cell_type": "markdown",
      "metadata": {
        "id": "txUoQCCP0LEh",
        "colab_type": "text"
      },
      "source": [
        "## Challenging The Solution"
      ]
    },
    {
      "cell_type": "code",
      "metadata": {
        "id": "-66t9XVk0Oyr",
        "colab_type": "code",
        "colab": {
          "base_uri": "https://localhost:8080/",
          "height": 220
        },
        "outputId": "d84dfa02-1bd4-4ed3-86c0-ccacee52da7d"
      },
      "source": [
        "# random forest \n",
        "\n",
        "rforest = RandomForestClassifier(n_estimators=100, max_depth=5, n_jobs=-1, random_state=50)\n",
        "rforest.fit(feat_train, targ_train)\n",
        "\n",
        "rfpred = rforest.predict(feat_test)\n",
        "\n",
        "print('\\n'+'===='*20)\n",
        "rfacc = metrics.accuracy_score(targ_test, rfpred)\n",
        "rfacc = round(rfacc * 100, 2)\n",
        "rfacc\n",
        "print('\\n' +'===='*20)\n",
        "rafacc = rforest.score(feat_train, targ_train)\n",
        "rafacc = round(rafacc * 100, 2)\n",
        "rafacc"
      ],
      "execution_count": 312,
      "outputs": [
        {
          "output_type": "execute_result",
          "data": {
            "text/plain": [
              "RandomForestClassifier(bootstrap=True, class_weight=None, criterion='gini',\n",
              "                       max_depth=5, max_features='auto', max_leaf_nodes=None,\n",
              "                       min_impurity_decrease=0.0, min_impurity_split=None,\n",
              "                       min_samples_leaf=1, min_samples_split=2,\n",
              "                       min_weight_fraction_leaf=0.0, n_estimators=100,\n",
              "                       n_jobs=-1, oob_score=False, random_state=50, verbose=0,\n",
              "                       warm_start=False)"
            ]
          },
          "metadata": {
            "tags": []
          },
          "execution_count": 312
        },
        {
          "output_type": "stream",
          "text": [
            "\n",
            "================================================================================\n"
          ],
          "name": "stdout"
        },
        {
          "output_type": "execute_result",
          "data": {
            "text/plain": [
              "88.27"
            ]
          },
          "metadata": {
            "tags": []
          },
          "execution_count": 312
        },
        {
          "output_type": "stream",
          "text": [
            "\n",
            "================================================================================\n"
          ],
          "name": "stdout"
        },
        {
          "output_type": "execute_result",
          "data": {
            "text/plain": [
              "84.69"
            ]
          },
          "metadata": {
            "tags": []
          },
          "execution_count": 312
        }
      ]
    },
    {
      "cell_type": "code",
      "metadata": {
        "id": "X-mEE2P-3AYB",
        "colab_type": "code",
        "colab": {
          "base_uri": "https://localhost:8080/",
          "height": 240
        },
        "outputId": "9fe59bb2-230a-4bf7-a693-1a2541990f3f"
      },
      "source": [
        "# logistic regression\n",
        "logreg = LogisticRegression()\n",
        "logreg.fit(feat_train, targ_train)\n",
        "\n",
        "# making predictions\n",
        "logpred = logreg.predict(feat_test)\n",
        "\n",
        "print('\\n'+'===='*20)\n",
        "logacc = metrics.accuracy_score(targ_test, logpred)\n",
        "logacc = round(logacc * 100, 2)\n",
        "logacc\n",
        "print('\\n' +'===='*20)\n",
        "logtacc = logreg.score(feat_train, targ_train)\n",
        "logtacc = round(logtacc * 100, 2)\n",
        "logtacc"
      ],
      "execution_count": 313,
      "outputs": [
        {
          "output_type": "stream",
          "text": [
            "/usr/local/lib/python3.6/dist-packages/sklearn/linear_model/logistic.py:432: FutureWarning: Default solver will be changed to 'lbfgs' in 0.22. Specify a solver to silence this warning.\n",
            "  FutureWarning)\n"
          ],
          "name": "stderr"
        },
        {
          "output_type": "execute_result",
          "data": {
            "text/plain": [
              "LogisticRegression(C=1.0, class_weight=None, dual=False, fit_intercept=True,\n",
              "                   intercept_scaling=1, l1_ratio=None, max_iter=100,\n",
              "                   multi_class='warn', n_jobs=None, penalty='l2',\n",
              "                   random_state=None, solver='warn', tol=0.0001, verbose=0,\n",
              "                   warm_start=False)"
            ]
          },
          "metadata": {
            "tags": []
          },
          "execution_count": 313
        },
        {
          "output_type": "stream",
          "text": [
            "\n",
            "================================================================================\n"
          ],
          "name": "stdout"
        },
        {
          "output_type": "execute_result",
          "data": {
            "text/plain": [
              "84.92"
            ]
          },
          "metadata": {
            "tags": []
          },
          "execution_count": 313
        },
        {
          "output_type": "stream",
          "text": [
            "\n",
            "================================================================================\n"
          ],
          "name": "stdout"
        },
        {
          "output_type": "execute_result",
          "data": {
            "text/plain": [
              "80.76"
            ]
          },
          "metadata": {
            "tags": []
          },
          "execution_count": 313
        }
      ]
    },
    {
      "cell_type": "code",
      "metadata": {
        "id": "9nqVGc5N74O2",
        "colab_type": "code",
        "colab": {
          "base_uri": "https://localhost:8080/",
          "height": 220
        },
        "outputId": "e44e0141-242a-42d2-9d23-ffb8cddd0713"
      },
      "source": [
        "# xgboost classifier\n",
        "xgb = XGBClassifier(random_State=50, n_estimators=100)\n",
        "xgb.fit(feat_train, targ_train)\n",
        "\n",
        "xgbpred = xgb.predict(feat_test)\n",
        "\n",
        "print('\\n'+'===='*20)\n",
        "xgbacc = metrics.accuracy_score(targ_test, xgbpred)\n",
        "xgbacc = round(xgbacc * 100, 2)\n",
        "xgbacc\n",
        "print('\\n' +'===='*20)\n",
        "xgbtacc = xgb.score(feat_train, targ_train)\n",
        "xgbtacc = round(xgbtacc * 100, 2)\n",
        "xgbtacc"
      ],
      "execution_count": 314,
      "outputs": [
        {
          "output_type": "execute_result",
          "data": {
            "text/plain": [
              "XGBClassifier(base_score=0.5, booster='gbtree', colsample_bylevel=1,\n",
              "              colsample_bynode=1, colsample_bytree=1, gamma=0,\n",
              "              learning_rate=0.1, max_delta_step=0, max_depth=3,\n",
              "              min_child_weight=1, missing=None, n_estimators=100, n_jobs=1,\n",
              "              nthread=None, objective='binary:logistic', random_State=50,\n",
              "              random_state=0, reg_alpha=0, reg_lambda=1, scale_pos_weight=1,\n",
              "              seed=None, silent=None, subsample=1, verbosity=1)"
            ]
          },
          "metadata": {
            "tags": []
          },
          "execution_count": 314
        },
        {
          "output_type": "stream",
          "text": [
            "\n",
            "================================================================================\n"
          ],
          "name": "stdout"
        },
        {
          "output_type": "execute_result",
          "data": {
            "text/plain": [
              "87.15"
            ]
          },
          "metadata": {
            "tags": []
          },
          "execution_count": 314
        },
        {
          "output_type": "stream",
          "text": [
            "\n",
            "================================================================================\n"
          ],
          "name": "stdout"
        },
        {
          "output_type": "execute_result",
          "data": {
            "text/plain": [
              "88.48"
            ]
          },
          "metadata": {
            "tags": []
          },
          "execution_count": 314
        }
      ]
    },
    {
      "cell_type": "code",
      "metadata": {
        "id": "2GgSgj38-C6Q",
        "colab_type": "code",
        "colab": {
          "base_uri": "https://localhost:8080/",
          "height": 109
        },
        "outputId": "b300f12f-373f-4fb5-9bb7-3d8fa3ad2b50"
      },
      "source": [
        "# naive bayes using gaussian\n",
        "gauss = GaussianNB()\n",
        "gauss.fit(feat_train, targ_train)\n",
        "\n",
        "gausspred = gauss.predict(feat_test)\n",
        "\n",
        "print('\\n'+'===='*20)\n",
        "gacc = metrics.accuracy_score(targ_test, gausspred)\n",
        "gacc = round(gacc * 100, 2)\n",
        "gacc\n",
        "print('\\n' +'===='*20)\n",
        "gtacc = gauss.score(feat_train, targ_train)\n",
        "gtacc = round(gtacc * 100, 2)\n",
        "gtacc"
      ],
      "execution_count": 315,
      "outputs": [
        {
          "output_type": "execute_result",
          "data": {
            "text/plain": [
              "GaussianNB(priors=None, var_smoothing=1e-09)"
            ]
          },
          "metadata": {
            "tags": []
          },
          "execution_count": 315
        },
        {
          "output_type": "stream",
          "text": [
            "\n",
            "================================================================================\n"
          ],
          "name": "stdout"
        },
        {
          "output_type": "execute_result",
          "data": {
            "text/plain": [
              "84.36"
            ]
          },
          "metadata": {
            "tags": []
          },
          "execution_count": 315
        },
        {
          "output_type": "stream",
          "text": [
            "\n",
            "================================================================================\n"
          ],
          "name": "stdout"
        },
        {
          "output_type": "execute_result",
          "data": {
            "text/plain": [
              "79.49"
            ]
          },
          "metadata": {
            "tags": []
          },
          "execution_count": 315
        }
      ]
    },
    {
      "cell_type": "code",
      "metadata": {
        "id": "vIa2oYnA-rY0",
        "colab_type": "code",
        "colab": {
          "base_uri": "https://localhost:8080/",
          "height": 175
        },
        "outputId": "2cf45cde-6592-470f-b442-9aaff701f2b9"
      },
      "source": [
        "# creating a dataframe with two columns: model and test accuracy score\n",
        "results = pd.DataFrame({'Model': ['Naive Bayes Gaussian', 'Random Forest', 'XGBoost', 'Logistic Regression'],\n",
        "                      'Test Accuracy Score': [gacc, rfacc, xgbacc, logacc]})\n",
        "# sorting the datframe by the values in the test accuracy score column\n",
        "results.sort_values('Test Accuracy Score', ascending=False, inplace=True)\n",
        "\n",
        "results"
      ],
      "execution_count": 316,
      "outputs": [
        {
          "output_type": "execute_result",
          "data": {
            "text/html": [
              "<div>\n",
              "<style scoped>\n",
              "    .dataframe tbody tr th:only-of-type {\n",
              "        vertical-align: middle;\n",
              "    }\n",
              "\n",
              "    .dataframe tbody tr th {\n",
              "        vertical-align: top;\n",
              "    }\n",
              "\n",
              "    .dataframe thead th {\n",
              "        text-align: right;\n",
              "    }\n",
              "</style>\n",
              "<table border=\"1\" class=\"dataframe\">\n",
              "  <thead>\n",
              "    <tr style=\"text-align: right;\">\n",
              "      <th></th>\n",
              "      <th>Model</th>\n",
              "      <th>Test Accuracy Score</th>\n",
              "    </tr>\n",
              "  </thead>\n",
              "  <tbody>\n",
              "    <tr>\n",
              "      <th>1</th>\n",
              "      <td>Random Forest</td>\n",
              "      <td>88.27</td>\n",
              "    </tr>\n",
              "    <tr>\n",
              "      <th>2</th>\n",
              "      <td>XGBoost</td>\n",
              "      <td>87.15</td>\n",
              "    </tr>\n",
              "    <tr>\n",
              "      <th>3</th>\n",
              "      <td>Logistic Regression</td>\n",
              "      <td>84.92</td>\n",
              "    </tr>\n",
              "    <tr>\n",
              "      <th>0</th>\n",
              "      <td>Naive Bayes Gaussian</td>\n",
              "      <td>84.36</td>\n",
              "    </tr>\n",
              "  </tbody>\n",
              "</table>\n",
              "</div>"
            ],
            "text/plain": [
              "                  Model  Test Accuracy Score\n",
              "1         Random Forest                88.27\n",
              "2               XGBoost                87.15\n",
              "3   Logistic Regression                84.92\n",
              "0  Naive Bayes Gaussian                84.36"
            ]
          },
          "metadata": {
            "tags": []
          },
          "execution_count": 316
        }
      ]
    },
    {
      "cell_type": "markdown",
      "metadata": {
        "id": "stzYm1ihAb0r",
        "colab_type": "text"
      },
      "source": [
        "XGBoost and Random forest classifiers exhibit higher accuracy than the knn classifier. The two may be considered in place of a knn classifier\n",
        "\n"
      ]
    },
    {
      "cell_type": "code",
      "metadata": {
        "id": "Uo4K6Xl1BA86",
        "colab_type": "code",
        "colab": {
          "base_uri": "https://localhost:8080/",
          "height": 146
        },
        "outputId": "f538f4fa-af73-4c0f-f5be-f54fdfc78465"
      },
      "source": [
        "# evaluating the performance of the random forest classifier\n",
        "\n",
        "# instantiating the classifier\n",
        "rfc = RandomForestClassifier(max_depth=5, n_estimators=100, n_jobs=-1, random_state=50)\n",
        "\n",
        "# getting the cross val score of the model with the training set\n",
        "scores = cross_val_score(rfc, feat_train, targ_train, cv=10, scoring='accuracy', n_jobs=-1)\n",
        "print('Scores:', scores)\n",
        "print('===='*20)\n",
        "\n",
        "print('Mean:', scores.mean())\n",
        "print('===='*20)\n",
        "print('Standard Deviation:', scores.std())\n",
        "print('===='*20)"
      ],
      "execution_count": 317,
      "outputs": [
        {
          "output_type": "stream",
          "text": [
            "Scores: [0.82191781 0.77464789 0.8028169  0.84507042 0.81690141 0.83098592\n",
            " 0.83098592 0.74647887 0.85915493 0.78873239]\n",
            "================================================================================\n",
            "Mean: 0.8117692456106502\n",
            "================================================================================\n",
            "Standard Deviation: 0.03236345716719157\n",
            "================================================================================\n"
          ],
          "name": "stdout"
        }
      ]
    },
    {
      "cell_type": "code",
      "metadata": {
        "id": "_w2OSgbNDh33",
        "colab_type": "code",
        "colab": {
          "base_uri": "https://localhost:8080/",
          "height": 35
        },
        "outputId": "1e7e5b94-ebd2-4d1d-de8c-099e775fe771"
      },
      "source": [
        "scores.std()/scores.mean() * 100"
      ],
      "execution_count": 318,
      "outputs": [
        {
          "output_type": "execute_result",
          "data": {
            "text/plain": [
              "3.9867803987629866"
            ]
          },
          "metadata": {
            "tags": []
          },
          "execution_count": 318
        }
      ]
    },
    {
      "cell_type": "markdown",
      "metadata": {
        "id": "OoVZvPXPETfn",
        "colab_type": "text"
      },
      "source": [
        "The std is approximately 3.9%, meaning that the accuracy of the model can differ by roughly 4%"
      ]
    },
    {
      "cell_type": "code",
      "metadata": {
        "id": "j9xnim0aEvxF",
        "colab_type": "code",
        "colab": {}
      },
      "source": [
        ""
      ],
      "execution_count": 0,
      "outputs": []
    },
    {
      "cell_type": "markdown",
      "metadata": {
        "id": "EGA3f8grExm8",
        "colab_type": "text"
      },
      "source": [
        "## Conclusion"
      ]
    },
    {
      "cell_type": "markdown",
      "metadata": {
        "id": "fJTfqM0SE0Zf",
        "colab_type": "text"
      },
      "source": [
        "We get the highest accuracy when the ratio of train and test sets is 80:20\n",
        "\n",
        "The knn classifier performs fairly well in predicting the chances of passengers survival in case of an accident, with an accuracy of 84.92%\n",
        "\n",
        "We can get better predictions by using the random forest classifier as the prediction model."
      ]
    }
  ]
}